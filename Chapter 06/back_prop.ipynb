{
 "cells": [
  {
   "cell_type": "code",
   "execution_count": 1,
   "metadata": {},
   "outputs": [],
   "source": [
    "import tensorflow as tf"
   ]
  },
  {
   "cell_type": "code",
   "execution_count": 2,
   "metadata": {},
   "outputs": [],
   "source": [
    "layer = tf.keras.layers.Dense(4, activation=tf.nn.sigmoid)"
   ]
  },
  {
   "cell_type": "code",
   "execution_count": 29,
   "metadata": {},
   "outputs": [
    {
     "name": "stdout",
     "output_type": "stream",
     "text": [
      "tf.Tensor(\n",
      "[[-0.15682119 -0.2171534  -1.5727938  -0.20752263]\n",
      " [ 0.6697627   0.18425506 -0.11356848 -0.8887865 ]], shape=(2, 4), dtype=float32)\n"
     ]
    }
   ],
   "source": [
    "x = tf.random.normal([2,3])\n",
    "print (x)"
   ]
  },
  {
   "cell_type": "code",
   "execution_count": 25,
   "metadata": {},
   "outputs": [
    {
     "data": {
      "text/plain": [
       "(TensorShape([4, 4]), TensorShape([2, 4]))"
      ]
     },
     "execution_count": 25,
     "metadata": {},
     "output_type": "execute_result"
    }
   ],
   "source": [
    "y = layer(x)\n",
    "layer.kernel.shape, y.shape"
   ]
  },
  {
   "cell_type": "code",
   "execution_count": 26,
   "metadata": {
    "scrolled": true
   },
   "outputs": [
    {
     "data": {
      "text/plain": [
       "<tf.Tensor: shape=(2, 4, 2, 4), dtype=float32, numpy=\n",
       "array([[[[0.23882198, 0.        , 0.        , 0.        ],\n",
       "         [0.        , 0.        , 0.        , 0.        ]],\n",
       "\n",
       "        [[0.        , 0.20219938, 0.        , 0.        ],\n",
       "         [0.        , 0.        , 0.        , 0.        ]],\n",
       "\n",
       "        [[0.        , 0.        , 0.2476294 , 0.        ],\n",
       "         [0.        , 0.        , 0.        , 0.        ]],\n",
       "\n",
       "        [[0.        , 0.        , 0.        , 0.24545556],\n",
       "         [0.        , 0.        , 0.        , 0.        ]]],\n",
       "\n",
       "\n",
       "       [[[0.        , 0.        , 0.        , 0.        ],\n",
       "         [0.16883923, 0.        , 0.        , 0.        ]],\n",
       "\n",
       "        [[0.        , 0.        , 0.        , 0.        ],\n",
       "         [0.        , 0.14157806, 0.        , 0.        ]],\n",
       "\n",
       "        [[0.        , 0.        , 0.        , 0.        ],\n",
       "         [0.        , 0.        , 0.20261309, 0.        ]],\n",
       "\n",
       "        [[0.        , 0.        , 0.        , 0.        ],\n",
       "         [0.        , 0.        , 0.        , 0.24741662]]]],\n",
       "      dtype=float32)>"
      ]
     },
     "execution_count": 26,
     "metadata": {},
     "output_type": "execute_result"
    }
   ],
   "source": [
    "with tf.GradientTape(persistent=True) as tape:\n",
    "    #y = layer(x)\n",
    "    y = tf.matmul(x,layer.kernel)\n",
    "    z = tf.sigmoid(y)\n",
    "    tape.watch(z)\n",
    "j = tape.jacobian(z, y)\n",
    "j"
   ]
  },
  {
   "cell_type": "code",
   "execution_count": 3,
   "metadata": {},
   "outputs": [
    {
     "data": {
      "text/plain": [
       "TensorShape([2, 4])"
      ]
     },
     "execution_count": 3,
     "metadata": {},
     "output_type": "execute_result"
    }
   ],
   "source": [
    "import tensorflow as tf\n",
    "#create a Sigmoid layer with 4 output neurons\n",
    "tf.random.set_seed(42)\n",
    "layer = tf.keras.layers.Dense(4, activation=tf.nn.sigmoid)\n",
    "#create a input tensor 3 neurons\n",
    "x = tf.random.normal([2,3])\n",
    "z = layer(x)\n",
    "z.shape"
   ]
  },
  {
   "cell_type": "code",
   "execution_count": 56,
   "metadata": {},
   "outputs": [
    {
     "data": {
      "text/plain": [
       "<tf.Tensor: shape=(2, 4, 3, 4), dtype=float32, numpy=\n",
       "array([[[[ 0.3274685,  0.       ,  0.       ,  0.       ],\n",
       "         [-0.8426258,  0.       ,  0.       ,  0.       ],\n",
       "         [ 0.3194337,  0.       ,  0.       ,  0.       ]],\n",
       "\n",
       "        [[ 0.       ,  0.3274685,  0.       ,  0.       ],\n",
       "         [ 0.       , -0.8426258,  0.       ,  0.       ],\n",
       "         [ 0.       ,  0.3194337,  0.       ,  0.       ]],\n",
       "\n",
       "        [[ 0.       ,  0.       ,  0.3274685,  0.       ],\n",
       "         [ 0.       ,  0.       , -0.8426258,  0.       ],\n",
       "         [ 0.       ,  0.       ,  0.3194337,  0.       ]],\n",
       "\n",
       "        [[ 0.       ,  0.       ,  0.       ,  0.3274685],\n",
       "         [ 0.       ,  0.       ,  0.       , -0.8426258],\n",
       "         [ 0.       ,  0.       ,  0.       ,  0.3194337]]],\n",
       "\n",
       "\n",
       "       [[[-1.4075519,  0.       ,  0.       ,  0.       ],\n",
       "         [-2.3880599,  0.       ,  0.       ,  0.       ],\n",
       "         [-1.0392479,  0.       ,  0.       ,  0.       ]],\n",
       "\n",
       "        [[ 0.       , -1.4075519,  0.       ,  0.       ],\n",
       "         [ 0.       , -2.3880599,  0.       ,  0.       ],\n",
       "         [ 0.       , -1.0392479,  0.       ,  0.       ]],\n",
       "\n",
       "        [[ 0.       ,  0.       , -1.4075519,  0.       ],\n",
       "         [ 0.       ,  0.       , -2.3880599,  0.       ],\n",
       "         [ 0.       ,  0.       , -1.0392479,  0.       ]],\n",
       "\n",
       "        [[ 0.       ,  0.       ,  0.       , -1.4075519],\n",
       "         [ 0.       ,  0.       ,  0.       , -2.3880599],\n",
       "         [ 0.       ,  0.       ,  0.       , -1.0392479]]]],\n",
       "      dtype=float32)>"
      ]
     },
     "execution_count": 56,
     "metadata": {},
     "output_type": "execute_result"
    }
   ],
   "source": [
    "with tf.GradientTape(persistent=True) as tape:\n",
    "    #y = layer(x)\n",
    "    y = tf.matmul(x,layer.kernel)\n",
    "    z = tf.sigmoid(y)\n",
    "    tape.watch(z)\n",
    "j1 = tape.jacobian(y, layer.kernel)\n",
    "j1"
   ]
  },
  {
   "cell_type": "code",
   "execution_count": 4,
   "metadata": {},
   "outputs": [
    {
     "name": "stdout",
     "output_type": "stream",
     "text": [
      "tf.Tensor(\n",
      "[[[[ 0.07960078  0.          0.          0.        ]\n",
      "   [-0.20482479  0.          0.          0.        ]\n",
      "   [ 0.07764768  0.          0.          0.        ]]\n",
      "\n",
      "  [[ 0.          0.07504999  0.          0.        ]\n",
      "   [ 0.         -0.19311492  0.          0.        ]\n",
      "   [ 0.          0.07320855  0.          0.        ]]\n",
      "\n",
      "  [[ 0.          0.          0.0754204   0.        ]\n",
      "   [ 0.          0.         -0.19406806  0.        ]\n",
      "   [ 0.          0.          0.07356987  0.        ]]\n",
      "\n",
      "  [[ 0.          0.          0.          0.07831872]\n",
      "   [ 0.          0.          0.         -0.20152585]\n",
      "   [ 0.          0.          0.          0.07639708]]]\n",
      "\n",
      "\n",
      " [[[-0.24746819  0.          0.          0.        ]\n",
      "   [-0.41985583  0.          0.          0.        ]\n",
      "   [-0.18271497  0.          0.          0.        ]]\n",
      "\n",
      "  [[ 0.         -0.1730371   0.          0.        ]\n",
      "   [ 0.         -0.29357564  0.          0.        ]\n",
      "   [ 0.         -0.12775972  0.          0.        ]]\n",
      "\n",
      "  [[ 0.          0.         -0.08751044  0.        ]\n",
      "   [ 0.          0.         -0.14847067  0.        ]\n",
      "   [ 0.          0.         -0.06461221  0.        ]]\n",
      "\n",
      "  [[ 0.          0.          0.         -0.29687065]\n",
      "   [ 0.          0.          0.         -0.5036723 ]\n",
      "   [ 0.          0.          0.         -0.21919064]]]], shape=(2, 4, 3, 4), dtype=float32)\n"
     ]
    }
   ],
   "source": [
    "with tf.GradientTape(persistent=True) as tape:\n",
    "    z = layer(x)\n",
    "j = tape.jacobian(z, layer.kernel)\n",
    "print(j)"
   ]
  },
  {
   "cell_type": "code",
   "execution_count": 45,
   "metadata": {},
   "outputs": [
    {
     "data": {
      "text/plain": [
       "array([1., 0., 0., 0.], dtype=float32)"
      ]
     },
     "execution_count": 45,
     "metadata": {},
     "output_type": "execute_result"
    }
   ],
   "source": [
    "e1, e2, e3, e4 = tf.eye(4).numpy()\n",
    "e1"
   ]
  },
  {
   "cell_type": "code",
   "execution_count": 54,
   "metadata": {},
   "outputs": [
    {
     "data": {
      "text/plain": [
       "<tf.Tensor: shape=(4, 4, 4), dtype=float32, numpy=\n",
       "array([[[ 0.02505624,  0.03619251, -0.17879818,  0.12234793],\n",
       "        [ 0.        ,  0.        ,  0.        ,  0.        ],\n",
       "        [ 0.        ,  0.        ,  0.        ,  0.        ],\n",
       "        [ 0.        ,  0.        ,  0.        ,  0.        ]],\n",
       "\n",
       "       [[ 0.        ,  0.        ,  0.        ,  0.        ],\n",
       "        [ 0.02497404,  0.03607376, -0.17821154,  0.12194651],\n",
       "        [ 0.        ,  0.        ,  0.        ,  0.        ],\n",
       "        [ 0.        ,  0.        ,  0.        ,  0.        ]],\n",
       "\n",
       "       [[ 0.        ,  0.        ,  0.        ,  0.        ],\n",
       "        [ 0.        ,  0.        ,  0.        ,  0.        ],\n",
       "        [ 0.02311045,  0.0333819 , -0.16491322,  0.11284673],\n",
       "        [ 0.        ,  0.        ,  0.        ,  0.        ]],\n",
       "\n",
       "       [[ 0.        ,  0.        ,  0.        ,  0.        ],\n",
       "        [ 0.        ,  0.        ,  0.        ,  0.        ],\n",
       "        [ 0.        ,  0.        ,  0.        ,  0.        ],\n",
       "        [ 0.02508561,  0.03623493, -0.17900777,  0.12249134]]],\n",
       "      dtype=float32)>"
      ]
     },
     "execution_count": 54,
     "metadata": {},
     "output_type": "execute_result"
    }
   ],
   "source": [
    "out = None\n",
    "z1 = tf.matmul(tf.transpose(layer.kernel),tf.transpose(x)).numpy()\n",
    "for k, ek in enumerate([e1,e2,e3,e4]):\n",
    "    for j, ej in enumerate([e1,e2,e3,e4]):\n",
    "        tmp = tf.tensordot(ej, ek, axes=0)\n",
    "        u = x[0][k]*tf.nn.sigmoid(z1[j][0])*(1-tf.nn.sigmoid(z1[j][0]))*ej \n",
    "        if out is None:    \n",
    "            out = tf.tensordot(u , tmp, axes=0)\n",
    "        else:\n",
    "            out += tf.tensordot(u , tmp, axes=0)\n",
    "out            "
   ]
  },
  {
   "cell_type": "code",
   "execution_count": 55,
   "metadata": {},
   "outputs": [
    {
     "data": {
      "text/plain": [
       "array([[ 0.22781518,  0.22349454],\n",
       "       [-0.2551657 , -0.6303885 ],\n",
       "       [ 0.6172855 ,  0.21629965],\n",
       "       [ 0.21724278,  0.43189365]], dtype=float32)"
      ]
     },
     "execution_count": 55,
     "metadata": {},
     "output_type": "execute_result"
    }
   ],
   "source": [
    "z1 = tf.matmul(tf.transpose(layer.kernel),tf.transpose(x)).numpy()\n",
    "z1"
   ]
  },
  {
   "cell_type": "code",
   "execution_count": 56,
   "metadata": {},
   "outputs": [
    {
     "data": {
      "text/plain": [
       "array([[ 0.22781515, -0.25516564,  0.6172855 ,  0.21724276],\n",
       "       [ 0.22349453, -0.6303885 ,  0.21629965,  0.43189365]],\n",
       "      dtype=float32)"
      ]
     },
     "execution_count": 56,
     "metadata": {},
     "output_type": "execute_result"
    }
   ],
   "source": [
    "z1 = tf.matmul(x, layer.kernel).numpy()\n",
    "z1"
   ]
  },
  {
   "cell_type": "code",
   "execution_count": 52,
   "metadata": {},
   "outputs": [],
   "source": [
    "#batch dim\n",
    "b1, b2 = tf.eye(2).numpy()\n",
    "#create the unit tensors ek abd ej\n",
    "e1, e2, e3 = tf.eye(3).numpy()\n",
    "f1, f2, f3, f4 = tf.eye(4).numpy()"
   ]
  },
  {
   "cell_type": "code",
   "execution_count": 53,
   "metadata": {},
   "outputs": [
    {
     "data": {
      "text/plain": [
       "<tf.Tensor: shape=(2, 4, 3, 4), dtype=float32, numpy=\n",
       "array([[[[-0.32016885,  0.        ,  0.        ,  0.        ],\n",
       "         [-0.08274183,  0.        ,  0.        ,  0.        ],\n",
       "         [ 0.24561524,  0.        ,  0.        ,  0.        ]],\n",
       "\n",
       "        [[ 0.        , -0.24315913,  0.        ,  0.        ],\n",
       "         [ 0.        , -0.06284007,  0.        ,  0.        ],\n",
       "         [ 0.        ,  0.18653779,  0.        ,  0.        ]],\n",
       "\n",
       "        [[ 0.        ,  0.        , -0.32649165,  0.        ],\n",
       "         [ 0.        ,  0.        , -0.08437586,  0.        ],\n",
       "         [ 0.        ,  0.        ,  0.25046575,  0.        ]],\n",
       "\n",
       "        [[ 0.        ,  0.        ,  0.        , -0.27656832],\n",
       "         [ 0.        ,  0.        ,  0.        , -0.07147407],\n",
       "         [ 0.        ,  0.        ,  0.        ,  0.21216741]]],\n",
       "\n",
       "\n",
       "       [[[ 0.02925581,  0.        ,  0.        ,  0.        ],\n",
       "         [ 0.0272547 ,  0.        ,  0.        ,  0.        ],\n",
       "         [ 0.15074648,  0.        ,  0.        ,  0.        ]],\n",
       "\n",
       "        [[ 0.        ,  0.03070464,  0.        ,  0.        ],\n",
       "         [ 0.        ,  0.02860443,  0.        ,  0.        ],\n",
       "         [ 0.        ,  0.15821186,  0.        ,  0.        ]],\n",
       "\n",
       "        [[ 0.        ,  0.        ,  0.02932444,  0.        ],\n",
       "         [ 0.        ,  0.        ,  0.02731864,  0.        ],\n",
       "         [ 0.        ,  0.        ,  0.15110011,  0.        ]],\n",
       "\n",
       "        [[ 0.        ,  0.        ,  0.        ,  0.02952636],\n",
       "         [ 0.        ,  0.        ,  0.        ,  0.02750675],\n",
       "         [ 0.        ,  0.        ,  0.        ,  0.15214053]]]],\n",
       "      dtype=float32)>"
      ]
     },
     "execution_count": 53,
     "metadata": {},
     "output_type": "execute_result"
    }
   ],
   "source": [
    "out = None\n",
    "y = tf.matmul(x, layer.kernel).numpy()\n",
    "for b, eb in enumerate([b1,b2]):\n",
    "    for k, ek in enumerate([f1,f2,f3,f4]):\n",
    "        for j, ej in enumerate([e1,e2,e3]):\n",
    "            tmp = tf.tensordot(ej, ek, axes=0)\n",
    "            u = x[b][j]*tf.nn.sigmoid(y[b][k])*(1-tf.nn.sigmoid(y[b][k]))*ek \n",
    "            v = tf.tensordot( eb,u, axes=0)\n",
    "            if out is None:    \n",
    "                out = tf.tensordot(v , tmp, axes=0)\n",
    "            else:\n",
    "                out += tf.tensordot(v , tmp, axes=0)\n",
    "out            "
   ]
  },
  {
   "cell_type": "code",
   "execution_count": 5,
   "metadata": {},
   "outputs": [
    {
     "name": "stdout",
     "output_type": "stream",
     "text": [
      "tf.Tensor(\n",
      "[[[[ 0.07960079  0.          0.          0.        ]\n",
      "   [-0.2048248   0.          0.          0.        ]\n",
      "   [ 0.07764769  0.          0.          0.        ]]\n",
      "\n",
      "  [[ 0.          0.07504999  0.          0.        ]\n",
      "   [ 0.         -0.1931149   0.          0.        ]\n",
      "   [ 0.          0.07320855  0.          0.        ]]\n",
      "\n",
      "  [[ 0.          0.          0.0754204   0.        ]\n",
      "   [ 0.          0.         -0.19406804  0.        ]\n",
      "   [ 0.          0.          0.07356987  0.        ]]\n",
      "\n",
      "  [[ 0.          0.          0.          0.07831872]\n",
      "   [ 0.          0.          0.         -0.20152584]\n",
      "   [ 0.          0.          0.          0.07639708]]]\n",
      "\n",
      "\n",
      " [[[-0.24746819  0.          0.          0.        ]\n",
      "   [-0.41985583  0.          0.          0.        ]\n",
      "   [-0.18271497  0.          0.          0.        ]]\n",
      "\n",
      "  [[ 0.         -0.17303711  0.          0.        ]\n",
      "   [ 0.         -0.29357567  0.          0.        ]\n",
      "   [ 0.         -0.12775972  0.          0.        ]]\n",
      "\n",
      "  [[ 0.          0.         -0.08751045  0.        ]\n",
      "   [ 0.          0.         -0.14847068  0.        ]\n",
      "   [ 0.          0.         -0.06461222  0.        ]]\n",
      "\n",
      "  [[ 0.          0.          0.         -0.29687065]\n",
      "   [ 0.          0.          0.         -0.50367236]\n",
      "   [ 0.          0.          0.         -0.21919064]]]], shape=(2, 4, 3, 4), dtype=float32)\n"
     ]
    }
   ],
   "source": [
    "#batch dim\n",
    "b1, b2 = tf.eye(2).numpy()\n",
    "#create the unit tensors ek abd ej\n",
    "e1, e2, e3 = tf.eye(3).numpy()\n",
    "f1, f2, f3, f4 = tf.eye(4).numpy()\n",
    "\n",
    "#Compute Derivative \n",
    "jacobian = None\n",
    "y = tf.matmul(x, layer.kernel).numpy()\n",
    "for b, eb in enumerate([b1,b2]):\n",
    "    for k, ek in enumerate([f1,f2,f3,f4]):\n",
    "        for j, ej in enumerate([e1,e2,e3]):\n",
    "            tmp = tf.tensordot(ej, ek, axes=0)\n",
    "            u = x[b][j]*tf.nn.sigmoid(y[b][k])*(1-tf.nn.sigmoid(y[b][k]))*ek \n",
    "            v = tf.tensordot( eb,u, axes=0)\n",
    "            if jacobian is None:    \n",
    "                jacobian = tf.tensordot(v , tmp, axes=0)\n",
    "            else:\n",
    "                jacobian += tf.tensordot(v , tmp, axes=0)\n",
    "print(jacobian)            "
   ]
  },
  {
   "cell_type": "code",
   "execution_count": 61,
   "metadata": {},
   "outputs": [
    {
     "data": {
      "text/plain": [
       "<tf.Tensor: shape=(2, 4), dtype=float32, numpy=\n",
       "array([[0.24678412, 0.2459744 , 0.22761956, 0.2470734 ],\n",
       "       [0.24690394, 0.22672008, 0.24709855, 0.23869483]], dtype=float32)>"
      ]
     },
     "execution_count": 61,
     "metadata": {},
     "output_type": "execute_result"
    }
   ],
   "source": [
    "z1 = tf.matmul(x, layer.kernel).numpy()\n",
    "sigmoid_partials = tf.sigmoid(z1)*(1-tf.sigmoid(z1))\n",
    "sigmoid_partials"
   ]
  },
  {
   "cell_type": "code",
   "execution_count": 103,
   "metadata": {},
   "outputs": [
    {
     "ename": "TypeError",
     "evalue": "Invalid keyword arguments for einsum: axes",
     "output_type": "error",
     "traceback": [
      "\u001b[1;31m---------------------------------------------------------------------------\u001b[0m",
      "\u001b[1;31mTypeError\u001b[0m                                 Traceback (most recent call last)",
      "\u001b[1;32m<ipython-input-103-7348166b44ac>\u001b[0m in \u001b[0;36m<module>\u001b[1;34m\u001b[0m\n\u001b[0;32m      8\u001b[0m             \u001b[1;31m#v = tf.tensordot( eb,u, axes=0)\u001b[0m\u001b[1;33m\u001b[0m\u001b[1;33m\u001b[0m\u001b[1;33m\u001b[0m\u001b[0m\n\u001b[0;32m      9\u001b[0m             \u001b[1;32mif\u001b[0m \u001b[0mout\u001b[0m \u001b[1;32mis\u001b[0m \u001b[1;32mNone\u001b[0m\u001b[1;33m:\u001b[0m\u001b[1;33m\u001b[0m\u001b[1;33m\u001b[0m\u001b[0m\n\u001b[1;32m---> 10\u001b[1;33m                 \u001b[0mout\u001b[0m \u001b[1;33m=\u001b[0m \u001b[0mtf\u001b[0m\u001b[1;33m.\u001b[0m\u001b[0meinsum\u001b[0m\u001b[1;33m(\u001b[0m\u001b[1;34m'bjk,bl->bjl'\u001b[0m\u001b[1;33m,\u001b[0m\u001b[0mu\u001b[0m \u001b[1;33m,\u001b[0m \u001b[0mtmp\u001b[0m\u001b[1;33m,\u001b[0m \u001b[0maxes\u001b[0m\u001b[1;33m=\u001b[0m\u001b[1;36m0\u001b[0m\u001b[1;33m)\u001b[0m\u001b[1;33m\u001b[0m\u001b[1;33m\u001b[0m\u001b[0m\n\u001b[0m\u001b[0;32m     11\u001b[0m             \u001b[1;32melse\u001b[0m\u001b[1;33m:\u001b[0m\u001b[1;33m\u001b[0m\u001b[1;33m\u001b[0m\u001b[0m\n\u001b[0;32m     12\u001b[0m                 \u001b[0mout\u001b[0m \u001b[1;33m+=\u001b[0m \u001b[0mtf\u001b[0m\u001b[1;33m.\u001b[0m\u001b[0meinsum\u001b[0m\u001b[1;33m(\u001b[0m\u001b[1;34m'bjk,bl->bjl'\u001b[0m\u001b[1;33m,\u001b[0m\u001b[0mu\u001b[0m \u001b[1;33m,\u001b[0m \u001b[0mtmp\u001b[0m\u001b[1;33m,\u001b[0m \u001b[0maxes\u001b[0m\u001b[1;33m=\u001b[0m\u001b[1;36m0\u001b[0m\u001b[1;33m)\u001b[0m\u001b[1;33m\u001b[0m\u001b[1;33m\u001b[0m\u001b[0m\n",
      "\u001b[1;32m~\\AppData\\Local\\Continuum\\anaconda3\\envs\\dl2\\lib\\site-packages\\tensorflow_core\\python\\ops\\special_math_ops.py\u001b[0m in \u001b[0;36meinsum\u001b[1;34m(equation, *inputs, **kwargs)\u001b[0m\n\u001b[0;32m    253\u001b[0m   \"\"\"\n\u001b[0;32m    254\u001b[0m   \u001b[1;32mif\u001b[0m \u001b[0mfwd_compat\u001b[0m\u001b[1;33m.\u001b[0m\u001b[0mforward_compatible\u001b[0m\u001b[1;33m(\u001b[0m\u001b[1;36m2019\u001b[0m\u001b[1;33m,\u001b[0m \u001b[1;36m10\u001b[0m\u001b[1;33m,\u001b[0m \u001b[1;36m18\u001b[0m\u001b[1;33m)\u001b[0m\u001b[1;33m:\u001b[0m\u001b[1;33m\u001b[0m\u001b[1;33m\u001b[0m\u001b[0m\n\u001b[1;32m--> 255\u001b[1;33m     \u001b[1;32mreturn\u001b[0m \u001b[0m_einsum_v2\u001b[0m\u001b[1;33m(\u001b[0m\u001b[0mequation\u001b[0m\u001b[1;33m,\u001b[0m \u001b[1;33m*\u001b[0m\u001b[0minputs\u001b[0m\u001b[1;33m,\u001b[0m \u001b[1;33m**\u001b[0m\u001b[0mkwargs\u001b[0m\u001b[1;33m)\u001b[0m\u001b[1;33m\u001b[0m\u001b[1;33m\u001b[0m\u001b[0m\n\u001b[0m\u001b[0;32m    256\u001b[0m   \u001b[1;32melse\u001b[0m\u001b[1;33m:\u001b[0m\u001b[1;33m\u001b[0m\u001b[1;33m\u001b[0m\u001b[0m\n\u001b[0;32m    257\u001b[0m     \u001b[1;32mreturn\u001b[0m \u001b[0m_einsum_v1\u001b[0m\u001b[1;33m(\u001b[0m\u001b[0mequation\u001b[0m\u001b[1;33m,\u001b[0m \u001b[1;33m*\u001b[0m\u001b[0minputs\u001b[0m\u001b[1;33m,\u001b[0m \u001b[1;33m**\u001b[0m\u001b[0mkwargs\u001b[0m\u001b[1;33m)\u001b[0m\u001b[1;33m\u001b[0m\u001b[1;33m\u001b[0m\u001b[0m\n",
      "\u001b[1;32m~\\AppData\\Local\\Continuum\\anaconda3\\envs\\dl2\\lib\\site-packages\\tensorflow_core\\python\\ops\\special_math_ops.py\u001b[0m in \u001b[0;36m_einsum_v2\u001b[1;34m(equation, *inputs, **kwargs)\u001b[0m\n\u001b[0;32m    662\u001b[0m   \u001b[1;32mif\u001b[0m \u001b[0mkwargs\u001b[0m\u001b[1;33m:\u001b[0m\u001b[1;33m\u001b[0m\u001b[1;33m\u001b[0m\u001b[0m\n\u001b[0;32m    663\u001b[0m     \u001b[0mmsg\u001b[0m \u001b[1;33m=\u001b[0m \u001b[1;34m'Invalid keyword arguments for einsum: {}'\u001b[0m\u001b[1;33m\u001b[0m\u001b[1;33m\u001b[0m\u001b[0m\n\u001b[1;32m--> 664\u001b[1;33m     \u001b[1;32mraise\u001b[0m \u001b[0mTypeError\u001b[0m\u001b[1;33m(\u001b[0m\u001b[0mmsg\u001b[0m\u001b[1;33m.\u001b[0m\u001b[0mformat\u001b[0m\u001b[1;33m(\u001b[0m\u001b[1;34m', '\u001b[0m\u001b[1;33m.\u001b[0m\u001b[0mjoin\u001b[0m\u001b[1;33m(\u001b[0m\u001b[0mkwargs\u001b[0m\u001b[1;33m)\u001b[0m\u001b[1;33m)\u001b[0m\u001b[1;33m)\u001b[0m\u001b[1;33m\u001b[0m\u001b[1;33m\u001b[0m\u001b[0m\n\u001b[0m\u001b[0;32m    665\u001b[0m \u001b[1;33m\u001b[0m\u001b[0m\n\u001b[0;32m    666\u001b[0m   \u001b[1;32mwith\u001b[0m \u001b[0mops\u001b[0m\u001b[1;33m.\u001b[0m\u001b[0mname_scope\u001b[0m\u001b[1;33m(\u001b[0m\u001b[0mname\u001b[0m\u001b[1;33m,\u001b[0m \u001b[1;34m'einsum'\u001b[0m\u001b[1;33m,\u001b[0m \u001b[1;33m[\u001b[0m\u001b[0mequation\u001b[0m\u001b[1;33m,\u001b[0m \u001b[0minputs\u001b[0m\u001b[1;33m]\u001b[0m\u001b[1;33m)\u001b[0m \u001b[1;32mas\u001b[0m \u001b[0mname\u001b[0m\u001b[1;33m:\u001b[0m\u001b[1;33m\u001b[0m\u001b[1;33m\u001b[0m\u001b[0m\n",
      "\u001b[1;31mTypeError\u001b[0m: Invalid keyword arguments for einsum: axes"
     ]
    }
   ],
   "source": [
    "out = None\n",
    "for b, eb in enumerate([b1,b2]):\n",
    "    for k, ek in enumerate([e1,e2,e3,e4]):\n",
    "        for j, ej in enumerate([e1,e2,e3,e4]):\n",
    "            tmp = tf.einsum('bj,j,k->bjk',x, ej, ek)\n",
    "            #u = x[b][j]*tf.nn.sigmoid(z1[b][k])*(1-tf.nn.sigmoid(z1[b][k]))*ek \n",
    "            u = tf.einsum('bk,b,k->bk',sigmoid_partials, eb,ek)\n",
    "            #v = tf.tensordot( eb,u, axes=0)\n",
    "            if out is None:    \n",
    "                out = tf.einsum('bjk,bl->bkl',u , tmp, axes=0)\n",
    "            else:\n",
    "                out += tf.einsum('bjk,bl->bkl',u , tmp, axes=0)\n",
    "            \n",
    "            \n",
    "out"
   ]
  },
  {
   "cell_type": "code",
   "execution_count": 41,
   "metadata": {},
   "outputs": [
    {
     "data": {
      "text/plain": [
       "(-0.42387748, <tf.Tensor: shape=(), dtype=float32, numpy=0.22791123>)"
      ]
     },
     "execution_count": 41,
     "metadata": {},
     "output_type": "execute_result"
    }
   ],
   "source": [
    "z1[1][0], x[0][0]"
   ]
  },
  {
   "cell_type": "code",
   "execution_count": null,
   "metadata": {},
   "outputs": [],
   "source": []
  },
  {
   "cell_type": "code",
   "execution_count": 12,
   "metadata": {},
   "outputs": [
    {
     "name": "stdout",
     "output_type": "stream",
     "text": [
      "Model: \"model_2\"\n",
      "_________________________________________________________________\n",
      "Layer (type)                 Output Shape              Param #   \n",
      "=================================================================\n",
      "input (InputLayer)           [(None, 3)]               0         \n",
      "_________________________________________________________________\n",
      "hidden (Dense)               (None, 4)                 12        \n",
      "_________________________________________________________________\n",
      "output (Dense)               (None, 1)                 4         \n",
      "=================================================================\n",
      "Total params: 16\n",
      "Trainable params: 16\n",
      "Non-trainable params: 0\n",
      "_________________________________________________________________\n",
      "None\n"
     ]
    }
   ],
   "source": [
    "inp_vector = tf.keras.layers.Input(shape=(3,), name='input')\n",
    "x = tf.keras.layers.Dense(units=4, activation='tanh',\n",
    "                          name='hidden', use_bias=False)(inp_vector)\n",
    "x = tf.keras.layers.Dense(units=1, activation='linear',\n",
    "                          name='output', use_bias=False)(x)\n",
    "model = tf.keras.Model(inputs =[inp_vector], outputs=x)\n",
    "print(model.summary())"
   ]
  },
  {
   "cell_type": "code",
   "execution_count": 108,
   "metadata": {},
   "outputs": [],
   "source": [
    "X = tf.random.uniform([2, 3])\n",
    "Y = tf.random.uniform([2, 1])"
   ]
  },
  {
   "cell_type": "code",
   "execution_count": 109,
   "metadata": {},
   "outputs": [],
   "source": [
    "def mse(y_true, y_pred):\n",
    "    return 1/2*tf.reduce_mean(tf.square(y_true-y_pred))"
   ]
  },
  {
   "cell_type": "code",
   "execution_count": 110,
   "metadata": {},
   "outputs": [
    {
     "data": {
      "text/plain": [
       "<tf.Tensor: shape=(2, 1), dtype=float32, numpy=\n",
       "array([[ 0.3195117 ],\n",
       "       [-0.60540116]], dtype=float32)>"
      ]
     },
     "execution_count": 110,
     "metadata": {},
     "output_type": "execute_result"
    }
   ],
   "source": [
    "y_pred = model(X)\n",
    "y_pred"
   ]
  },
  {
   "cell_type": "code",
   "execution_count": 111,
   "metadata": {},
   "outputs": [
    {
     "data": {
      "text/plain": [
       "<tf.Tensor: shape=(), dtype=float32, numpy=0.6320775>"
      ]
     },
     "execution_count": 111,
     "metadata": {},
     "output_type": "execute_result"
    }
   ],
   "source": [
    "loss = sse(Y, y_pred)\n",
    "loss"
   ]
  },
  {
   "cell_type": "code",
   "execution_count": 112,
   "metadata": {},
   "outputs": [
    {
     "name": "stdout",
     "output_type": "stream",
     "text": [
      "[<tf.Tensor: shape=(3, 4), dtype=float32, numpy=\n",
      "array([[-0.53669715, -0.07310512,  0.33200443,  0.1712477 ],\n",
      "       [-0.27924216, -0.05345759,  0.18802422,  0.11037983],\n",
      "       [-0.5738147 , -0.10320733,  0.37978774,  0.2176531 ]],\n",
      "      dtype=float32)>, <tf.Tensor: shape=(4, 1), dtype=float32, numpy=\n",
      "array([[ 0.16283968],\n",
      "       [-0.63626456],\n",
      "       [-0.32919315],\n",
      "       [-0.51200455]], dtype=float32)>]\n"
     ]
    }
   ],
   "source": [
    "with tf.GradientTape(persistent=True) as tape:\n",
    "    y_pred = model(X)\n",
    "    loss = mse(Y, y_pred)\n",
    "gradient = tape.gradient(loss, model.trainable_variables)\n",
    "print(gradient)"
   ]
  },
  {
   "cell_type": "code",
   "execution_count": 113,
   "metadata": {},
   "outputs": [
    {
     "name": "stdout",
     "output_type": "stream",
     "text": [
      "tf.Tensor(\n",
      "[[ 0.16283968]\n",
      " [-0.63626456]\n",
      " [-0.32919315]\n",
      " [-0.51200455]], shape=(4, 1), dtype=float32)\n"
     ]
    }
   ],
   "source": [
    "with tf.GradientTape(persistent=True) as tape:\n",
    "    y_pred = model(X)\n",
    "    loss = sse(Y, y_pred)\n",
    "j = tape.jacobian(loss, model.get_layer('output').kernel)\n",
    "\n",
    "print(j)"
   ]
  },
  {
   "cell_type": "code",
   "execution_count": 114,
   "metadata": {},
   "outputs": [
    {
     "name": "stdout",
     "output_type": "stream",
     "text": [
      "tf.Tensor(\n",
      "[[-0.22074994]\n",
      " [-0.76377153]], shape=(2, 1), dtype=float32)\n"
     ]
    }
   ],
   "source": [
    "#d2\n",
    "with tf.GradientTape(persistent=True) as tape:\n",
    "    y_pred = model(X)\n",
    "    loss = sse(Y, y_pred)\n",
    "j = tape.jacobian(loss, y_pred)\n",
    "\n",
    "print(j)"
   ]
  },
  {
   "cell_type": "code",
   "execution_count": 115,
   "metadata": {},
   "outputs": [
    {
     "name": "stdout",
     "output_type": "stream",
     "text": [
      "tf.Tensor(\n",
      "[[-0.1988977  -0.05304109  0.12701353  0.08994047]\n",
      " [-0.68816507 -0.18351659  0.43945342  0.31118453]], shape=(2, 4), dtype=float32)\n"
     ]
    }
   ],
   "source": [
    "#d1\n",
    "with tf.GradientTape(persistent=True) as tape:\n",
    "    hidden_out = model.get_layer('hidden')(X)    \n",
    "    y_pred = model.get_layer('output')(hidden_out)\n",
    "    loss = sse(Y, y_pred)    \n",
    "j = tape.jacobian(loss, hidden_out)\n",
    "\n",
    "print(j)"
   ]
  },
  {
   "cell_type": "code",
   "execution_count": 116,
   "metadata": {
    "scrolled": true
   },
   "outputs": [
    {
     "name": "stdout",
     "output_type": "stream",
     "text": [
      "tf.Tensor(\n",
      "[[[[0.02107724 0.         0.         0.        ]\n",
      "   [0.46635082 0.         0.         0.        ]\n",
      "   [0.76214755 0.         0.         0.        ]]\n",
      "\n",
      "  [[0.         0.02411753 0.         0.        ]\n",
      "   [0.         0.5336198  0.         0.        ]\n",
      "   [0.         0.8720839  0.         0.        ]]\n",
      "\n",
      "  [[0.         0.         0.02594353 0.        ]\n",
      "   [0.         0.         0.5740215  0.        ]\n",
      "   [0.         0.         0.93811154 0.        ]]\n",
      "\n",
      "  [[0.         0.         0.         0.02573795]\n",
      "   [0.         0.         0.         0.56947285]\n",
      "   [0.         0.         0.         0.93067783]]]\n",
      "\n",
      "\n",
      " [[[0.77380407 0.         0.         0.        ]\n",
      "   [0.27099028 0.         0.         0.        ]\n",
      "   [0.61355233 0.         0.         0.        ]]\n",
      "\n",
      "  [[0.         0.39138642 0.         0.        ]\n",
      "   [0.         0.1370656  0.         0.        ]\n",
      "   [0.         0.31033185 0.         0.        ]]\n",
      "\n",
      "  [[0.         0.         0.7479956  0.        ]\n",
      "   [0.         0.         0.26195204 0.        ]\n",
      "   [0.         0.         0.5930887  0.        ]]\n",
      "\n",
      "  [[0.         0.         0.         0.5428702 ]\n",
      "   [0.         0.         0.         0.19011605]\n",
      "   [0.         0.         0.         0.43044397]]]], shape=(2, 4, 3, 4), dtype=float32)\n"
     ]
    }
   ],
   "source": [
    "with tf.GradientTape(persistent=True) as tape:\n",
    "    hidden_out = model.get_layer('hidden')(X)    \n",
    "j = tape.jacobian(hidden_out, model.get_layer('hidden').kernel)\n",
    "\n",
    "print(j)"
   ]
  },
  {
   "cell_type": "code",
   "execution_count": 117,
   "metadata": {},
   "outputs": [
    {
     "data": {
      "text/plain": [
       "<tf.Tensor: shape=(2, 3, 4), dtype=float32, numpy=\n",
       "array([[[0.02107724, 0.02411753, 0.02594353, 0.02573795],\n",
       "        [0.46635082, 0.5336198 , 0.5740215 , 0.56947285],\n",
       "        [0.76214755, 0.8720839 , 0.93811154, 0.93067783]],\n",
       "\n",
       "       [[0.77380407, 0.39138642, 0.7479956 , 0.5428702 ],\n",
       "        [0.27099028, 0.1370656 , 0.26195204, 0.19011605],\n",
       "        [0.61355233, 0.31033185, 0.5930887 , 0.43044397]]], dtype=float32)>"
      ]
     },
     "execution_count": 117,
     "metadata": {},
     "output_type": "execute_result"
    }
   ],
   "source": [
    " tf.einsum('ijkl->ikl',j)"
   ]
  },
  {
   "cell_type": "code",
   "execution_count": 118,
   "metadata": {},
   "outputs": [
    {
     "data": {
      "text/plain": [
       "(<tf.Tensor: shape=(2, 4), dtype=float32, numpy=\n",
       " array([[-0.10066434, -0.06757095, -0.03495735, -0.03998099],\n",
       "        [ 0.26350403, -0.5686936 , -0.2942358 , -0.47202358]],\n",
       "       dtype=float32)>, <tf.Tensor: shape=(2, 1), dtype=float32, numpy=\n",
       " array([[-0.22074994],\n",
       "        [-0.76377153]], dtype=float32)>, <tf.Tensor: shape=(2, 4), dtype=float32, numpy=\n",
       " array([[ 0.4560107 ,  0.30609727,  0.15835722,  0.18111436],\n",
       "        [-0.34500372,  0.744586  ,  0.38524058,  0.6180167 ]],\n",
       "       dtype=float32)>)"
      ]
     },
     "execution_count": 118,
     "metadata": {},
     "output_type": "execute_result"
    }
   ],
   "source": [
    "d2 =  -1/2*(Y - y_pred)\n",
    "dE_dW2 = d2*hidden_out\n",
    "dE_dW2 , d2, hidden_out"
   ]
  },
  {
   "cell_type": "code",
   "execution_count": 119,
   "metadata": {},
   "outputs": [
    {
     "data": {
      "text/plain": [
       "<tf.Tensor: shape=(2, 4), dtype=float32, numpy=\n",
       "array([[-0.1988977 , -0.05304109,  0.12701353,  0.08994047],\n",
       "       [-0.68816507, -0.18351659,  0.43945342,  0.31118453]],\n",
       "      dtype=float32)>"
      ]
     },
     "execution_count": 119,
     "metadata": {},
     "output_type": "execute_result"
    }
   ],
   "source": [
    "d1 = tf.tensordot( d2,model.get_layer('output').kernel, axes = [[1],[1]])\n",
    "d1\n"
   ]
  },
  {
   "cell_type": "code",
   "execution_count": 120,
   "metadata": {},
   "outputs": [
    {
     "data": {
      "text/plain": [
       "(TensorShape([2, 4]), TensorShape([2, 4, 3, 4]))"
      ]
     },
     "execution_count": 120,
     "metadata": {},
     "output_type": "execute_result"
    }
   ],
   "source": [
    "d1.shape, j.shape"
   ]
  },
  {
   "cell_type": "code",
   "execution_count": 121,
   "metadata": {},
   "outputs": [
    {
     "data": {
      "text/plain": [
       "<tf.Tensor: shape=(3, 4), dtype=float32, numpy=\n",
       "array([[-0.53669715, -0.07310512,  0.33200443,  0.17124769],\n",
       "       [-0.27924216, -0.05345759,  0.18802422,  0.11037983],\n",
       "       [-0.5738147 , -0.10320733,  0.3797877 ,  0.2176531 ]],\n",
       "      dtype=float32)>"
      ]
     },
     "execution_count": 121,
     "metadata": {},
     "output_type": "execute_result"
    }
   ],
   "source": [
    "tf.tensordot(d1, j, axes=[[0,1],[0,1]])"
   ]
  },
  {
   "cell_type": "code",
   "execution_count": null,
   "metadata": {},
   "outputs": [],
   "source": []
  },
  {
   "cell_type": "markdown",
   "metadata": {},
   "source": [
    "# Final BP"
   ]
  },
  {
   "cell_type": "code",
   "execution_count": null,
   "metadata": {},
   "outputs": [],
   "source": [
    "y_pred = model(X)\n",
    "loss = mse(Y, y_pred)\n"
   ]
  },
  {
   "cell_type": "code",
   "execution_count": 122,
   "metadata": {},
   "outputs": [
    {
     "name": "stdout",
     "output_type": "stream",
     "text": [
      "[<tf.Tensor: shape=(3, 4), dtype=float32, numpy=\n",
      "array([[-0.49144644, -0.14467056,  0.42745242,  0.19965783],\n",
      "       [-0.49153632, -0.1501189 ,  0.3929908 ,  0.20273186],\n",
      "       [-0.45179912, -0.11114688,  0.31837663,  0.17446922]],\n",
      "      dtype=float32)>, <tf.Tensor: shape=(4, 1), dtype=float32, numpy=\n",
      "array([[ 0.5309386 ],\n",
      "       [-0.56461114],\n",
      "       [-0.44166878],\n",
      "       [-0.746581  ]], dtype=float32)>]\n"
     ]
    }
   ],
   "source": [
    "batch_size=5\n",
    "X = tf.random.uniform([batch_size, 3])\n",
    "Y = tf.random.uniform([batch_size, 1])\n",
    "def mse(y_true, y_pred):\n",
    "    return 1/2*tf.reduce_mean(tf.square(y_true-y_pred))\n",
    "with tf.GradientTape(persistent=True) as tape:\n",
    "    y_pred = model(X)\n",
    "    loss = mse(Y, y_pred)\n",
    "gradient = tape.gradient(loss, model.trainable_variables)\n",
    "print(gradient)"
   ]
  },
  {
   "cell_type": "code",
   "execution_count": 124,
   "metadata": {},
   "outputs": [],
   "source": [
    "d2 =  -1/batch_size*(Y - y_pred)\n",
    "d1 = tf.tensordot( d2, model.get_layer('output').kernel,\n",
    "                  axes = [[1],[1]])"
   ]
  },
  {
   "cell_type": "code",
   "execution_count": 155,
   "metadata": {},
   "outputs": [],
   "source": [
    "d2 = -1/batch_size*(Y - y_pred)\n",
    "d1 = tf.einsum('bi,jk->bj',d2, \n",
    "         model.get_layer('output').kernel)"
   ]
  },
  {
   "cell_type": "code",
   "execution_count": 130,
   "metadata": {},
   "outputs": [
    {
     "data": {
      "text/plain": [
       "(<tf.Tensor: shape=(5, 4), dtype=float32, numpy=\n",
       " array([[-0.19179365, -0.05114662,  0.12247697,  0.08672805],\n",
       "        [-0.20877399, -0.05567485,  0.13332039,  0.09440646],\n",
       "        [-0.25256675, -0.0673533 ,  0.16128589,  0.11420932],\n",
       "        [-0.32894233, -0.08772077,  0.21005836,  0.14874594],\n",
       "        [-0.12349191, -0.03293223,  0.07886035,  0.05584237]],\n",
       "       dtype=float32)>, <tf.Tensor: shape=(5, 1), dtype=float32, numpy=\n",
       " array([[-0.2128654 ],\n",
       "        [-0.2317113 ],\n",
       "        [-0.28031543],\n",
       "        [-0.36508214],\n",
       "        [-0.13705955]], dtype=float32)>)"
      ]
     },
     "execution_count": 130,
     "metadata": {},
     "output_type": "execute_result"
    }
   ],
   "source": [
    "d1, d2"
   ]
  },
  {
   "cell_type": "code",
   "execution_count": 134,
   "metadata": {},
   "outputs": [
    {
     "data": {
      "text/plain": [
       "<tf.Tensor: shape=(5, 1), dtype=float32, numpy=\n",
       "array([[-0.2128654 ],\n",
       "       [-0.2317113 ],\n",
       "       [-0.28031543],\n",
       "       [-0.36508214],\n",
       "       [-0.13705955]], dtype=float32)>"
      ]
     },
     "execution_count": 134,
     "metadata": {},
     "output_type": "execute_result"
    }
   ],
   "source": [
    "d2"
   ]
  },
  {
   "cell_type": "code",
   "execution_count": 138,
   "metadata": {},
   "outputs": [
    {
     "name": "stdout",
     "output_type": "stream",
     "text": [
      "tf.Tensor(\n",
      "[[-0.2128654 ]\n",
      " [-0.2317113 ]\n",
      " [-0.28031543]\n",
      " [-0.36508214]\n",
      " [-0.13705955]], shape=(5, 1), dtype=float32)\n"
     ]
    }
   ],
   "source": [
    "#d2\n",
    "with tf.GradientTape(persistent=True) as tape:\n",
    "    y_pred = model(X)\n",
    "    loss = sse(Y, y_pred)\n",
    "j = tape.jacobian(loss, y_pred)\n",
    "\n",
    "print(j)"
   ]
  },
  {
   "cell_type": "code",
   "execution_count": 150,
   "metadata": {},
   "outputs": [
    {
     "name": "stdout",
     "output_type": "stream",
     "text": [
      "tf.Tensor(\n",
      "[[-0.49144638 -0.14467056  0.42745242  0.19965784]\n",
      " [-0.49153632 -0.1501189   0.3929908   0.20273188]\n",
      " [-0.45179912 -0.1111469   0.31837663  0.17446922]], shape=(3, 4), dtype=float32) tf.Tensor(\n",
      "[[ 0.5309386 ]\n",
      " [-0.56461114]\n",
      " [-0.44166878]\n",
      " [-0.746581  ]], shape=(4, 1), dtype=float32)\n"
     ]
    }
   ],
   "source": [
    "#Computing dL1_dW1\n",
    "with tf.GradientTape(persistent=True) as tape:\n",
    "    hidden_out = model.get_layer('hidden')(X)    \n",
    "dL1_dW1 = tape.jacobian(hidden_out, model.get_layer('hidden').kernel)\n",
    "dE_dW2 = tf.einsum('bk,bi->ik', d2, hidden_out)\n",
    "dE_dW1 = tf.einsum('bk,bkik->ik', d1, dL1_dW1)\n",
    "print(dE_dW1, dE_dW2)"
   ]
  },
  {
   "cell_type": "code",
   "execution_count": 137,
   "metadata": {},
   "outputs": [
    {
     "data": {
      "text/plain": [
       "(TensorShape([5, 1]), TensorShape([5, 4]))"
      ]
     },
     "execution_count": 137,
     "metadata": {},
     "output_type": "execute_result"
    }
   ],
   "source": [
    "d2.shape, hidden_out.shape"
   ]
  },
  {
   "cell_type": "code",
   "execution_count": 128,
   "metadata": {},
   "outputs": [
    {
     "data": {
      "text/plain": [
       "<tf.Tensor: shape=(3, 4), dtype=float32, numpy=\n",
       "array([[-0.49144638, -0.14467056,  0.42745242,  0.19965784],\n",
       "       [-0.49153632, -0.1501189 ,  0.3929908 ,  0.20273188],\n",
       "       [-0.45179912, -0.1111469 ,  0.31837663,  0.17446922]],\n",
       "      dtype=float32)>"
      ]
     },
     "execution_count": 128,
     "metadata": {},
     "output_type": "execute_result"
    }
   ],
   "source": [
    "dE_dW1"
   ]
  },
  {
   "cell_type": "code",
   "execution_count": 147,
   "metadata": {},
   "outputs": [
    {
     "data": {
      "text/plain": [
       "<tf.Tensor: shape=(4, 1), dtype=float32, numpy=\n",
       "array([[ 0.5309386 ],\n",
       "       [-0.56461114],\n",
       "       [-0.44166878],\n",
       "       [-0.746581  ]], dtype=float32)>"
      ]
     },
     "execution_count": 147,
     "metadata": {},
     "output_type": "execute_result"
    }
   ],
   "source": [
    "tf.einsum('bk,bi->ik', d2, hidden_out)"
   ]
  },
  {
   "cell_type": "code",
   "execution_count": 148,
   "metadata": {},
   "outputs": [
    {
     "data": {
      "text/plain": [
       "(TensorShape([5, 4]), TensorShape([5, 4, 3, 4]))"
      ]
     },
     "execution_count": 148,
     "metadata": {},
     "output_type": "execute_result"
    }
   ],
   "source": [
    "d1.shape, dL1_dW1.shape"
   ]
  },
  {
   "cell_type": "code",
   "execution_count": 149,
   "metadata": {},
   "outputs": [
    {
     "data": {
      "text/plain": [
       "<tf.Tensor: shape=(3, 4), dtype=float32, numpy=\n",
       "array([[-0.49144638, -0.14467056,  0.42745242,  0.19965784],\n",
       "       [-0.49153632, -0.1501189 ,  0.3929908 ,  0.20273188],\n",
       "       [-0.45179912, -0.1111469 ,  0.31837663,  0.17446922]],\n",
       "      dtype=float32)>"
      ]
     },
     "execution_count": 149,
     "metadata": {},
     "output_type": "execute_result"
    }
   ],
   "source": [
    "tf.einsum('bk,bkik->ik', d1, dL1_dW1)"
   ]
  },
  {
   "cell_type": "code",
   "execution_count": null,
   "metadata": {},
   "outputs": [],
   "source": []
  }
 ],
 "metadata": {
  "kernelspec": {
   "display_name": "Python 3",
   "language": "python",
   "name": "python3"
  },
  "language_info": {
   "codemirror_mode": {
    "name": "ipython",
    "version": 3
   },
   "file_extension": ".py",
   "mimetype": "text/x-python",
   "name": "python",
   "nbconvert_exporter": "python",
   "pygments_lexer": "ipython3",
   "version": "3.7.4"
  }
 },
 "nbformat": 4,
 "nbformat_minor": 2
}
