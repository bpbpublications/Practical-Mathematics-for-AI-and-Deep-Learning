{
 "cells": [
  {
   "cell_type": "code",
   "execution_count": 1,
   "metadata": {},
   "outputs": [],
   "source": [
    "import tensorflow as tf\n",
    "tf.enable_eager_execution()\n",
    "from tensorflow.keras.layers import LSTM"
   ]
  },
  {
   "cell_type": "code",
   "execution_count": 2,
   "metadata": {},
   "outputs": [],
   "source": [
    "sentence = \"My name is John.\""
   ]
  },
  {
   "cell_type": "code",
   "execution_count": 3,
   "metadata": {},
   "outputs": [],
   "source": [
    "class BahdanauAttention(tf.keras.layers.Layer):\n",
    "    \n",
    "    def __init__(self, units):\n",
    "        super(BahdanauAttention, self).__init__()\n",
    "        self.W1 = tf.keras.layers.Dense(units)\n",
    "        self.W2 = tf.keras.layers.Dense(units)\n",
    "        self.va = tf.keras.layers.Dense(1)\n",
    "    \n",
    "    def call(self, query, values):\n",
    "        \"\"\"\n",
    "        query tensor of shape: [batch_size, hidden_size],\n",
    "        value tensor of shape: [batch_size, inp_seq_len, hidden_size]\n",
    "        \"\"\"\n",
    "        query = tf.expand_dims(query, 1)        \n",
    "        scores = self.va(tf.nn.tanh(self.W1(query) + self.W2(values)))\n",
    "        attention_weights = tf.nn.softmax(scores, axis=1)\n",
    "        context_vector = attention_weights * values\n",
    "        context_vector = tf.reduce_sum(context_vector, axis=1)\n",
    "        return attention_weights, context_vector"
   ]
  },
  {
   "cell_type": "code",
   "execution_count": 4,
   "metadata": {},
   "outputs": [],
   "source": [
    "batch_size = 4\n",
    "latentSpaceDimension = 16\n",
    "n_features = 12\n",
    "n_timesteps = 10\n",
    "\n",
    "encoder_inputs = tf.random.uniform((batch_size,\n",
    "                                    n_timesteps,\n",
    "                                    n_features))\n",
    "encoder_lstm = LSTM(latentSpaceDimension,\n",
    "                    return_sequences=True,\n",
    "                    return_state=True,\n",
    "                    name='encoder_lstm')\n",
    "decoder_lstm = LSTM(latentSpaceDimension, \n",
    "                    return_state=True,\n",
    "                    name='decoder_lstm')\n",
    "\n",
    "attention = BahdanauAttention(latentSpaceDimension)\n",
    "encoder_outputs, *encoder_states = encoder_lstm(encoder_inputs)\n",
    "#encoder_state_h, encoder_state_c = encoder_states\n",
    "#initial decoder's state\n",
    "#encoder's last hidden state + last cell state\n",
    "#decoder_outputs = encoder_state_h\n",
    "#states = encoder_states"
   ]
  },
  {
   "cell_type": "code",
   "execution_count": null,
   "metadata": {},
   "outputs": [],
   "source": []
  },
  {
   "cell_type": "markdown",
   "metadata": {},
   "source": [
    "## French To English With Encoder Decoder Architecture"
   ]
  },
  {
   "cell_type": "code",
   "execution_count": 5,
   "metadata": {},
   "outputs": [],
   "source": [
    "import numpy as np\n",
    "import io\n",
    "import unicodedata\n",
    "import re\n",
    "from tqdm import tqdm\n",
    "\n",
    "file_path = \".\\\\fra-eng\\\\fra.txt\"\n",
    "#Opening and reading the .txt file that contains english and its corresponding italian translation\n",
    "lines = io.open(file_path, encoding = 'UTF-8').read().split('\\n')"
   ]
  },
  {
   "cell_type": "code",
   "execution_count": 6,
   "metadata": {},
   "outputs": [
    {
     "data": {
      "text/plain": [
       "['Go.\\tVa !\\tCC-BY 2.0 (France) Attribution: tatoeba.org #2877272 (CM) & #1158250 (Wittydev)',\n",
       " 'Go.\\tMarche.\\tCC-BY 2.0 (France) Attribution: tatoeba.org #2877272 (CM) & #8090732 (Micsmithel)',\n",
       " 'Go.\\tBouge !\\tCC-BY 2.0 (France) Attribution: tatoeba.org #2877272 (CM) & #9022935 (Micsmithel)',\n",
       " 'Hi.\\tSalut !\\tCC-BY 2.0 (France) Attribution: tatoeba.org #538123 (CM) & #509819 (Aiji)',\n",
       " 'Hi.\\tSalut.\\tCC-BY 2.0 (France) Attribution: tatoeba.org #538123 (CM) & #4320462 (gillux)']"
      ]
     },
     "execution_count": 6,
     "metadata": {},
     "output_type": "execute_result"
    }
   ],
   "source": [
    "lines[0:5]"
   ]
  },
  {
   "cell_type": "code",
   "execution_count": 7,
   "metadata": {},
   "outputs": [
    {
     "name": "stderr",
     "output_type": "stream",
     "text": [
      "100%|███████████████████████████████████████████████████████████████████████| 192342/192342 [00:06<00:00, 31044.21it/s]\n"
     ]
    }
   ],
   "source": [
    "def unicode_to_ascii(s) :\n",
    "  \"\"\"\n",
    "  Unicode to ascii conversion\n",
    "  \"\"\"\n",
    "  return ''.join(c for c in unicodedata.normalize('NFD', s) if unicodedata.category(c) != 'Mn')\n",
    "\n",
    "def cleanhtml(raw_html) :\n",
    "    \"\"\"\n",
    "      Function to clean html tags and numbers\n",
    "      \"\"\"\n",
    "    cleanr = re.compile('<.*?>|&([a-z0-9]+|#[0-9]{1,6}|#x[0-9a-f]{1,6});')\n",
    "    cleantext = re.sub(cleanr, '', raw_html)\n",
    "    return cleantext\n",
    "\n",
    "def cleanString(incomingString):\n",
    "    \"\"\"\n",
    "      Function to clean unwanted symbol from text\n",
    "    \"\"\"\n",
    "    newstring = incomingString\n",
    "    newstring = newstring.replace(\"!\",\"\")\n",
    "    newstring = newstring.replace(\"@\",\"\")\n",
    "    newstring = newstring.replace(\"#\",\"\")\n",
    "    newstring = newstring.replace(\"$\",\"\")\n",
    "    newstring = newstring.replace(\"%\",\"\")\n",
    "    newstring = newstring.replace(\"^\",\"\")\n",
    "    newstring = newstring.replace(\"&\",\"and\")\n",
    "    newstring = newstring.replace(\"*\",\"\")\n",
    "    newstring = newstring.replace(\"(\",\"\")\n",
    "    newstring = newstring.replace(\")\",\"\")\n",
    "    newstring = newstring.replace(\"+\",\"\")\n",
    "    newstring = newstring.replace(\"=\",\"\")\n",
    "    newstring = newstring.replace(\"?\",\"\")\n",
    "    newstring = newstring.replace(\"\\'\",\"\")\n",
    "    newstring = newstring.replace(\"\\\"\",\"\")\n",
    "    newstring = newstring.replace(\"{\",\"\")\n",
    "    newstring = newstring.replace(\"}\",\"\")\n",
    "    newstring = newstring.replace(\"[\",\"\")\n",
    "    newstring = newstring.replace(\"]\",\"\")\n",
    "    newstring = newstring.replace(\"<\",\"\")\n",
    "    newstring = newstring.replace(\">\",\"\")\n",
    "    newstring = newstring.replace(\"~\",\"\")\n",
    "    newstring = newstring.replace(\"`\",\"\")\n",
    "    newstring = newstring.replace(\":\",\"\")\n",
    "    newstring = newstring.replace(\";\",\"\")\n",
    "    newstring = newstring.replace(\"|\",\"\")\n",
    "    newstring = newstring.replace(\"\\\\\",\"\")\n",
    "    newstring = newstring.replace(\"/\",\"\")     \n",
    "    return ' '.join(newstring.split())\n",
    "\n",
    "def preprocess_string(data) :\n",
    "    \"\"\"\n",
    "      This function calls other\n",
    "      preprocessing function for\n",
    "      cleaning data\n",
    "    \"\"\"\n",
    "    data = unicode_to_ascii(data)\n",
    "    #Remove html\n",
    "    data = cleanhtml(data)\n",
    "    #Remove unwanted symbols\n",
    "    data = cleanString(data)\n",
    "    return data\n",
    "\n",
    "def get_data(raw_lines):\n",
    "    french = []\n",
    "    english = []\n",
    "    for itr in tqdm(range(len(raw_lines))):\n",
    "        if len(raw_lines[itr].split()) > 2:\n",
    "            eng, fre, _ = raw_lines[itr].split('\\t')\n",
    "            english.append('<start> ' + preprocess_string(eng) + ' <end>')\n",
    "            french.append('<start> ' + preprocess_string(fre) + ' <end>')\n",
    "    return french, english\n",
    "\n",
    "#Get data\n",
    "french, english = get_data(lines)\n",
    "\n",
    "#Train-Test Split\n",
    "from sklearn.model_selection import train_test_split\n",
    "fre_tr, fre_te, eng_tr, eng_te = train_test_split(french, english, test_size = 0.2, random_state = 43)"
   ]
  },
  {
   "cell_type": "code",
   "execution_count": 8,
   "metadata": {},
   "outputs": [
    {
     "data": {
      "text/plain": [
       "(['<start> These pills come in a blister pack. <end>',\n",
       "  '<start> Wheres your daughter <end>',\n",
       "  '<start> Ive upset you. <end>',\n",
       "  '<start> Do you mind if I turn off the light <end>'],\n",
       " ['<start> Ces comprimes se presentent sous forme de plaquettes. <end>',\n",
       "  '<start> Ou se trouve ta fille <end>',\n",
       "  '<start> Je tai contrariee. <end>',\n",
       "  '<start> Voyez-vous un inconvenient a ce que jeteigne la lumiere <end>'])"
      ]
     },
     "execution_count": 8,
     "metadata": {},
     "output_type": "execute_result"
    }
   ],
   "source": [
    "eng_te[1:5], fre_te[1:5]"
   ]
  },
  {
   "cell_type": "code",
   "execution_count": 15,
   "metadata": {},
   "outputs": [],
   "source": [
    "from tensorflow.keras.preprocessing.text import Tokenizer\n",
    "from tensorflow.keras.preprocessing.sequence import pad_sequences\n",
    "import tensorflow\n",
    "tensorflow.enable_eager_execution()\n",
    "\n",
    "#Tokenizing and padding input language\n",
    "fre_token = Tokenizer(filters='', lower = False)\n",
    "fre_token.fit_on_texts(fre_tr)\n",
    "fre_tokenized = fre_token.texts_to_sequences(fre_tr)\n",
    "fre_padded = pad_sequences(fre_tokenized, padding='post')\n",
    "\n",
    "#Tokenizing and padding target language\n",
    "eng_token = Tokenizer(filters='', lower = False)\n",
    "eng_token.fit_on_texts(eng_tr)\n",
    "eng_tokenized = eng_token.texts_to_sequences(eng_tr)\n",
    "eng_padded = pad_sequences(eng_tokenized, padding='post')\n",
    "\n",
    "#Number of unique tokens in input and output languages\n",
    "num_ip_tokens = len(fre_token.word_index)   #French\n",
    "num_op_tokens = len(eng_token.word_index)   #English\n",
    "\n",
    "#Maximum length of a sentence in both the languages\n",
    "max_len_ip = fre_padded.shape[1]   #French\n",
    "max_len_op = eng_padded.shape[1]   #English"
   ]
  },
  {
   "cell_type": "code",
   "execution_count": 16,
   "metadata": {},
   "outputs": [
    {
     "name": "stdout",
     "output_type": "stream",
     "text": [
      "57 49 #French Tokens= 41813\n"
     ]
    }
   ],
   "source": [
    "print(max_len_ip, max_len_op, '#French Tokens=',num_ip_tokens)"
   ]
  },
  {
   "cell_type": "code",
   "execution_count": 17,
   "metadata": {},
   "outputs": [
    {
     "data": {
      "text/plain": [
       "array([    1,    11,    39,   805,    16,     7,   164,  8623,    55,\n",
       "         250,   610,    49,   136,   188,     9,   406,  2604,     5,\n",
       "         399,    38, 13463,     2,     0,     0,     0,     0,     0,\n",
       "           0,     0,     0,     0,     0,     0,     0,     0,     0,\n",
       "           0,     0,     0,     0,     0,     0,     0,     0,     0,\n",
       "           0,     0,     0,     0,     0,     0,     0,     0,     0,\n",
       "           0,     0,     0])"
      ]
     },
     "execution_count": 17,
     "metadata": {},
     "output_type": "execute_result"
    }
   ],
   "source": [
    "fre_padded[0]"
   ]
  },
  {
   "cell_type": "code",
   "execution_count": 18,
   "metadata": {},
   "outputs": [],
   "source": [
    "# Create a tf.data dataset\n",
    "import tensorflow as tf\n",
    "\n",
    "BUFFER_SIZE = len(fre_padded)\n",
    "BATCH_SIZE = 64\n",
    "N_BATCH = BUFFER_SIZE//BATCH_SIZE\n",
    "embedding_dim = 256\n",
    "units = 512\n",
    "\n",
    "dataset = tf.data.Dataset.from_tensor_slices((fre_padded, eng_padded)).shuffle(BUFFER_SIZE)\n",
    "dataset = dataset.batch(BATCH_SIZE, drop_remainder = True)"
   ]
  },
  {
   "cell_type": "code",
   "execution_count": 19,
   "metadata": {},
   "outputs": [],
   "source": [
    "class Encoder(tf.keras.Model):\n",
    "    def __init__(self, vocab_size,\n",
    "                 embedding_dim,\n",
    "                 enc_units, batch_sz):\n",
    "        super(Encoder, self).__init__()\n",
    "        self.batch_sz = batch_sz\n",
    "        self.enc_units = enc_units\n",
    "        self.embedding = tf.keras.layers.Embedding(vocab_size,\n",
    "                                                   embedding_dim)\n",
    "        self.gru = tf.keras.layers.GRU(self.enc_units,\n",
    "                                  return_sequences=True,\n",
    "                                  return_state=True,\n",
    "                                  recurrent_initializer='glorot_uniform',\n",
    "                                  recurrent_activation='sigmoid')\n",
    "    def call(self, x, hidden):\n",
    "        x = self.embedding(x)\n",
    "        output, state = self.gru(x, initial_state = hidden)\n",
    "        return output, state\n",
    "    def initial_hidden_state(self):\n",
    "        #Generating encoder initial states as all zeros\n",
    "        return tf.zeros((self.batch_sz, self.enc_units))"
   ]
  },
  {
   "cell_type": "code",
   "execution_count": 20,
   "metadata": {},
   "outputs": [],
   "source": [
    "#Decoder with attention\n",
    "class Decoder(tf.keras.Model):\n",
    "    def __init__(self, vocab_size,\n",
    "                 embedding_dim,\n",
    "                 dec_units, batch_sz):\n",
    "        super(Decoder, self).__init__()\n",
    "        self.batch_sz = batch_sz\n",
    "        self.dec_units = dec_units\n",
    "        self.embedding = tf.keras.layers.Embedding(vocab_size, embedding_dim)\n",
    "        self.gru = tf.keras.layers.GRU(self.dec_units,\n",
    "                                  return_sequences=True,\n",
    "                                  return_state=True,\n",
    "                                  recurrent_initializer='glorot_uniform',\n",
    "                                  recurrent_activation='sigmoid')\n",
    "        self.fc = tf.keras.layers.Dense(vocab_size)\n",
    "        self.attention = BahdanauAttention(dec_units)\n",
    "        \n",
    "        # used for attention\n",
    "        #self.W1 = tf.keras.layers.Dense(self.dec_units)\n",
    "        #self.W2 = tf.keras.layers.Dense(self.dec_units)\n",
    "        #self.V = tf.keras.layers.Dense(1)\n",
    "    \n",
    "    def call(self, x, hidden, enc_output):\n",
    "        # enc_output shape == (batch_size, max_length, hidden_size)\n",
    "        # hidden shape == (batch_size, hidden size)\n",
    "        # hidden_with_time_axis shape == (batch_size, 1, hidden size)\n",
    "        # we are doing this to perform addition to calculate the score\n",
    "        ##hidden_with_time_axis = tf.expand_dims(hidden, 1)\n",
    "        # score shape == (batch_size, max_length, 1)\n",
    "        # we get 1 at the last axis because we are applying tanh(FC(EO) + FC(H)) to self.V\n",
    "        #Getting scores\n",
    "        ##score = self.V(tf.nn.tanh(self.W1(enc_output)+self.W2(hidden_with_time_axis)))\n",
    "        # attention_weights shape == (batch_size, max_length, 1)\n",
    "        #Attention weights from softmax\n",
    "        ##attention_weights = tf.nn.softmax(score, axis=1)\n",
    "        # context_vector shape after sum == (batch_size, hidden_size)\n",
    "        #getting context vector\n",
    "        ##context_vector = attention_weights*enc_output\n",
    "        ##context_vector = tf.reduce_sum(context_vector, axis=1)\n",
    "        attention_weights, context_vector = self.attention(hidden, enc_output)\n",
    "        # x shape after passing through embedding == (batch_size, 1, embedding_dim)\n",
    "        x = self.embedding(x)\n",
    "        # x shape after concatenation == (batch_size, 1, embedding_dim + hidden_size)\n",
    "        #Concatenating previous op with cv\n",
    "        x = tf.concat([tf.expand_dims(context_vector, 1), x], axis=-1)\n",
    "        # passing the concatenated vector to the GRU\n",
    "        output, state = self.gru(x)\n",
    "        # output shape == (batch_size * 1, hidden_size)\n",
    "        output = tf.reshape(output, (-1, output.shape[2]))\n",
    "        # output shape == (batch_size * 1, vocab)\n",
    "        x = self.fc(output)\n",
    "        return x, state, attention_weights\n",
    "    \n",
    "    def initialize_hidden_state(self):\n",
    "        return tf.zeros(self.batch_sz, self.dec_units)"
   ]
  },
  {
   "cell_type": "code",
   "execution_count": 21,
   "metadata": {},
   "outputs": [],
   "source": [
    "encoder = Encoder(num_ip_tokens + 1, embedding_dim, units, BATCH_SIZE)\n",
    "decoder = Decoder(num_op_tokens + 1, embedding_dim, units, BATCH_SIZE)"
   ]
  },
  {
   "cell_type": "code",
   "execution_count": 25,
   "metadata": {},
   "outputs": [],
   "source": [
    "optimizer = tf.keras.optimizers.Adam()\n",
    "\n",
    "def loss_function(real, pred):\n",
    "    mask = tf.equal(real, 0) # as in the OP\n",
    "    weights = 1. - tf.cast(mask, tf.float32)  # convert to (0, 1) weights\n",
    "    loss_ = tf.nn.sparse_softmax_cross_entropy_with_logits(labels=real, logits=pred)*weights\n",
    "    return tf.reduce_mean(loss_)\n",
    " \n",
    "import os\n",
    "from tensorflow.train import Checkpoint\n",
    "checkpoint_dir = './FrenchToEnglish/CheckPoint'\n",
    "checkpoint_prefix = os.path.join(checkpoint_dir, \"ckpt\")\n",
    "checkpoint = Checkpoint(optimizer=optimizer, encoder=encoder, decoder=decoder)"
   ]
  },
  {
   "cell_type": "code",
   "execution_count": 26,
   "metadata": {},
   "outputs": [],
   "source": [
    "@tf.function\n",
    "def train_step(inp_seq, targ_seq):    \n",
    "    loss = 0\n",
    "    #Getting initial encoder states (all zeros)\n",
    "    hidden = encoder.initial_hidden_state()\n",
    "    with tf.GradientTape() as tape:\n",
    "        enc_output , enc_hidden = encoder(inp, hidden)\n",
    "        #Setting final encoder states as initial decoder states\n",
    "        dec_hidden = enc_hidden\n",
    "        # Teacher forcing - feeding the target as the next input\n",
    "        #Passing '<start>' token as initial token\n",
    "        dec_input = tf.expand_dims([eng_token.word_index['<start>']]*BATCH_SIZE, 1)\n",
    "        for t in range(1, targ.shape[1]) :\n",
    "            # passing enc_output to the decoder\n",
    "            predictions, dec_hidden, _ = decoder(dec_input, dec_hidden, enc_output)\n",
    "            loss += loss_function(targ[:,t], predictions)\n",
    "            # using teacher forcing\n",
    "            dec_input = tf.expand_dims(targ[:,t], 1)\n",
    "    batch_loss = (loss / int(targ.shape[1]))\n",
    "    variables = encoder.variables + decoder.variables\n",
    "    gradients = tape.gradient(loss, variables)\n",
    "    optimizer.apply_gradients(zip(gradients, variables))\n",
    "    return batch_loss"
   ]
  },
  {
   "cell_type": "code",
   "execution_count": null,
   "metadata": {},
   "outputs": [],
   "source": [
    "EPOCH = 20\n",
    "\n",
    "for epoch in range(EPOCH):\n",
    "    total_loss = 0\n",
    "    for batch, (inp, targ) in enumerate(dataset):\n",
    "        loss = train_step(inp, targ)\n",
    "        total_loss+= loss\n",
    "        if batch % 1 == 0:\n",
    "            print('Epoch {} Batch {} Loss {:.4f}'.format(epoch + 1, batch, loss.numpy()))\n",
    "    if (epoch + 1)%2 == 0 :\n",
    "        checkpoint.save(file_prefix=checkpoint_prefix)\n",
    "    print('Epoch {} Loss {:.4f}'.format(epoch + 1, total_loss / N_BATCH))  "
   ]
  },
  {
   "cell_type": "code",
   "execution_count": 38,
   "metadata": {},
   "outputs": [
    {
     "data": {
      "text/plain": [
       "<DatasetV1Adapter shapes: (), types: tf.int64>"
      ]
     },
     "execution_count": 38,
     "metadata": {},
     "output_type": "execute_result"
    }
   ],
   "source": [
    "dataset.range(10)"
   ]
  },
  {
   "cell_type": "code",
   "execution_count": 27,
   "metadata": {},
   "outputs": [
    {
     "data": {
      "text/plain": [
       "<tf.Tensor: id=1383, shape=(3,), dtype=bool, numpy=array([ True, False, False])>"
      ]
     },
     "execution_count": 27,
     "metadata": {},
     "output_type": "execute_result"
    }
   ],
   "source": [
    "tf.equal([0, 1, 3], 0)"
   ]
  },
  {
   "cell_type": "code",
   "execution_count": 1,
   "metadata": {},
   "outputs": [],
   "source": [
    "import numpy as np"
   ]
  },
  {
   "cell_type": "code",
   "execution_count": 3,
   "metadata": {},
   "outputs": [
    {
     "ename": "TypeError",
     "evalue": "data type not understood",
     "output_type": "error",
     "traceback": [
      "\u001b[1;31m---------------------------------------------------------------------------\u001b[0m",
      "\u001b[1;31mTypeError\u001b[0m                                 Traceback (most recent call last)",
      "\u001b[1;32m<ipython-input-3-06f79d45092c>\u001b[0m in \u001b[0;36m<module>\u001b[1;34m\u001b[0m\n\u001b[1;32m----> 1\u001b[1;33m \u001b[0mnp\u001b[0m\u001b[1;33m.\u001b[0m\u001b[0mzeros\u001b[0m\u001b[1;33m(\u001b[0m\u001b[1;36m25\u001b[0m\u001b[1;33m,\u001b[0m\u001b[1;36m60\u001b[0m\u001b[1;33m)\u001b[0m\u001b[1;33m\u001b[0m\u001b[1;33m\u001b[0m\u001b[0m\n\u001b[0m",
      "\u001b[1;31mTypeError\u001b[0m: data type not understood"
     ]
    }
   ],
   "source": [
    "np.zeros(25,60)"
   ]
  },
  {
   "cell_type": "code",
   "execution_count": null,
   "metadata": {},
   "outputs": [],
   "source": []
  }
 ],
 "metadata": {
  "kernelspec": {
   "display_name": "Python 3",
   "language": "python",
   "name": "python3"
  },
  "language_info": {
   "codemirror_mode": {
    "name": "ipython",
    "version": 3
   },
   "file_extension": ".py",
   "mimetype": "text/x-python",
   "name": "python",
   "nbconvert_exporter": "python",
   "pygments_lexer": "ipython3",
   "version": "3.7.4"
  }
 },
 "nbformat": 4,
 "nbformat_minor": 2
}
