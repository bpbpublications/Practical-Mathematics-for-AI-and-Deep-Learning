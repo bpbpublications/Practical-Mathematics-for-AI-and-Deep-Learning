{
 "cells": [
  {
   "cell_type": "code",
   "execution_count": 11,
   "metadata": {},
   "outputs": [],
   "source": [
    "import tensorflow as tf\n",
    "from tensorflow.keras.layers import LSTM\n"
   ]
  },
  {
   "cell_type": "code",
   "execution_count": 4,
   "metadata": {},
   "outputs": [],
   "source": [
    "sentence = \"My name is John.\""
   ]
  },
  {
   "cell_type": "code",
   "execution_count": 5,
   "metadata": {},
   "outputs": [],
   "source": [
    "embedding_layer = tf.keras.layers.Embedding(input_dim=4, output_dim=5)"
   ]
  },
  {
   "cell_type": "code",
   "execution_count": 8,
   "metadata": {},
   "outputs": [],
   "source": [
    "class BahdanauAttention(tf.keras.layers.Layer):\n",
    "    \n",
    "    def __init__(self, units):\n",
    "        super(BahdanauAttention, self).__init__()\n",
    "        self.W1 = tf.keras.layers.Dense(units)\n",
    "        self.W2 = tf.keras.layers.Dense(units)\n",
    "        self.va = tf.keras.layers.Dense(1)\n",
    "    \n",
    "    def call(self, query, values):\n",
    "        \"\"\"\n",
    "        query tensor of shape: [batch_size, hidden_size],\n",
    "        value tensor of shape: [batch_size, inp_seq_len, hidden_size]\n",
    "        \"\"\"\n",
    "        query = tf.expand_dims(query, 1)        \n",
    "        scores = self.va(tf.nn.tanh(self.W1(query) + self.W2(values)))\n",
    "        attention_weights = tf.nn.softmax(scores, axis=1)\n",
    "        context_vector = attention_weights * values\n",
    "        context_vector = tf.reduce_sum(context_vector, axis=1)\n",
    "        return attention_weights, context_vector"
   ]
  },
  {
   "cell_type": "code",
   "execution_count": 17,
   "metadata": {},
   "outputs": [],
   "source": [
    "batch_size = 4\n",
    "latentSpaceDimension = 16\n",
    "n_features = 12\n",
    "n_timesteps = 10\n",
    "\n",
    "encoder_inputs = tf.random.uniform((batch_size,\n",
    "                                    n_timesteps, n_features))\n",
    "encoder_lstm = LSTM(latentSpaceDimension,\n",
    "                    return_sequences=True,\n",
    "                    return_state=True,\n",
    "                    name='encoder_lstm')\n",
    "decoder_lstm = LSTM(latentSpaceDimension, \n",
    "                    return_state=True,\n",
    "                    name='decoder_lstm')\n",
    "\n",
    "attention = BahdanauAttention(latentSpaceDimension)\n",
    "encoder_outputs, *encoder_states = encoder_lstm(encoder_inputs)\n",
    "decoder_outputs, state_h, state_c = decoder_lstm(inputs, initial_state=states)"
   ]
  },
  {
   "cell_type": "code",
   "execution_count": 16,
   "metadata": {},
   "outputs": [],
   "source": [
    "encoder_state_h, encoder_state_c = encoder_states"
   ]
  },
  {
   "cell_type": "code",
   "execution_count": null,
   "metadata": {},
   "outputs": [],
   "source": []
  }
 ],
 "metadata": {
  "kernelspec": {
   "display_name": "Python 3",
   "language": "python",
   "name": "python3"
  },
  "language_info": {
   "codemirror_mode": {
    "name": "ipython",
    "version": 3
   },
   "file_extension": ".py",
   "mimetype": "text/x-python",
   "name": "python",
   "nbconvert_exporter": "python",
   "pygments_lexer": "ipython3",
   "version": "3.7.4"
  }
 },
 "nbformat": 4,
 "nbformat_minor": 2
}
