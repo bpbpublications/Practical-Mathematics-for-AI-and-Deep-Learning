{
 "cells": [
  {
   "cell_type": "code",
   "execution_count": 1,
   "metadata": {},
   "outputs": [],
   "source": [
    "import tensorflow as tf\n",
    "from tensorflow.keras import layers\n",
    "from tensorflow.keras import Model\n",
    "import numpy as np\n",
    "import os\n",
    "import time"
   ]
  },
  {
   "cell_type": "code",
   "execution_count": 2,
   "metadata": {},
   "outputs": [],
   "source": [
    "import matplotlib.pylab as plt\n",
    "%matplotlib inline"
   ]
  },
  {
   "cell_type": "code",
   "execution_count": 9,
   "metadata": {},
   "outputs": [
    {
     "data": {
      "text/plain": [
       "Text(0.5, 1.0, '20 Samples from P & Q')"
      ]
     },
     "execution_count": 9,
     "metadata": {},
     "output_type": "execute_result"
    },
    {
     "data": {
      "image/png": "[encoded data removed]",
      "text/plain": [
       "<Figure size 720x360 with 1 Axes>"
      ]
     },
     "metadata": {
      "needs_background": "light"
     },
     "output_type": "display_data"
    }
   ],
   "source": [
    "n = 20\n",
    "plt.figure(figsize=[10,5])\n",
    "plt.scatter(np.zeros(n), np.random.random(n), label='samples from $P$')\n",
    "plt.scatter(np.ones(n)*0.6, np.random.random(n), label=r'samples from $Q, \\theta = 0.6$')\n",
    "plt.xticks([-0.6, -0.3, 0.0, .3,.6, .9])\n",
    "plt.legend(loc='upper left')\n",
    "plt.title(\"20 Samples from P & Q\")"
   ]
  },
  {
   "cell_type": "code",
   "execution_count": 3,
   "metadata": {},
   "outputs": [],
   "source": [
    "num_channels = 1"
   ]
  },
  {
   "cell_type": "code",
   "execution_count": 4,
   "metadata": {},
   "outputs": [],
   "source": [
    "def generator(noise_dim):\n",
    "    z = layers.Input(shape=noise_dim)\n",
    "    x = layers.Dense(units=4*4*1024)(z)\n",
    "    x = layers.Reshape((4,4,1024))(x)\n",
    "    x = layers.Conv2DTranspose(filters=512, kernel_size=5, strides=2, padding='same')(x)\n",
    "    x = layers.Conv2DTranspose(filters=256, kernel_size=5, strides=2, padding='same')(x)\n",
    "    x = layers.Conv2DTranspose(filters=128, kernel_size=5, strides=2, padding='same')(x)\n",
    "    x = layers.Conv2DTranspose(filters=num_channels, kernel_size=5, strides=2, padding='same')(x)\n",
    "    return Model(inputs = z, outputs=x)"
   ]
  },
  {
   "cell_type": "code",
   "execution_count": 5,
   "metadata": {},
   "outputs": [],
   "source": [
    "def generator(noise_dim):\n",
    "    z = layers.Input(shape=noise_dim)\n",
    "    x = layers.Dense(units=7*7*256)(z)\n",
    "    x = layers.Reshape((7,7,256))(x)\n",
    "    for filter_size in [256,128, 64, num_channels]:\n",
    "        x = layers.Conv2DTranspose(filters=filter_size, kernel_size=5, strides=2, padding='same')(x)\n",
    "        x = layers.LeakyReLU(0.2)(x)\n",
    "        x = layers.BatchNormalization()(x)\n",
    "    return Model(inputs = z, outputs=x)"
   ]
  },
  {
   "cell_type": "code",
   "execution_count": 9,
   "metadata": {},
   "outputs": [],
   "source": [
    "def generator(noise_dim):\n",
    "    z = layers.Input(shape=noise_dim)\n",
    "    x = layers.Dense(units=4*4*1024)(z)\n",
    "    x = layers.Reshape((4,4,1024))(x)\n",
    "    for filter_size in [512,256,128,3]:\n",
    "        x = layers.Conv2DTranspose(filters=filter_size,\n",
    "               kernel_size=5, strides=2, padding='same')(x)\n",
    "        x = layers.LeakyReLU(0.2)(x)\n",
    "        x = layers.BatchNormalization()(x)\n",
    "    return Model(inputs = z, outputs=x)"
   ]
  },
  {
   "cell_type": "code",
   "execution_count": 10,
   "metadata": {},
   "outputs": [
    {
     "name": "stdout",
     "output_type": "stream",
     "text": [
      "Model: \"model_2\"\n",
      "_________________________________________________________________\n",
      "Layer (type)                 Output Shape              Param #   \n",
      "=================================================================\n",
      "input_4 (InputLayer)         [(None, 100)]             0         \n",
      "_________________________________________________________________\n",
      "dense_3 (Dense)              (None, 16384)             1654784   \n",
      "_________________________________________________________________\n",
      "reshape_3 (Reshape)          (None, 4, 4, 1024)        0         \n",
      "_________________________________________________________________\n",
      "conv2d_transpose_9 (Conv2DTr (None, 8, 8, 512)         13107712  \n",
      "_________________________________________________________________\n",
      "leaky_re_lu_9 (LeakyReLU)    (None, 8, 8, 512)         0         \n",
      "_________________________________________________________________\n",
      "batch_normalization_9 (Batch (None, 8, 8, 512)         2048      \n",
      "_________________________________________________________________\n",
      "conv2d_transpose_10 (Conv2DT (None, 16, 16, 256)       3277056   \n",
      "_________________________________________________________________\n",
      "leaky_re_lu_10 (LeakyReLU)   (None, 16, 16, 256)       0         \n",
      "_________________________________________________________________\n",
      "batch_normalization_10 (Batc (None, 16, 16, 256)       1024      \n",
      "_________________________________________________________________\n",
      "conv2d_transpose_11 (Conv2DT (None, 32, 32, 128)       819328    \n",
      "_________________________________________________________________\n",
      "leaky_re_lu_11 (LeakyReLU)   (None, 32, 32, 128)       0         \n",
      "_________________________________________________________________\n",
      "batch_normalization_11 (Batc (None, 32, 32, 128)       512       \n",
      "_________________________________________________________________\n",
      "conv2d_transpose_12 (Conv2DT (None, 64, 64, 3)         9603      \n",
      "_________________________________________________________________\n",
      "leaky_re_lu_12 (LeakyReLU)   (None, 64, 64, 3)         0         \n",
      "_________________________________________________________________\n",
      "batch_normalization_12 (Batc (None, 64, 64, 3)         12        \n",
      "=================================================================\n",
      "Total params: 18,872,079\n",
      "Trainable params: 18,870,281\n",
      "Non-trainable params: 1,798\n",
      "_________________________________________________________________\n"
     ]
    }
   ],
   "source": [
    "G = generator(100)\n",
    "G.summary()"
   ]
  },
  {
   "cell_type": "code",
   "execution_count": 62,
   "metadata": {},
   "outputs": [],
   "source": [
    "def discriminator():\n",
    "    img = layers.Input(shape=[64,64,3])\n",
    "    x = layers.Conv2D(filters=128, kernel_size=5, strides=2,\n",
    "                      padding='same')(img)\n",
    "    for filter_size in [256, 512,1024]:\n",
    "        x = layers.Conv2D(filters=filter_size, kernel_size=5,\n",
    "                          strides=2, padding='same')(x)\n",
    "        x = layers.LeakyReLU(0.2)(x)\n",
    "        x = layers.BatchNormalization()(x)\n",
    "\n",
    "    x = layers.Flatten()(x)\n",
    "    x = layers.Dense(1)(x)\n",
    "    return Model(inputs = img, outputs = x)"
   ]
  },
  {
   "cell_type": "code",
   "execution_count": 63,
   "metadata": {},
   "outputs": [],
   "source": [
    "D =discriminator()"
   ]
  },
  {
   "cell_type": "code",
   "execution_count": 64,
   "metadata": {},
   "outputs": [
    {
     "name": "stdout",
     "output_type": "stream",
     "text": [
      "Model: \"model\"\n",
      "_________________________________________________________________\n",
      "Layer (type)                 Output Shape              Param #   \n",
      "=================================================================\n",
      "input_1 (InputLayer)         [(None, 64, 64, 3)]       0         \n",
      "_________________________________________________________________\n",
      "conv2d (Conv2D)              (None, 32, 32, 128)       9728      \n",
      "_________________________________________________________________\n",
      "conv2d_1 (Conv2D)            (None, 16, 16, 256)       819456    \n",
      "_________________________________________________________________\n",
      "leaky_re_lu (LeakyReLU)      (None, 16, 16, 256)       0         \n",
      "_________________________________________________________________\n",
      "batch_normalization (BatchNo (None, 16, 16, 256)       1024      \n",
      "_________________________________________________________________\n",
      "conv2d_2 (Conv2D)            (None, 8, 8, 512)         3277312   \n",
      "_________________________________________________________________\n",
      "leaky_re_lu_1 (LeakyReLU)    (None, 8, 8, 512)         0         \n",
      "_________________________________________________________________\n",
      "batch_normalization_1 (Batch (None, 8, 8, 512)         2048      \n",
      "_________________________________________________________________\n",
      "conv2d_3 (Conv2D)            (None, 4, 4, 1024)        13108224  \n",
      "_________________________________________________________________\n",
      "leaky_re_lu_2 (LeakyReLU)    (None, 4, 4, 1024)        0         \n",
      "_________________________________________________________________\n",
      "batch_normalization_2 (Batch (None, 4, 4, 1024)        4096      \n",
      "_________________________________________________________________\n",
      "flatten (Flatten)            (None, 16384)             0         \n",
      "_________________________________________________________________\n",
      "dense (Dense)                (None, 1)                 16385     \n",
      "=================================================================\n",
      "Total params: 17,238,273\n",
      "Trainable params: 17,234,689\n",
      "Non-trainable params: 3,584\n",
      "_________________________________________________________________\n"
     ]
    }
   ],
   "source": [
    "D.summary()"
   ]
  },
  {
   "cell_type": "code",
   "execution_count": 20,
   "metadata": {},
   "outputs": [],
   "source": [
    "input_path = \"./celebfaces\"\n",
    "def load_real_samples():\n",
    "    \n",
    "    # Loading Dataset\n",
    "    data = np.load(os.path.join(input_path, 'img_celeba.npz'))\n",
    "    train_x = data['arr_0']\n",
    "    \n",
    "    train_x = train_x.astype('float32')\n",
    "    train_x = (train_x - 127.5) / 127.5\n",
    "    return train_x\n",
    "\n",
    "# Loading Dataset\n",
    "dataset = load_real_samples()"
   ]
  },
  {
   "cell_type": "code",
   "execution_count": 21,
   "metadata": {},
   "outputs": [
    {
     "data": {
      "text/plain": [
       "(50000, 80, 80, 3)"
      ]
     },
     "execution_count": 21,
     "metadata": {},
     "output_type": "execute_result"
    }
   ],
   "source": [
    "dataset.shape"
   ]
  },
  {
   "cell_type": "code",
   "execution_count": 22,
   "metadata": {},
   "outputs": [],
   "source": [
    "def tf_resize(img):\n",
    "    return tf.image.resize_with_pad(img, 64,64)"
   ]
  },
  {
   "cell_type": "code",
   "execution_count": 23,
   "metadata": {},
   "outputs": [],
   "source": [
    "dataset1 = tf.map_fn(fn=tf_resize, elems=dataset)"
   ]
  },
  {
   "cell_type": "code",
   "execution_count": 136,
   "metadata": {},
   "outputs": [
    {
     "name": "stderr",
     "output_type": "stream",
     "text": [
      "Clipping input data to the valid range for imshow with RGB data ([0..1] for floats or [0..255] for integers).\n"
     ]
    },
    {
     "data": {
      "text/plain": [
       "<matplotlib.image.AxesImage at 0x18a6f570b08>"
      ]
     },
     "execution_count": 136,
     "metadata": {},
     "output_type": "execute_result"
    },
    {
     "data": {
      "image/png": "[encoded data removed]",
      "text/plain": [
       "<Figure size 432x288 with 1 Axes>"
      ]
     },
     "metadata": {
      "needs_background": "light"
     },
     "output_type": "display_data"
    }
   ],
   "source": [
    "import matplotlib.pylab as plt\n",
    "%matplotlib inline\n",
    "plt.imshow(dataset1[1])"
   ]
  },
  {
   "cell_type": "code",
   "execution_count": 137,
   "metadata": {},
   "outputs": [
    {
     "data": {
      "text/plain": [
       "TensorShape([50000, 64, 64, 3])"
      ]
     },
     "execution_count": 137,
     "metadata": {},
     "output_type": "execute_result"
    }
   ],
   "source": [
    "dataset1.shape"
   ]
  },
  {
   "cell_type": "markdown",
   "metadata": {},
   "source": [
    "loading Mnist data"
   ]
  },
  {
   "cell_type": "code",
   "execution_count": 5,
   "metadata": {},
   "outputs": [],
   "source": [
    "(train_images, train_labels), (_, _) = tf.keras.datasets.mnist.load_data()"
   ]
  },
  {
   "cell_type": "code",
   "execution_count": 6,
   "metadata": {},
   "outputs": [],
   "source": [
    "train_images = train_images.reshape(train_images.shape[0], 28, 28, 1).astype('float32')\n",
    "train_images = (train_images - 127.5) / 127.5  # Normalize the images to [-1, 1]"
   ]
  },
  {
   "cell_type": "code",
   "execution_count": 9,
   "metadata": {},
   "outputs": [],
   "source": [
    "dataset1 = tf.map_fn(fn=tf_resize, elems=train_images)"
   ]
  },
  {
   "cell_type": "code",
   "execution_count": 10,
   "metadata": {},
   "outputs": [
    {
     "data": {
      "text/plain": [
       "TensorShape([60000, 64, 64, 1])"
      ]
     },
     "execution_count": 10,
     "metadata": {},
     "output_type": "execute_result"
    }
   ],
   "source": [
    "dataset1.shape"
   ]
  },
  {
   "cell_type": "code",
   "execution_count": 24,
   "metadata": {},
   "outputs": [],
   "source": [
    "cross_entropy = tf.keras.losses.BinaryCrossentropy(from_logits=True)"
   ]
  },
  {
   "cell_type": "code",
   "execution_count": 25,
   "metadata": {},
   "outputs": [],
   "source": [
    "def discriminator_loss(real_output, fake_output):\n",
    "    real_loss = cross_entropy(tf.ones_like(real_output), real_output)\n",
    "    fake_loss = cross_entropy(tf.zeros_like(fake_output), fake_output)\n",
    "    total_loss = real_loss + fake_loss\n",
    "    return total_loss"
   ]
  },
  {
   "cell_type": "code",
   "execution_count": 26,
   "metadata": {},
   "outputs": [],
   "source": [
    "def generator_loss(fake_output):\n",
    "    return cross_entropy(tf.ones_like(fake_output), fake_output)"
   ]
  },
  {
   "cell_type": "code",
   "execution_count": 27,
   "metadata": {},
   "outputs": [],
   "source": [
    "BUFFER_SIZE = 60000\n",
    "BATCH_SIZE = 64\n",
    "noise_dim = 100"
   ]
  },
  {
   "cell_type": "code",
   "execution_count": 10,
   "metadata": {},
   "outputs": [],
   "source": [
    "G = generator(noise_dim)"
   ]
  },
  {
   "cell_type": "code",
   "execution_count": 11,
   "metadata": {},
   "outputs": [
    {
     "name": "stdout",
     "output_type": "stream",
     "text": [
      "Model: \"model_1\"\n",
      "_________________________________________________________________\n",
      "Layer (type)                 Output Shape              Param #   \n",
      "=================================================================\n",
      "input_2 (InputLayer)         [(None, 100)]             0         \n",
      "_________________________________________________________________\n",
      "dense_1 (Dense)              (None, 12544)             1266944   \n",
      "_________________________________________________________________\n",
      "reshape (Reshape)            (None, 7, 7, 256)         0         \n",
      "_________________________________________________________________\n",
      "conv2d_transpose (Conv2DTran (None, 14, 14, 256)       1638656   \n",
      "_________________________________________________________________\n",
      "leaky_re_lu_3 (LeakyReLU)    (None, 14, 14, 256)       0         \n",
      "_________________________________________________________________\n",
      "batch_normalization_3 (Batch (None, 14, 14, 256)       1024      \n",
      "_________________________________________________________________\n",
      "conv2d_transpose_1 (Conv2DTr (None, 28, 28, 128)       819328    \n",
      "_________________________________________________________________\n",
      "leaky_re_lu_4 (LeakyReLU)    (None, 28, 28, 128)       0         \n",
      "_________________________________________________________________\n",
      "batch_normalization_4 (Batch (None, 28, 28, 128)       512       \n",
      "_________________________________________________________________\n",
      "conv2d_transpose_2 (Conv2DTr (None, 56, 56, 64)        204864    \n",
      "_________________________________________________________________\n",
      "leaky_re_lu_5 (LeakyReLU)    (None, 56, 56, 64)        0         \n",
      "_________________________________________________________________\n",
      "batch_normalization_5 (Batch (None, 56, 56, 64)        256       \n",
      "_________________________________________________________________\n",
      "conv2d_transpose_3 (Conv2DTr (None, 112, 112, 1)       1601      \n",
      "_________________________________________________________________\n",
      "leaky_re_lu_6 (LeakyReLU)    (None, 112, 112, 1)       0         \n",
      "_________________________________________________________________\n",
      "batch_normalization_6 (Batch (None, 112, 112, 1)       4         \n",
      "=================================================================\n",
      "Total params: 3,933,189\n",
      "Trainable params: 3,932,291\n",
      "Non-trainable params: 898\n",
      "_________________________________________________________________\n"
     ]
    }
   ],
   "source": [
    "G.summary()"
   ]
  },
  {
   "cell_type": "code",
   "execution_count": 28,
   "metadata": {},
   "outputs": [],
   "source": [
    "# Batch and shuffle the data\n",
    "train_dataset = tf.data.Dataset.from_tensor_slices(dataset1).shuffle(BUFFER_SIZE).batch(BATCH_SIZE)"
   ]
  },
  {
   "cell_type": "code",
   "execution_count": 34,
   "metadata": {},
   "outputs": [],
   "source": [
    "generator_optimizer = tf.keras.optimizers.Adam(1e-4)\n",
    "discriminator_optimizer = tf.keras.optimizers.Adam(1e-4)"
   ]
  },
  {
   "cell_type": "code",
   "execution_count": 35,
   "metadata": {},
   "outputs": [],
   "source": [
    "total_loss_tracker = tf.keras.metrics.Mean(name=\"total_loss\")"
   ]
  },
  {
   "cell_type": "code",
   "execution_count": 39,
   "metadata": {},
   "outputs": [],
   "source": [
    "@tf.function\n",
    "def train_step(images):\n",
    "    noise = tf.random.normal([BATCH_SIZE, noise_dim])\n",
    "\n",
    "    with tf.GradientTape() as gen_tape, tf.GradientTape() as disc_tape:\n",
    "        generated_images = G(noise, training=True)\n",
    "        \n",
    "        real_output = D(images, training=True)\n",
    "        fake_output = D(generated_images, training=True)\n",
    "\n",
    "        #gen_loss = generator_loss(fake_output)\n",
    "        gen_loss = generator_loss(real_output, fake_output)\n",
    "        disc_loss = discriminator_loss(real_output, fake_output)\n",
    "        total_loss = gen_loss + disc_loss\n",
    "    gradients_of_generator = gen_tape.gradient(gen_loss, G.trainable_variables)\n",
    "    gradients_of_discriminator = disc_tape.gradient(disc_loss, D.trainable_variables)\n",
    "\n",
    "    generator_optimizer.apply_gradients(zip(gradients_of_generator, G.trainable_variables))\n",
    "    discriminator_optimizer.apply_gradients(zip(gradients_of_discriminator, D.trainable_variables))\n",
    "    total_loss_tracker.update_state(total_loss)"
   ]
  },
  {
   "cell_type": "code",
   "execution_count": 40,
   "metadata": {},
   "outputs": [
    {
     "data": {
      "text/plain": [
       "\"\\ndef train(dataset, epochs):\\n    for epoch in range(epochs):\\n        start = time.time()\\n\\n    for image_batch in dataset:\\n        print('starting epoch')\\n        train_step(image_batch)\\n        print ('Time for epoch {} is {} sec'.format(epoch + 1, time.time()-start))\\n\""
      ]
     },
     "execution_count": 40,
     "metadata": {},
     "output_type": "execute_result"
    }
   ],
   "source": [
    "def train(dataset, epochs):\n",
    "    for epoch in range(epochs):\n",
    "        start = time.time()\n",
    "        print('starting epoch {}'.format(epoch))\n",
    "        \n",
    "        for image_batch in dataset:   \n",
    "            if image_batch.shape[0]==BATCH_SIZE:\n",
    "                train_step(image_batch)\n",
    "        print ('Time for epoch {} is {} sec, loss {}'.format(epoch + 1, time.time()-start, total_loss_tracker.result()))\n",
    "        \n",
    "'''\n",
    "def train(dataset, epochs):\n",
    "    for epoch in range(epochs):\n",
    "        start = time.time()\n",
    "\n",
    "    for image_batch in dataset:\n",
    "        print('starting epoch')\n",
    "        train_step(image_batch)\n",
    "        print ('Time for epoch {} is {} sec'.format(epoch + 1, time.time()-start))\n",
    "'''"
   ]
  },
  {
   "cell_type": "code",
   "execution_count": 41,
   "metadata": {},
   "outputs": [
    {
     "name": "stdout",
     "output_type": "stream",
     "text": [
      "starting epoch 0\n",
      "WARNING:tensorflow:Model was constructed with shape Tensor(\"input_5:0\", shape=(None, 64, 64, 3), dtype=float32) for input (None, 64, 64, 3), but it was re-called on a Tensor with incompatible shape (64, 1).\n"
     ]
    },
    {
     "ename": "ValueError",
     "evalue": "in converted code:\n\n    <ipython-input-39-a97da3e6ce10>:12 train_step  *\n        gen_loss = generator_loss(real_output, fake_output)\n    <ipython-input-33-6e8b2ad9bfcc>:2 generator_loss  *\n        features_fake = tf.reduce_mean(intermediate_D(fake_output))\n    C:\\Users\\tghosh\\AppData\\Local\\Continuum\\anaconda3\\envs\\dl2\\lib\\site-packages\\tensorflow_core\\python\\keras\\engine\\base_layer.py:778 __call__\n        outputs = call_fn(cast_inputs, *args, **kwargs)\n    C:\\Users\\tghosh\\AppData\\Local\\Continuum\\anaconda3\\envs\\dl2\\lib\\site-packages\\tensorflow_core\\python\\keras\\engine\\network.py:717 call\n        convert_kwargs_to_constants=base_layer_utils.call_context().saving)\n    C:\\Users\\tghosh\\AppData\\Local\\Continuum\\anaconda3\\envs\\dl2\\lib\\site-packages\\tensorflow_core\\python\\keras\\engine\\network.py:891 _run_internal_graph\n        output_tensors = layer(computed_tensors, **kwargs)\n    C:\\Users\\tghosh\\AppData\\Local\\Continuum\\anaconda3\\envs\\dl2\\lib\\site-packages\\tensorflow_core\\python\\keras\\engine\\base_layer.py:737 __call__\n        self.name)\n    C:\\Users\\tghosh\\AppData\\Local\\Continuum\\anaconda3\\envs\\dl2\\lib\\site-packages\\tensorflow_core\\python\\keras\\engine\\input_spec.py:177 assert_input_compatibility\n        str(x.shape.as_list()))\n\n    ValueError: Input 0 of layer conv2d is incompatible with the layer: expected ndim=4, found ndim=2. Full shape received: [64, 1]\n",
     "output_type": "error",
     "traceback": [
      "\u001b[1;31m---------------------------------------------------------------------------\u001b[0m",
      "\u001b[1;31mValueError\u001b[0m                                Traceback (most recent call last)",
      "\u001b[1;32m<ipython-input-41-422a2dcc2f99>\u001b[0m in \u001b[0;36m<module>\u001b[1;34m\u001b[0m\n\u001b[1;32m----> 1\u001b[1;33m \u001b[0mtrain\u001b[0m\u001b[1;33m(\u001b[0m\u001b[0mtrain_dataset\u001b[0m\u001b[1;33m,\u001b[0m \u001b[1;36m20\u001b[0m\u001b[1;33m)\u001b[0m\u001b[1;33m\u001b[0m\u001b[1;33m\u001b[0m\u001b[0m\n\u001b[0m",
      "\u001b[1;32m<ipython-input-40-30302d02a4cc>\u001b[0m in \u001b[0;36mtrain\u001b[1;34m(dataset, epochs)\u001b[0m\n\u001b[0;32m      6\u001b[0m         \u001b[1;32mfor\u001b[0m \u001b[0mimage_batch\u001b[0m \u001b[1;32min\u001b[0m \u001b[0mdataset\u001b[0m\u001b[1;33m:\u001b[0m\u001b[1;33m\u001b[0m\u001b[1;33m\u001b[0m\u001b[0m\n\u001b[0;32m      7\u001b[0m             \u001b[1;32mif\u001b[0m \u001b[0mimage_batch\u001b[0m\u001b[1;33m.\u001b[0m\u001b[0mshape\u001b[0m\u001b[1;33m[\u001b[0m\u001b[1;36m0\u001b[0m\u001b[1;33m]\u001b[0m\u001b[1;33m==\u001b[0m\u001b[0mBATCH_SIZE\u001b[0m\u001b[1;33m:\u001b[0m\u001b[1;33m\u001b[0m\u001b[1;33m\u001b[0m\u001b[0m\n\u001b[1;32m----> 8\u001b[1;33m                 \u001b[0mtrain_step\u001b[0m\u001b[1;33m(\u001b[0m\u001b[0mimage_batch\u001b[0m\u001b[1;33m)\u001b[0m\u001b[1;33m\u001b[0m\u001b[1;33m\u001b[0m\u001b[0m\n\u001b[0m\u001b[0;32m      9\u001b[0m         \u001b[0mprint\u001b[0m \u001b[1;33m(\u001b[0m\u001b[1;34m'Time for epoch {} is {} sec, loss {}'\u001b[0m\u001b[1;33m.\u001b[0m\u001b[0mformat\u001b[0m\u001b[1;33m(\u001b[0m\u001b[0mepoch\u001b[0m \u001b[1;33m+\u001b[0m \u001b[1;36m1\u001b[0m\u001b[1;33m,\u001b[0m \u001b[0mtime\u001b[0m\u001b[1;33m.\u001b[0m\u001b[0mtime\u001b[0m\u001b[1;33m(\u001b[0m\u001b[1;33m)\u001b[0m\u001b[1;33m-\u001b[0m\u001b[0mstart\u001b[0m\u001b[1;33m,\u001b[0m \u001b[0mtotal_loss_tracker\u001b[0m\u001b[1;33m.\u001b[0m\u001b[0mresult\u001b[0m\u001b[1;33m(\u001b[0m\u001b[1;33m)\u001b[0m\u001b[1;33m)\u001b[0m\u001b[1;33m)\u001b[0m\u001b[1;33m\u001b[0m\u001b[1;33m\u001b[0m\u001b[0m\n\u001b[0;32m     10\u001b[0m \u001b[1;33m\u001b[0m\u001b[0m\n",
      "\u001b[1;32m~\\AppData\\Local\\Continuum\\anaconda3\\envs\\dl2\\lib\\site-packages\\tensorflow_core\\python\\eager\\def_function.py\u001b[0m in \u001b[0;36m__call__\u001b[1;34m(self, *args, **kwds)\u001b[0m\n\u001b[0;32m    566\u001b[0m         \u001b[0mxla_context\u001b[0m\u001b[1;33m.\u001b[0m\u001b[0mExit\u001b[0m\u001b[1;33m(\u001b[0m\u001b[1;33m)\u001b[0m\u001b[1;33m\u001b[0m\u001b[1;33m\u001b[0m\u001b[0m\n\u001b[0;32m    567\u001b[0m     \u001b[1;32melse\u001b[0m\u001b[1;33m:\u001b[0m\u001b[1;33m\u001b[0m\u001b[1;33m\u001b[0m\u001b[0m\n\u001b[1;32m--> 568\u001b[1;33m       \u001b[0mresult\u001b[0m \u001b[1;33m=\u001b[0m \u001b[0mself\u001b[0m\u001b[1;33m.\u001b[0m\u001b[0m_call\u001b[0m\u001b[1;33m(\u001b[0m\u001b[1;33m*\u001b[0m\u001b[0margs\u001b[0m\u001b[1;33m,\u001b[0m \u001b[1;33m**\u001b[0m\u001b[0mkwds\u001b[0m\u001b[1;33m)\u001b[0m\u001b[1;33m\u001b[0m\u001b[1;33m\u001b[0m\u001b[0m\n\u001b[0m\u001b[0;32m    569\u001b[0m \u001b[1;33m\u001b[0m\u001b[0m\n\u001b[0;32m    570\u001b[0m     \u001b[1;32mif\u001b[0m \u001b[0mtracing_count\u001b[0m \u001b[1;33m==\u001b[0m \u001b[0mself\u001b[0m\u001b[1;33m.\u001b[0m\u001b[0m_get_tracing_count\u001b[0m\u001b[1;33m(\u001b[0m\u001b[1;33m)\u001b[0m\u001b[1;33m:\u001b[0m\u001b[1;33m\u001b[0m\u001b[1;33m\u001b[0m\u001b[0m\n",
      "\u001b[1;32m~\\AppData\\Local\\Continuum\\anaconda3\\envs\\dl2\\lib\\site-packages\\tensorflow_core\\python\\eager\\def_function.py\u001b[0m in \u001b[0;36m_call\u001b[1;34m(self, *args, **kwds)\u001b[0m\n\u001b[0;32m    613\u001b[0m       \u001b[1;31m# This is the first call of __call__, so we have to initialize.\u001b[0m\u001b[1;33m\u001b[0m\u001b[1;33m\u001b[0m\u001b[1;33m\u001b[0m\u001b[0m\n\u001b[0;32m    614\u001b[0m       \u001b[0minitializers\u001b[0m \u001b[1;33m=\u001b[0m \u001b[1;33m[\u001b[0m\u001b[1;33m]\u001b[0m\u001b[1;33m\u001b[0m\u001b[1;33m\u001b[0m\u001b[0m\n\u001b[1;32m--> 615\u001b[1;33m       \u001b[0mself\u001b[0m\u001b[1;33m.\u001b[0m\u001b[0m_initialize\u001b[0m\u001b[1;33m(\u001b[0m\u001b[0margs\u001b[0m\u001b[1;33m,\u001b[0m \u001b[0mkwds\u001b[0m\u001b[1;33m,\u001b[0m \u001b[0madd_initializers_to\u001b[0m\u001b[1;33m=\u001b[0m\u001b[0minitializers\u001b[0m\u001b[1;33m)\u001b[0m\u001b[1;33m\u001b[0m\u001b[1;33m\u001b[0m\u001b[0m\n\u001b[0m\u001b[0;32m    616\u001b[0m     \u001b[1;32mfinally\u001b[0m\u001b[1;33m:\u001b[0m\u001b[1;33m\u001b[0m\u001b[1;33m\u001b[0m\u001b[0m\n\u001b[0;32m    617\u001b[0m       \u001b[1;31m# At this point we know that the initialization is complete (or less\u001b[0m\u001b[1;33m\u001b[0m\u001b[1;33m\u001b[0m\u001b[1;33m\u001b[0m\u001b[0m\n",
      "\u001b[1;32m~\\AppData\\Local\\Continuum\\anaconda3\\envs\\dl2\\lib\\site-packages\\tensorflow_core\\python\\eager\\def_function.py\u001b[0m in \u001b[0;36m_initialize\u001b[1;34m(self, args, kwds, add_initializers_to)\u001b[0m\n\u001b[0;32m    495\u001b[0m     self._concrete_stateful_fn = (\n\u001b[0;32m    496\u001b[0m         self._stateful_fn._get_concrete_function_internal_garbage_collected(  # pylint: disable=protected-access\n\u001b[1;32m--> 497\u001b[1;33m             *args, **kwds))\n\u001b[0m\u001b[0;32m    498\u001b[0m \u001b[1;33m\u001b[0m\u001b[0m\n\u001b[0;32m    499\u001b[0m     \u001b[1;32mdef\u001b[0m \u001b[0minvalid_creator_scope\u001b[0m\u001b[1;33m(\u001b[0m\u001b[1;33m*\u001b[0m\u001b[0munused_args\u001b[0m\u001b[1;33m,\u001b[0m \u001b[1;33m**\u001b[0m\u001b[0munused_kwds\u001b[0m\u001b[1;33m)\u001b[0m\u001b[1;33m:\u001b[0m\u001b[1;33m\u001b[0m\u001b[1;33m\u001b[0m\u001b[0m\n",
      "\u001b[1;32m~\\AppData\\Local\\Continuum\\anaconda3\\envs\\dl2\\lib\\site-packages\\tensorflow_core\\python\\eager\\function.py\u001b[0m in \u001b[0;36m_get_concrete_function_internal_garbage_collected\u001b[1;34m(self, *args, **kwargs)\u001b[0m\n\u001b[0;32m   2387\u001b[0m       \u001b[0margs\u001b[0m\u001b[1;33m,\u001b[0m \u001b[0mkwargs\u001b[0m \u001b[1;33m=\u001b[0m \u001b[1;32mNone\u001b[0m\u001b[1;33m,\u001b[0m \u001b[1;32mNone\u001b[0m\u001b[1;33m\u001b[0m\u001b[1;33m\u001b[0m\u001b[0m\n\u001b[0;32m   2388\u001b[0m     \u001b[1;32mwith\u001b[0m \u001b[0mself\u001b[0m\u001b[1;33m.\u001b[0m\u001b[0m_lock\u001b[0m\u001b[1;33m:\u001b[0m\u001b[1;33m\u001b[0m\u001b[1;33m\u001b[0m\u001b[0m\n\u001b[1;32m-> 2389\u001b[1;33m       \u001b[0mgraph_function\u001b[0m\u001b[1;33m,\u001b[0m \u001b[0m_\u001b[0m\u001b[1;33m,\u001b[0m \u001b[0m_\u001b[0m \u001b[1;33m=\u001b[0m \u001b[0mself\u001b[0m\u001b[1;33m.\u001b[0m\u001b[0m_maybe_define_function\u001b[0m\u001b[1;33m(\u001b[0m\u001b[0margs\u001b[0m\u001b[1;33m,\u001b[0m \u001b[0mkwargs\u001b[0m\u001b[1;33m)\u001b[0m\u001b[1;33m\u001b[0m\u001b[1;33m\u001b[0m\u001b[0m\n\u001b[0m\u001b[0;32m   2390\u001b[0m     \u001b[1;32mreturn\u001b[0m \u001b[0mgraph_function\u001b[0m\u001b[1;33m\u001b[0m\u001b[1;33m\u001b[0m\u001b[0m\n\u001b[0;32m   2391\u001b[0m \u001b[1;33m\u001b[0m\u001b[0m\n",
      "\u001b[1;32m~\\AppData\\Local\\Continuum\\anaconda3\\envs\\dl2\\lib\\site-packages\\tensorflow_core\\python\\eager\\function.py\u001b[0m in \u001b[0;36m_maybe_define_function\u001b[1;34m(self, args, kwargs)\u001b[0m\n\u001b[0;32m   2701\u001b[0m \u001b[1;33m\u001b[0m\u001b[0m\n\u001b[0;32m   2702\u001b[0m       \u001b[0mself\u001b[0m\u001b[1;33m.\u001b[0m\u001b[0m_function_cache\u001b[0m\u001b[1;33m.\u001b[0m\u001b[0mmissed\u001b[0m\u001b[1;33m.\u001b[0m\u001b[0madd\u001b[0m\u001b[1;33m(\u001b[0m\u001b[0mcall_context_key\u001b[0m\u001b[1;33m)\u001b[0m\u001b[1;33m\u001b[0m\u001b[1;33m\u001b[0m\u001b[0m\n\u001b[1;32m-> 2703\u001b[1;33m       \u001b[0mgraph_function\u001b[0m \u001b[1;33m=\u001b[0m \u001b[0mself\u001b[0m\u001b[1;33m.\u001b[0m\u001b[0m_create_graph_function\u001b[0m\u001b[1;33m(\u001b[0m\u001b[0margs\u001b[0m\u001b[1;33m,\u001b[0m \u001b[0mkwargs\u001b[0m\u001b[1;33m)\u001b[0m\u001b[1;33m\u001b[0m\u001b[1;33m\u001b[0m\u001b[0m\n\u001b[0m\u001b[0;32m   2704\u001b[0m       \u001b[0mself\u001b[0m\u001b[1;33m.\u001b[0m\u001b[0m_function_cache\u001b[0m\u001b[1;33m.\u001b[0m\u001b[0mprimary\u001b[0m\u001b[1;33m[\u001b[0m\u001b[0mcache_key\u001b[0m\u001b[1;33m]\u001b[0m \u001b[1;33m=\u001b[0m \u001b[0mgraph_function\u001b[0m\u001b[1;33m\u001b[0m\u001b[1;33m\u001b[0m\u001b[0m\n\u001b[0;32m   2705\u001b[0m       \u001b[1;32mreturn\u001b[0m \u001b[0mgraph_function\u001b[0m\u001b[1;33m,\u001b[0m \u001b[0margs\u001b[0m\u001b[1;33m,\u001b[0m \u001b[0mkwargs\u001b[0m\u001b[1;33m\u001b[0m\u001b[1;33m\u001b[0m\u001b[0m\n",
      "\u001b[1;32m~\\AppData\\Local\\Continuum\\anaconda3\\envs\\dl2\\lib\\site-packages\\tensorflow_core\\python\\eager\\function.py\u001b[0m in \u001b[0;36m_create_graph_function\u001b[1;34m(self, args, kwargs, override_flat_arg_shapes)\u001b[0m\n\u001b[0;32m   2591\u001b[0m             \u001b[0marg_names\u001b[0m\u001b[1;33m=\u001b[0m\u001b[0marg_names\u001b[0m\u001b[1;33m,\u001b[0m\u001b[1;33m\u001b[0m\u001b[1;33m\u001b[0m\u001b[0m\n\u001b[0;32m   2592\u001b[0m             \u001b[0moverride_flat_arg_shapes\u001b[0m\u001b[1;33m=\u001b[0m\u001b[0moverride_flat_arg_shapes\u001b[0m\u001b[1;33m,\u001b[0m\u001b[1;33m\u001b[0m\u001b[1;33m\u001b[0m\u001b[0m\n\u001b[1;32m-> 2593\u001b[1;33m             capture_by_value=self._capture_by_value),\n\u001b[0m\u001b[0;32m   2594\u001b[0m         \u001b[0mself\u001b[0m\u001b[1;33m.\u001b[0m\u001b[0m_function_attributes\u001b[0m\u001b[1;33m,\u001b[0m\u001b[1;33m\u001b[0m\u001b[1;33m\u001b[0m\u001b[0m\n\u001b[0;32m   2595\u001b[0m         \u001b[1;31m# Tell the ConcreteFunction to clean up its graph once it goes out of\u001b[0m\u001b[1;33m\u001b[0m\u001b[1;33m\u001b[0m\u001b[1;33m\u001b[0m\u001b[0m\n",
      "\u001b[1;32m~\\AppData\\Local\\Continuum\\anaconda3\\envs\\dl2\\lib\\site-packages\\tensorflow_core\\python\\framework\\func_graph.py\u001b[0m in \u001b[0;36mfunc_graph_from_py_func\u001b[1;34m(name, python_func, args, kwargs, signature, func_graph, autograph, autograph_options, add_control_dependencies, arg_names, op_return_value, collections, capture_by_value, override_flat_arg_shapes)\u001b[0m\n\u001b[0;32m    976\u001b[0m                                           converted_func)\n\u001b[0;32m    977\u001b[0m \u001b[1;33m\u001b[0m\u001b[0m\n\u001b[1;32m--> 978\u001b[1;33m       \u001b[0mfunc_outputs\u001b[0m \u001b[1;33m=\u001b[0m \u001b[0mpython_func\u001b[0m\u001b[1;33m(\u001b[0m\u001b[1;33m*\u001b[0m\u001b[0mfunc_args\u001b[0m\u001b[1;33m,\u001b[0m \u001b[1;33m**\u001b[0m\u001b[0mfunc_kwargs\u001b[0m\u001b[1;33m)\u001b[0m\u001b[1;33m\u001b[0m\u001b[1;33m\u001b[0m\u001b[0m\n\u001b[0m\u001b[0;32m    979\u001b[0m \u001b[1;33m\u001b[0m\u001b[0m\n\u001b[0;32m    980\u001b[0m       \u001b[1;31m# invariant: `func_outputs` contains only Tensors, CompositeTensors,\u001b[0m\u001b[1;33m\u001b[0m\u001b[1;33m\u001b[0m\u001b[1;33m\u001b[0m\u001b[0m\n",
      "\u001b[1;32m~\\AppData\\Local\\Continuum\\anaconda3\\envs\\dl2\\lib\\site-packages\\tensorflow_core\\python\\eager\\def_function.py\u001b[0m in \u001b[0;36mwrapped_fn\u001b[1;34m(*args, **kwds)\u001b[0m\n\u001b[0;32m    437\u001b[0m         \u001b[1;31m# __wrapped__ allows AutoGraph to swap in a converted function. We give\u001b[0m\u001b[1;33m\u001b[0m\u001b[1;33m\u001b[0m\u001b[1;33m\u001b[0m\u001b[0m\n\u001b[0;32m    438\u001b[0m         \u001b[1;31m# the function a weak reference to itself to avoid a reference cycle.\u001b[0m\u001b[1;33m\u001b[0m\u001b[1;33m\u001b[0m\u001b[1;33m\u001b[0m\u001b[0m\n\u001b[1;32m--> 439\u001b[1;33m         \u001b[1;32mreturn\u001b[0m \u001b[0mweak_wrapped_fn\u001b[0m\u001b[1;33m(\u001b[0m\u001b[1;33m)\u001b[0m\u001b[1;33m.\u001b[0m\u001b[0m__wrapped__\u001b[0m\u001b[1;33m(\u001b[0m\u001b[1;33m*\u001b[0m\u001b[0margs\u001b[0m\u001b[1;33m,\u001b[0m \u001b[1;33m**\u001b[0m\u001b[0mkwds\u001b[0m\u001b[1;33m)\u001b[0m\u001b[1;33m\u001b[0m\u001b[1;33m\u001b[0m\u001b[0m\n\u001b[0m\u001b[0;32m    440\u001b[0m     \u001b[0mweak_wrapped_fn\u001b[0m \u001b[1;33m=\u001b[0m \u001b[0mweakref\u001b[0m\u001b[1;33m.\u001b[0m\u001b[0mref\u001b[0m\u001b[1;33m(\u001b[0m\u001b[0mwrapped_fn\u001b[0m\u001b[1;33m)\u001b[0m\u001b[1;33m\u001b[0m\u001b[1;33m\u001b[0m\u001b[0m\n\u001b[0;32m    441\u001b[0m \u001b[1;33m\u001b[0m\u001b[0m\n",
      "\u001b[1;32m~\\AppData\\Local\\Continuum\\anaconda3\\envs\\dl2\\lib\\site-packages\\tensorflow_core\\python\\framework\\func_graph.py\u001b[0m in \u001b[0;36mwrapper\u001b[1;34m(*args, **kwargs)\u001b[0m\n\u001b[0;32m    966\u001b[0m           \u001b[1;32mexcept\u001b[0m \u001b[0mException\u001b[0m \u001b[1;32mas\u001b[0m \u001b[0me\u001b[0m\u001b[1;33m:\u001b[0m  \u001b[1;31m# pylint:disable=broad-except\u001b[0m\u001b[1;33m\u001b[0m\u001b[1;33m\u001b[0m\u001b[0m\n\u001b[0;32m    967\u001b[0m             \u001b[1;32mif\u001b[0m \u001b[0mhasattr\u001b[0m\u001b[1;33m(\u001b[0m\u001b[0me\u001b[0m\u001b[1;33m,\u001b[0m \u001b[1;34m\"ag_error_metadata\"\u001b[0m\u001b[1;33m)\u001b[0m\u001b[1;33m:\u001b[0m\u001b[1;33m\u001b[0m\u001b[1;33m\u001b[0m\u001b[0m\n\u001b[1;32m--> 968\u001b[1;33m               \u001b[1;32mraise\u001b[0m \u001b[0me\u001b[0m\u001b[1;33m.\u001b[0m\u001b[0mag_error_metadata\u001b[0m\u001b[1;33m.\u001b[0m\u001b[0mto_exception\u001b[0m\u001b[1;33m(\u001b[0m\u001b[0me\u001b[0m\u001b[1;33m)\u001b[0m\u001b[1;33m\u001b[0m\u001b[1;33m\u001b[0m\u001b[0m\n\u001b[0m\u001b[0;32m    969\u001b[0m             \u001b[1;32melse\u001b[0m\u001b[1;33m:\u001b[0m\u001b[1;33m\u001b[0m\u001b[1;33m\u001b[0m\u001b[0m\n\u001b[0;32m    970\u001b[0m               \u001b[1;32mraise\u001b[0m\u001b[1;33m\u001b[0m\u001b[1;33m\u001b[0m\u001b[0m\n",
      "\u001b[1;31mValueError\u001b[0m: in converted code:\n\n    <ipython-input-39-a97da3e6ce10>:12 train_step  *\n        gen_loss = generator_loss(real_output, fake_output)\n    <ipython-input-33-6e8b2ad9bfcc>:2 generator_loss  *\n        features_fake = tf.reduce_mean(intermediate_D(fake_output))\n    C:\\Users\\tghosh\\AppData\\Local\\Continuum\\anaconda3\\envs\\dl2\\lib\\site-packages\\tensorflow_core\\python\\keras\\engine\\base_layer.py:778 __call__\n        outputs = call_fn(cast_inputs, *args, **kwargs)\n    C:\\Users\\tghosh\\AppData\\Local\\Continuum\\anaconda3\\envs\\dl2\\lib\\site-packages\\tensorflow_core\\python\\keras\\engine\\network.py:717 call\n        convert_kwargs_to_constants=base_layer_utils.call_context().saving)\n    C:\\Users\\tghosh\\AppData\\Local\\Continuum\\anaconda3\\envs\\dl2\\lib\\site-packages\\tensorflow_core\\python\\keras\\engine\\network.py:891 _run_internal_graph\n        output_tensors = layer(computed_tensors, **kwargs)\n    C:\\Users\\tghosh\\AppData\\Local\\Continuum\\anaconda3\\envs\\dl2\\lib\\site-packages\\tensorflow_core\\python\\keras\\engine\\base_layer.py:737 __call__\n        self.name)\n    C:\\Users\\tghosh\\AppData\\Local\\Continuum\\anaconda3\\envs\\dl2\\lib\\site-packages\\tensorflow_core\\python\\keras\\engine\\input_spec.py:177 assert_input_compatibility\n        str(x.shape.as_list()))\n\n    ValueError: Input 0 of layer conv2d is incompatible with the layer: expected ndim=4, found ndim=2. Full shape received: [64, 1]\n"
     ]
    }
   ],
   "source": [
    "train(train_dataset, 20)"
   ]
  },
  {
   "cell_type": "markdown",
   "metadata": {},
   "source": [
    "Feature Matching"
   ]
  },
  {
   "cell_type": "code",
   "execution_count": 31,
   "metadata": {},
   "outputs": [],
   "source": [
    "intermediate_D = Model(D.inputs, D.get_layer('conv2d_2').output)"
   ]
  },
  {
   "cell_type": "code",
   "execution_count": 33,
   "metadata": {},
   "outputs": [],
   "source": [
    "def generator_loss(real_output, fake_output):\n",
    "    features_fake = tf.reduce_mean(intermediate_D(fake_output))\n",
    "    features_real = tf.reduce_mean(intermediate_D(real_output))\n",
    "    \n",
    "    return cross_entropy(tf.ones_like(fake_output), fake_output) \\\n",
    "               + tf.square(tf.norm(features_fake-features_real))"
   ]
  },
  {
   "cell_type": "markdown",
   "metadata": {},
   "source": [
    "# Minibatch discrimination"
   ]
  },
  {
   "cell_type": "code",
   "execution_count": 4,
   "metadata": {},
   "outputs": [],
   "source": [
    "D = 5\n",
    "K = 2\n",
    "d = 3\n",
    "n = 10"
   ]
  },
  {
   "cell_type": "code",
   "execution_count": 5,
   "metadata": {},
   "outputs": [],
   "source": [
    "M1 = tf.random.uniform([D,d])\n",
    "M2 = tf.random.uniform([D,d])"
   ]
  },
  {
   "cell_type": "code",
   "execution_count": 6,
   "metadata": {},
   "outputs": [
    {
     "data": {
      "text/plain": [
       "<tf.Tensor: shape=(5, 3), dtype=float32, numpy=\n",
       "array([[0.90905535, 0.10405719, 0.09131753],\n",
       "       [0.02863705, 0.5825683 , 0.846153  ],\n",
       "       [0.8478004 , 0.39795244, 0.977985  ],\n",
       "       [0.48442566, 0.14110696, 0.4586779 ],\n",
       "       [0.9102944 , 0.35196173, 0.42107034]], dtype=float32)>"
      ]
     },
     "execution_count": 6,
     "metadata": {},
     "output_type": "execute_result"
    }
   ],
   "source": [
    "M1"
   ]
  },
  {
   "cell_type": "code",
   "execution_count": 7,
   "metadata": {},
   "outputs": [
    {
     "data": {
      "text/plain": [
       "<tf.Tensor: shape=(5, 3), dtype=float32, numpy=\n",
       "array([[0.3017695 , 0.39971697, 0.23777246],\n",
       "       [0.7239461 , 0.1621412 , 0.9364575 ],\n",
       "       [0.12033594, 0.26026547, 0.09884906],\n",
       "       [0.51685464, 0.46610165, 0.24875021],\n",
       "       [0.67990506, 0.58456385, 0.65823436]], dtype=float32)>"
      ]
     },
     "execution_count": 7,
     "metadata": {},
     "output_type": "execute_result"
    }
   ],
   "source": [
    "M2"
   ]
  },
  {
   "cell_type": "code",
   "execution_count": 10,
   "metadata": {},
   "outputs": [
    {
     "data": {
      "text/plain": [
       "<tf.Tensor: shape=(5, 2, 3), dtype=float32, numpy=\n",
       "array([[[0.90905535, 0.10405719, 0.09131753],\n",
       "        [0.3017695 , 0.39971697, 0.23777246]],\n",
       "\n",
       "       [[0.02863705, 0.5825683 , 0.846153  ],\n",
       "        [0.7239461 , 0.1621412 , 0.9364575 ]],\n",
       "\n",
       "       [[0.8478004 , 0.39795244, 0.977985  ],\n",
       "        [0.12033594, 0.26026547, 0.09884906]],\n",
       "\n",
       "       [[0.48442566, 0.14110696, 0.4586779 ],\n",
       "        [0.51685464, 0.46610165, 0.24875021]],\n",
       "\n",
       "       [[0.9102944 , 0.35196173, 0.42107034],\n",
       "        [0.67990506, 0.58456385, 0.65823436]]], dtype=float32)>"
      ]
     },
     "execution_count": 10,
     "metadata": {},
     "output_type": "execute_result"
    }
   ],
   "source": [
    "tf.concat([tf.expand_dims(M1, axis=1), tf.expand_dims(M2, axis=1)], axis=1)"
   ]
  },
  {
   "cell_type": "code",
   "execution_count": 11,
   "metadata": {},
   "outputs": [
    {
     "data": {
      "text/plain": [
       "<tf.Tensor: shape=(5, 2, 3), dtype=float32, numpy=\n",
       "array([[[0.46842444, 0.95186114, 0.31345356],\n",
       "        [0.13825059, 0.97335446, 0.23805988]],\n",
       "\n",
       "       [[0.94486415, 0.35316324, 0.04996717],\n",
       "        [0.68308115, 0.33421838, 0.523685  ]],\n",
       "\n",
       "       [[0.52339494, 0.6992692 , 0.32730103],\n",
       "        [0.9215299 , 0.7267034 , 0.9626744 ]],\n",
       "\n",
       "       [[0.8449619 , 0.03745961, 0.00374424],\n",
       "        [0.7552904 , 0.64674604, 0.8571209 ]],\n",
       "\n",
       "       [[0.06938469, 0.3339815 , 0.35222828],\n",
       "        [0.09033382, 0.82826924, 0.0475359 ]]], dtype=float32)>"
      ]
     },
     "execution_count": 11,
     "metadata": {},
     "output_type": "execute_result"
    }
   ],
   "source": [
    "T = tf.random.uniform([D,K,d])\n",
    "T"
   ]
  },
  {
   "cell_type": "code",
   "execution_count": 15,
   "metadata": {},
   "outputs": [
    {
     "data": {
      "text/plain": [
       "<tf.Tensor: shape=(10, 5), dtype=float32, numpy=\n",
       "array([[0.53579485, 0.22043848, 0.8512554 , 0.59364235, 0.65108776],\n",
       "       [0.73988545, 0.39897418, 0.20312929, 0.01949179, 0.2785219 ],\n",
       "       [0.6069597 , 0.7328167 , 0.95966136, 0.9818381 , 0.60199976],\n",
       "       [0.08119547, 0.34293687, 0.32639813, 0.581118  , 0.4305358 ],\n",
       "       [0.09046173, 0.70486414, 0.20708644, 0.1790334 , 0.24359715],\n",
       "       [0.16241229, 0.89631736, 0.4913243 , 0.34857726, 0.08707452],\n",
       "       [0.194008  , 0.2368406 , 0.63229895, 0.5901879 , 0.7823255 ],\n",
       "       [0.54715204, 0.11998951, 0.7310027 , 0.34351993, 0.39887214],\n",
       "       [0.07517326, 0.9402046 , 0.7718631 , 0.7783884 , 0.77729225],\n",
       "       [0.21187091, 0.36405015, 0.9708501 , 0.21774459, 0.05188632]],\n",
       "      dtype=float32)>"
      ]
     },
     "execution_count": 15,
     "metadata": {},
     "output_type": "execute_result"
    }
   ],
   "source": [
    "fx = tf.random.uniform([n,D])\n",
    "fx"
   ]
  },
  {
   "cell_type": "code",
   "execution_count": 34,
   "metadata": {},
   "outputs": [],
   "source": [
    "multFeatures = tf.einsum('ij,jkl->ikl',fx, T)"
   ]
  },
  {
   "cell_type": "code",
   "execution_count": 35,
   "metadata": {},
   "outputs": [
    {
     "data": {
      "text/plain": [
       "<tf.Tensor: shape=(10, 2, 3), dtype=float32, numpy=\n",
       "array([[[1.1593724 , 0.89375454, 1.1838686 ],\n",
       "        [1.6287289 , 0.86550575, 0.95010316]],\n",
       "\n",
       "       [[0.81288606, 0.4292936 , 0.6704326 ],\n",
       "        [0.7319595 , 0.61242396, 0.33454993]],\n",
       "\n",
       "       [[1.5114806 , 1.1587211 , 1.8809394 ],\n",
       "        [2.3181956 , 1.4139124 , 1.0895185 ]],\n",
       "\n",
       "       [[0.67099416, 0.61236584, 0.8701151 ],\n",
       "        [1.1907641 , 0.6277503 , 0.5562905 ]],\n",
       "\n",
       "       [[0.5776517 , 0.29786566, 0.64153343],\n",
       "        [1.0281054 , 0.6158545 , 0.29951787]],\n",
       "\n",
       "       [[0.7304951 , 0.36885646, 0.99748605],\n",
       "        [1.3451461 , 0.8887679 , 0.38519326]],\n",
       "\n",
       "       [[0.97882664, 0.82929736, 0.96723014],\n",
       "        [1.5929219 , 0.70404845, 0.8988024 ]],\n",
       "\n",
       "       [[0.884442  , 0.61734825, 0.85950136],\n",
       "        [1.1161121 , 0.6410435 , 0.6862852 ]],\n",
       "\n",
       "       [[1.2765102 , 0.9387132 , 1.4809382 ],\n",
       "        [2.3712895 , 1.2054871 , 1.0078902 ]],\n",
       "\n",
       "       [[0.6213804 , 0.27805644, 0.7278147 ],\n",
       "        [1.1022834 , 0.61443794, 0.5242152 ]]], dtype=float32)>"
      ]
     },
     "execution_count": 35,
     "metadata": {},
     "output_type": "execute_result"
    }
   ],
   "source": [
    "multFeatures"
   ]
  },
  {
   "cell_type": "code",
   "execution_count": 36,
   "metadata": {},
   "outputs": [
    {
     "data": {
      "text/plain": [
       "TensorShape([10, 1, 2, 3])"
      ]
     },
     "execution_count": 36,
     "metadata": {},
     "output_type": "execute_result"
    }
   ],
   "source": [
    "multFeaturesExpanded1 = tf.expand_dims(multFeatures,[1])\n",
    "multFeaturesExpanded1.shape"
   ]
  },
  {
   "cell_type": "code",
   "execution_count": 37,
   "metadata": {},
   "outputs": [],
   "source": [
    "fn = lambda x: x - multFeatures"
   ]
  },
  {
   "cell_type": "code",
   "execution_count": 43,
   "metadata": {},
   "outputs": [],
   "source": [
    "row_wise_difference =  tf.abs(tf.map_fn(fn, multFeaturesExpanded1))"
   ]
  },
  {
   "cell_type": "code",
   "execution_count": 44,
   "metadata": {},
   "outputs": [
    {
     "data": {
      "text/plain": [
       "<tf.Tensor: shape=(10, 10, 2, 3), dtype=float32, numpy=\n",
       "array([[[[0.00000000e+00, 0.00000000e+00, 0.00000000e+00],\n",
       "         [0.00000000e+00, 0.00000000e+00, 0.00000000e+00]],\n",
       "\n",
       "        [[3.46486390e-01, 4.64460939e-01, 5.13436019e-01],\n",
       "         [8.96769345e-01, 2.53081799e-01, 6.15553260e-01]],\n",
       "\n",
       "        [[3.52108121e-01, 2.64966547e-01, 6.97070718e-01],\n",
       "         [6.89466715e-01, 5.48406661e-01, 1.39415383e-01]],\n",
       "\n",
       "        [[4.88378286e-01, 2.81388700e-01, 3.13753545e-01],\n",
       "         [4.37964797e-01, 2.37755477e-01, 3.93812656e-01]],\n",
       "\n",
       "        [[5.81720769e-01, 5.95888853e-01, 5.42335212e-01],\n",
       "         [6.00623488e-01, 2.49651253e-01, 6.50585294e-01]],\n",
       "\n",
       "        [[4.28877354e-01, 5.24898052e-01, 1.86382592e-01],\n",
       "         [2.83582807e-01, 2.32621431e-02, 5.64909935e-01]],\n",
       "\n",
       "        [[1.80545807e-01, 6.44571781e-02, 2.16638505e-01],\n",
       "         [3.58070135e-02, 1.61457300e-01, 5.13007641e-02]],\n",
       "\n",
       "        [[2.74930477e-01, 2.76406288e-01, 3.24367285e-01],\n",
       "         [5.12616754e-01, 2.24462271e-01, 2.63817966e-01]],\n",
       "\n",
       "        [[1.17137790e-01, 4.49586511e-02, 2.97069550e-01],\n",
       "         [7.42560625e-01, 3.39981377e-01, 5.77870607e-02]],\n",
       "\n",
       "        [[5.37992060e-01, 6.15698099e-01, 4.56053972e-01],\n",
       "         [5.26445508e-01, 2.51067817e-01, 4.25887942e-01]]],\n",
       "\n",
       "\n",
       "       [[[3.46486390e-01, 4.64460939e-01, 5.13436019e-01],\n",
       "         [8.96769345e-01, 2.53081799e-01, 6.15553260e-01]],\n",
       "\n",
       "        [[0.00000000e+00, 0.00000000e+00, 0.00000000e+00],\n",
       "         [0.00000000e+00, 0.00000000e+00, 0.00000000e+00]],\n",
       "\n",
       "        [[6.98594511e-01, 7.29427457e-01, 1.21050668e+00],\n",
       "         [1.58623600e+00, 8.01488459e-01, 7.54968643e-01]],\n",
       "\n",
       "        [[1.41891897e-01, 1.83072239e-01, 1.99682474e-01],\n",
       "         [4.58804548e-01, 1.53263211e-02, 2.21740574e-01]],\n",
       "\n",
       "        [[2.35234380e-01, 1.31427944e-01, 2.88991928e-02],\n",
       "         [2.96145856e-01, 3.43054533e-03, 3.50320637e-02]],\n",
       "\n",
       "        [[8.23909640e-02, 6.04371428e-02, 3.27053428e-01],\n",
       "         [6.13186538e-01, 2.76343942e-01, 5.06433249e-02]],\n",
       "\n",
       "        [[1.65940583e-01, 4.00003761e-01, 2.96797514e-01],\n",
       "         [8.60962331e-01, 9.16244984e-02, 5.64252496e-01]],\n",
       "\n",
       "        [[7.15559125e-02, 1.88054651e-01, 1.89068735e-01],\n",
       "         [3.84152591e-01, 2.86195278e-02, 3.51735264e-01]],\n",
       "\n",
       "        [[4.63624179e-01, 5.09419560e-01, 8.10505569e-01],\n",
       "         [1.63932991e+00, 5.93063176e-01, 6.73340321e-01]],\n",
       "\n",
       "        [[1.91505671e-01, 1.51237160e-01, 5.73820472e-02],\n",
       "         [3.70323837e-01, 2.01398134e-03, 1.89665288e-01]]],\n",
       "\n",
       "\n",
       "       [[[3.52108121e-01, 2.64966547e-01, 6.97070718e-01],\n",
       "         [6.89466715e-01, 5.48406661e-01, 1.39415383e-01]],\n",
       "\n",
       "        [[6.98594511e-01, 7.29427457e-01, 1.21050668e+00],\n",
       "         [1.58623600e+00, 8.01488459e-01, 7.54968643e-01]],\n",
       "\n",
       "        [[0.00000000e+00, 0.00000000e+00, 0.00000000e+00],\n",
       "         [0.00000000e+00, 0.00000000e+00, 0.00000000e+00]],\n",
       "\n",
       "        [[8.40486407e-01, 5.46355247e-01, 1.01082420e+00],\n",
       "         [1.12743151e+00, 7.86162138e-01, 5.33228040e-01]],\n",
       "\n",
       "        [[9.33828890e-01, 8.60855460e-01, 1.23940587e+00],\n",
       "         [1.29009020e+00, 7.98057914e-01, 7.90000677e-01]],\n",
       "\n",
       "        [[7.80985475e-01, 7.89864659e-01, 8.83453310e-01],\n",
       "         [9.73049521e-01, 5.25144517e-01, 7.04325318e-01]],\n",
       "\n",
       "        [[5.32653928e-01, 3.29423726e-01, 9.13709223e-01],\n",
       "         [7.25273728e-01, 7.09863961e-01, 1.90716147e-01]],\n",
       "\n",
       "        [[6.27038598e-01, 5.41372836e-01, 1.02143800e+00],\n",
       "         [1.20208347e+00, 7.72868931e-01, 4.03233349e-01]],\n",
       "\n",
       "        [[2.34970331e-01, 2.20007896e-01, 4.00001168e-01],\n",
       "         [5.30939102e-02, 2.08425283e-01, 8.16283226e-02]],\n",
       "\n",
       "        [[8.90100181e-01, 8.80664647e-01, 1.15312469e+00],\n",
       "         [1.21591222e+00, 7.99474478e-01, 5.65303326e-01]]],\n",
       "\n",
       "\n",
       "       [[[4.88378286e-01, 2.81388700e-01, 3.13753545e-01],\n",
       "         [4.37964797e-01, 2.37755477e-01, 3.93812656e-01]],\n",
       "\n",
       "        [[1.41891897e-01, 1.83072239e-01, 1.99682474e-01],\n",
       "         [4.58804548e-01, 1.53263211e-02, 2.21740574e-01]],\n",
       "\n",
       "        [[8.40486407e-01, 5.46355247e-01, 1.01082420e+00],\n",
       "         [1.12743151e+00, 7.86162138e-01, 5.33228040e-01]],\n",
       "\n",
       "        [[0.00000000e+00, 0.00000000e+00, 0.00000000e+00],\n",
       "         [0.00000000e+00, 0.00000000e+00, 0.00000000e+00]],\n",
       "\n",
       "        [[9.33424830e-02, 3.14500183e-01, 2.28581667e-01],\n",
       "         [1.62658691e-01, 1.18957758e-02, 2.56772637e-01]],\n",
       "\n",
       "        [[5.95009327e-02, 2.43509382e-01, 1.27370954e-01],\n",
       "         [1.54381990e-01, 2.61017621e-01, 1.71097249e-01]],\n",
       "\n",
       "        [[3.07832479e-01, 2.16931522e-01, 9.71150398e-02],\n",
       "         [4.02157784e-01, 7.62981772e-02, 3.42511892e-01]],\n",
       "\n",
       "        [[2.13447809e-01, 4.98241186e-03, 1.06137395e-02],\n",
       "         [7.46519566e-02, 1.32932067e-02, 1.29994690e-01]],\n",
       "\n",
       "        [[6.05516076e-01, 3.26347351e-01, 6.10823095e-01],\n",
       "         [1.18052542e+00, 5.77736855e-01, 4.51599717e-01]],\n",
       "\n",
       "        [[4.96137738e-02, 3.34309399e-01, 1.42300427e-01],\n",
       "         [8.84807110e-02, 1.33123398e-02, 3.20752859e-02]]],\n",
       "\n",
       "\n",
       "       [[[5.81720769e-01, 5.95888853e-01, 5.42335212e-01],\n",
       "         [6.00623488e-01, 2.49651253e-01, 6.50585294e-01]],\n",
       "\n",
       "        [[2.35234380e-01, 1.31427944e-01, 2.88991928e-02],\n",
       "         [2.96145856e-01, 3.43054533e-03, 3.50320637e-02]],\n",
       "\n",
       "        [[9.33828890e-01, 8.60855460e-01, 1.23940587e+00],\n",
       "         [1.29009020e+00, 7.98057914e-01, 7.90000677e-01]],\n",
       "\n",
       "        [[9.33424830e-02, 3.14500183e-01, 2.28581667e-01],\n",
       "         [1.62658691e-01, 1.18957758e-02, 2.56772637e-01]],\n",
       "\n",
       "        [[0.00000000e+00, 0.00000000e+00, 0.00000000e+00],\n",
       "         [0.00000000e+00, 0.00000000e+00, 0.00000000e+00]],\n",
       "\n",
       "        [[1.52843416e-01, 7.09908009e-02, 3.55952621e-01],\n",
       "         [3.17040682e-01, 2.72913396e-01, 8.56753886e-02]],\n",
       "\n",
       "        [[4.01174963e-01, 5.31431675e-01, 3.25696707e-01],\n",
       "         [5.64816475e-01, 8.81939530e-02, 5.99284530e-01]],\n",
       "\n",
       "        [[3.06790292e-01, 3.19482595e-01, 2.17967927e-01],\n",
       "         [8.80067348e-02, 2.51889825e-02, 3.86767328e-01]],\n",
       "\n",
       "        [[6.98858559e-01, 6.40847564e-01, 8.39404762e-01],\n",
       "         [1.34318411e+00, 5.89632630e-01, 7.08372355e-01]],\n",
       "\n",
       "        [[4.37287092e-02, 1.98092163e-02, 8.62812400e-02],\n",
       "         [7.41779804e-02, 1.41656399e-03, 2.24697351e-01]]],\n",
       "\n",
       "\n",
       "       [[[4.28877354e-01, 5.24898052e-01, 1.86382592e-01],\n",
       "         [2.83582807e-01, 2.32621431e-02, 5.64909935e-01]],\n",
       "\n",
       "        [[8.23909640e-02, 6.04371428e-02, 3.27053428e-01],\n",
       "         [6.13186538e-01, 2.76343942e-01, 5.06433249e-02]],\n",
       "\n",
       "        [[7.80985475e-01, 7.89864659e-01, 8.83453310e-01],\n",
       "         [9.73049521e-01, 5.25144517e-01, 7.04325318e-01]],\n",
       "\n",
       "        [[5.95009327e-02, 2.43509382e-01, 1.27370954e-01],\n",
       "         [1.54381990e-01, 2.61017621e-01, 1.71097249e-01]],\n",
       "\n",
       "        [[1.52843416e-01, 7.09908009e-02, 3.55952621e-01],\n",
       "         [3.17040682e-01, 2.72913396e-01, 8.56753886e-02]],\n",
       "\n",
       "        [[0.00000000e+00, 0.00000000e+00, 0.00000000e+00],\n",
       "         [0.00000000e+00, 0.00000000e+00, 0.00000000e+00]],\n",
       "\n",
       "        [[2.48331547e-01, 4.60440904e-01, 3.02559137e-02],\n",
       "         [2.47775793e-01, 1.84719443e-01, 5.13609171e-01]],\n",
       "\n",
       "        [[1.53946877e-01, 2.48491794e-01, 1.37984693e-01],\n",
       "         [2.29033947e-01, 2.47724414e-01, 3.01091939e-01]],\n",
       "\n",
       "        [[5.46015143e-01, 5.69856763e-01, 4.83452141e-01],\n",
       "         [1.02614343e+00, 3.16719234e-01, 6.22696996e-01]],\n",
       "\n",
       "        [[1.09114707e-01, 9.08000171e-02, 2.69671381e-01],\n",
       "         [2.42862701e-01, 2.74329960e-01, 1.39021963e-01]]],\n",
       "\n",
       "\n",
       "       [[[1.80545807e-01, 6.44571781e-02, 2.16638505e-01],\n",
       "         [3.58070135e-02, 1.61457300e-01, 5.13007641e-02]],\n",
       "\n",
       "        [[1.65940583e-01, 4.00003761e-01, 2.96797514e-01],\n",
       "         [8.60962331e-01, 9.16244984e-02, 5.64252496e-01]],\n",
       "\n",
       "        [[5.32653928e-01, 3.29423726e-01, 9.13709223e-01],\n",
       "         [7.25273728e-01, 7.09863961e-01, 1.90716147e-01]],\n",
       "\n",
       "        [[3.07832479e-01, 2.16931522e-01, 9.71150398e-02],\n",
       "         [4.02157784e-01, 7.62981772e-02, 3.42511892e-01]],\n",
       "\n",
       "        [[4.01174963e-01, 5.31431675e-01, 3.25696707e-01],\n",
       "         [5.64816475e-01, 8.81939530e-02, 5.99284530e-01]],\n",
       "\n",
       "        [[2.48331547e-01, 4.60440904e-01, 3.02559137e-02],\n",
       "         [2.47775793e-01, 1.84719443e-01, 5.13609171e-01]],\n",
       "\n",
       "        [[0.00000000e+00, 0.00000000e+00, 0.00000000e+00],\n",
       "         [0.00000000e+00, 0.00000000e+00, 0.00000000e+00]],\n",
       "\n",
       "        [[9.43846703e-02, 2.11949110e-01, 1.07728779e-01],\n",
       "         [4.76809740e-01, 6.30049706e-02, 2.12517202e-01]],\n",
       "\n",
       "        [[2.97683597e-01, 1.09415829e-01, 5.13708055e-01],\n",
       "         [7.78367639e-01, 5.01438677e-01, 1.09087825e-01]],\n",
       "\n",
       "        [[3.57446253e-01, 5.51240921e-01, 2.39415467e-01],\n",
       "         [4.90638494e-01, 8.96105170e-02, 3.74587178e-01]]],\n",
       "\n",
       "\n",
       "       [[[2.74930477e-01, 2.76406288e-01, 3.24367285e-01],\n",
       "         [5.12616754e-01, 2.24462271e-01, 2.63817966e-01]],\n",
       "\n",
       "        [[7.15559125e-02, 1.88054651e-01, 1.89068735e-01],\n",
       "         [3.84152591e-01, 2.86195278e-02, 3.51735264e-01]],\n",
       "\n",
       "        [[6.27038598e-01, 5.41372836e-01, 1.02143800e+00],\n",
       "         [1.20208347e+00, 7.72868931e-01, 4.03233349e-01]],\n",
       "\n",
       "        [[2.13447809e-01, 4.98241186e-03, 1.06137395e-02],\n",
       "         [7.46519566e-02, 1.32932067e-02, 1.29994690e-01]],\n",
       "\n",
       "        [[3.06790292e-01, 3.19482595e-01, 2.17967927e-01],\n",
       "         [8.80067348e-02, 2.51889825e-02, 3.86767328e-01]],\n",
       "\n",
       "        [[1.53946877e-01, 2.48491794e-01, 1.37984693e-01],\n",
       "         [2.29033947e-01, 2.47724414e-01, 3.01091939e-01]],\n",
       "\n",
       "        [[9.43846703e-02, 2.11949110e-01, 1.07728779e-01],\n",
       "         [4.76809740e-01, 6.30049706e-02, 2.12517202e-01]],\n",
       "\n",
       "        [[0.00000000e+00, 0.00000000e+00, 0.00000000e+00],\n",
       "         [0.00000000e+00, 0.00000000e+00, 0.00000000e+00]],\n",
       "\n",
       "        [[3.92068267e-01, 3.21364939e-01, 6.21436834e-01],\n",
       "         [1.25517738e+00, 5.64443648e-01, 3.21605027e-01]],\n",
       "\n",
       "        [[2.63061583e-01, 3.39291811e-01, 1.31686687e-01],\n",
       "         [1.38287544e-02, 2.66055465e-02, 1.62069976e-01]]],\n",
       "\n",
       "\n",
       "       [[[1.17137790e-01, 4.49586511e-02, 2.97069550e-01],\n",
       "         [7.42560625e-01, 3.39981377e-01, 5.77870607e-02]],\n",
       "\n",
       "        [[4.63624179e-01, 5.09419560e-01, 8.10505569e-01],\n",
       "         [1.63932991e+00, 5.93063176e-01, 6.73340321e-01]],\n",
       "\n",
       "        [[2.34970331e-01, 2.20007896e-01, 4.00001168e-01],\n",
       "         [5.30939102e-02, 2.08425283e-01, 8.16283226e-02]],\n",
       "\n",
       "        [[6.05516076e-01, 3.26347351e-01, 6.10823095e-01],\n",
       "         [1.18052542e+00, 5.77736855e-01, 4.51599717e-01]],\n",
       "\n",
       "        [[6.98858559e-01, 6.40847564e-01, 8.39404762e-01],\n",
       "         [1.34318411e+00, 5.89632630e-01, 7.08372355e-01]],\n",
       "\n",
       "        [[5.46015143e-01, 5.69856763e-01, 4.83452141e-01],\n",
       "         [1.02614343e+00, 3.16719234e-01, 6.22696996e-01]],\n",
       "\n",
       "        [[2.97683597e-01, 1.09415829e-01, 5.13708055e-01],\n",
       "         [7.78367639e-01, 5.01438677e-01, 1.09087825e-01]],\n",
       "\n",
       "        [[3.92068267e-01, 3.21364939e-01, 6.21436834e-01],\n",
       "         [1.25517738e+00, 5.64443648e-01, 3.21605027e-01]],\n",
       "\n",
       "        [[0.00000000e+00, 0.00000000e+00, 0.00000000e+00],\n",
       "         [0.00000000e+00, 0.00000000e+00, 0.00000000e+00]],\n",
       "\n",
       "        [[6.55129850e-01, 6.60656750e-01, 7.53123522e-01],\n",
       "         [1.26900613e+00, 5.91049194e-01, 4.83675003e-01]]],\n",
       "\n",
       "\n",
       "       [[[5.37992060e-01, 6.15698099e-01, 4.56053972e-01],\n",
       "         [5.26445508e-01, 2.51067817e-01, 4.25887942e-01]],\n",
       "\n",
       "        [[1.91505671e-01, 1.51237160e-01, 5.73820472e-02],\n",
       "         [3.70323837e-01, 2.01398134e-03, 1.89665288e-01]],\n",
       "\n",
       "        [[8.90100181e-01, 8.80664647e-01, 1.15312469e+00],\n",
       "         [1.21591222e+00, 7.99474478e-01, 5.65303326e-01]],\n",
       "\n",
       "        [[4.96137738e-02, 3.34309399e-01, 1.42300427e-01],\n",
       "         [8.84807110e-02, 1.33123398e-02, 3.20752859e-02]],\n",
       "\n",
       "        [[4.37287092e-02, 1.98092163e-02, 8.62812400e-02],\n",
       "         [7.41779804e-02, 1.41656399e-03, 2.24697351e-01]],\n",
       "\n",
       "        [[1.09114707e-01, 9.08000171e-02, 2.69671381e-01],\n",
       "         [2.42862701e-01, 2.74329960e-01, 1.39021963e-01]],\n",
       "\n",
       "        [[3.57446253e-01, 5.51240921e-01, 2.39415467e-01],\n",
       "         [4.90638494e-01, 8.96105170e-02, 3.74587178e-01]],\n",
       "\n",
       "        [[2.63061583e-01, 3.39291811e-01, 1.31686687e-01],\n",
       "         [1.38287544e-02, 2.66055465e-02, 1.62069976e-01]],\n",
       "\n",
       "        [[6.55129850e-01, 6.60656750e-01, 7.53123522e-01],\n",
       "         [1.26900613e+00, 5.91049194e-01, 4.83675003e-01]],\n",
       "\n",
       "        [[0.00000000e+00, 0.00000000e+00, 0.00000000e+00],\n",
       "         [0.00000000e+00, 0.00000000e+00, 0.00000000e+00]]]],\n",
       "      dtype=float32)>"
      ]
     },
     "execution_count": 44,
     "metadata": {},
     "output_type": "execute_result"
    }
   ],
   "source": [
    "row_wise_difference"
   ]
  },
  {
   "cell_type": "code",
   "execution_count": 39,
   "metadata": {},
   "outputs": [],
   "source": [
    "row_wise_difference = tf.abs(\n",
    "    tf.map_fn(lambda x: x - multFeatures,\n",
    "              tf.expand_dims(multFeatures,[1])))"
   ]
  },
  {
   "cell_type": "code",
   "execution_count": null,
   "metadata": {},
   "outputs": [],
   "source": []
  },
  {
   "cell_type": "code",
   "execution_count": 47,
   "metadata": {},
   "outputs": [],
   "source": [
    "multFeaturesDiff = tf.exp(\n",
    "            -tf.reduce_sum(\n",
    "                tf.abs(\n",
    "                    tf.map_fn(fn, multFeaturesExpanded1)\n",
    "                ),\n",
    "            axis=[3])\n",
    "        )\n",
    "output = tf.reduce_sum(multFeaturesDiff, axis=[1])"
   ]
  },
  {
   "cell_type": "code",
   "execution_count": 48,
   "metadata": {},
   "outputs": [
    {
     "data": {
      "text/plain": [
       "<tf.Tensor: shape=(10, 2), dtype=float32, numpy=\n",
       "array([[4.250483 , 4.1750574],\n",
       "       [5.1263275, 4.1288443],\n",
       "       [2.3254416, 2.623477 ],\n",
       "       [5.337405 , 5.3628964],\n",
       "       [4.67772  , 4.857558 ],\n",
       "       [5.12842  , 4.490942 ],\n",
       "       [4.896645 , 4.4156637],\n",
       "       [5.37877  , 5.201411 ],\n",
       "       [3.5418372, 2.8678563],\n",
       "       [4.9243836, 5.3776045]], dtype=float32)>"
      ]
     },
     "execution_count": 48,
     "metadata": {},
     "output_type": "execute_result"
    }
   ],
   "source": [
    "output"
   ]
  },
  {
   "cell_type": "code",
   "execution_count": 70,
   "metadata": {},
   "outputs": [
    {
     "data": {
      "text/plain": [
       "<tf.Tensor: shape=(5, 4), dtype=float32, numpy=\n",
       "array([[0.05289634, 0.01884498, 0.02495264, 0.09018894],\n",
       "       [0.1362008 , 0.05144521, 0.11096726, 0.2175933 ],\n",
       "       [0.08272877, 0.04497003, 0.02741747, 0.0881411 ],\n",
       "       [0.8385502 , 0.41891354, 0.17943019, 0.7977139 ],\n",
       "       [0.32605034, 0.14356598, 0.2867352 , 0.9662033 ]], dtype=float32)>"
      ]
     },
     "execution_count": 70,
     "metadata": {},
     "output_type": "execute_result"
    }
   ],
   "source": [
    "output = tf.reduce_sum(multFeaturesDiff, axis=[1])\n",
    "output"
   ]
  },
  {
   "cell_type": "markdown",
   "metadata": {},
   "source": [
    "WGAN"
   ]
  },
  {
   "cell_type": "code",
   "execution_count": 71,
   "metadata": {},
   "outputs": [],
   "source": [
    "def discriminator_loss_wasserstein(real_output, fake_output):\n",
    "    return tf.reduce_mean(real_output) -tf.reduce_mean(fake_output)"
   ]
  },
  {
   "cell_type": "code",
   "execution_count": 72,
   "metadata": {},
   "outputs": [],
   "source": [
    "def generator_loss_wasserstein(real_output, fake_output):\n",
    "    return -tf.reduce_mean(fake_output)"
   ]
  },
  {
   "cell_type": "markdown",
   "metadata": {},
   "source": [
    "Weight Clipping for the discriminator ( this must be added to train step)"
   ]
  },
  {
   "cell_type": "code",
   "execution_count": 85,
   "metadata": {},
   "outputs": [],
   "source": [
    "for p in D.trainable_variables:\n",
    "    p.assign( tf.clip_by_value(p, -0.01, +0.01)) "
   ]
  },
  {
   "cell_type": "markdown",
   "metadata": {},
   "source": [
    "Gradient Penalty"
   ]
  },
  {
   "cell_type": "code",
   "execution_count": 65,
   "metadata": {},
   "outputs": [],
   "source": [
    "def gradient_penalty(real_output, fake_output):\n",
    "    epsilon = tf.random.uniform([real_output.shape[0], 1, 1, 1], 0.0, 1.0)\n",
    "    x_hat = epsilon * real_output + (1 - epsilon) * fake_output\n",
    "    with tf.GradientTape() as tape:\n",
    "        tape.watch(x_hat)\n",
    "        d_hat = D(x_hat)\n",
    "    gradients = tape.gradient(d_hat, x_hat)\n",
    "    gradnorm_sqr_reg = tf.reduce_mean((tf.norm(gradients) - 1.0) ** 2)\n",
    "    return gradnorm_sqr_reg"
   ]
  },
  {
   "cell_type": "code",
   "execution_count": 66,
   "metadata": {},
   "outputs": [
    {
     "data": {
      "text/plain": [
       "<tf.Tensor: shape=(), dtype=float32, numpy=0.7859294>"
      ]
     },
     "execution_count": 66,
     "metadata": {},
     "output_type": "execute_result"
    }
   ],
   "source": [
    "re = tf.random.uniform([5, 64,64,3], 1.0, 2.0 )\n",
    "fk = tf.random.uniform([5, 64,64,3], 1.0, 2.0)\n",
    "gradient_penalty(re, fk)\n"
   ]
  },
  {
   "cell_type": "code",
   "execution_count": 59,
   "metadata": {},
   "outputs": [
    {
     "data": {
      "text/plain": [
       "<tf.Tensor: shape=(2, 2), dtype=float32, numpy=\n",
       "array([[1.0725139, 1.2218661],\n",
       "       [1.2067604, 1.664377 ]], dtype=float32)>"
      ]
     },
     "execution_count": 59,
     "metadata": {},
     "output_type": "execute_result"
    }
   ],
   "source": [
    "m"
   ]
  },
  {
   "cell_type": "code",
   "execution_count": 53,
   "metadata": {},
   "outputs": [
    {
     "data": {
      "text/plain": [
       "<tf.Tensor: shape=(), dtype=float32, numpy=2.6210046>"
      ]
     },
     "execution_count": 53,
     "metadata": {},
     "output_type": "execute_result"
    }
   ],
   "source": [
    "tf.norm(m)"
   ]
  },
  {
   "cell_type": "code",
   "execution_count": 54,
   "metadata": {},
   "outputs": [
    {
     "data": {
      "text/plain": [
       "<tf.Tensor: shape=(), dtype=float32, numpy=2.6210046>"
      ]
     },
     "execution_count": 54,
     "metadata": {},
     "output_type": "execute_result"
    }
   ],
   "source": [
    "tf.sqrt(tf.reduce_sum(tf.square(m), axis=[0,1]))"
   ]
  },
  {
   "cell_type": "code",
   "execution_count": 44,
   "metadata": {},
   "outputs": [
    {
     "data": {
      "text/plain": [
       "<tf.Tensor: shape=(32, 1, 1, 1), dtype=float32, numpy=\n",
       "array([[[[7.5757933e-01]]],\n",
       "\n",
       "\n",
       "       [[[9.7111738e-01]]],\n",
       "\n",
       "\n",
       "       [[[7.8766191e-01]]],\n",
       "\n",
       "\n",
       "       [[[2.7573109e-04]]],\n",
       "\n",
       "\n",
       "       [[[6.7579710e-01]]],\n",
       "\n",
       "\n",
       "       [[[9.9856865e-01]]],\n",
       "\n",
       "\n",
       "       [[[3.7026906e-01]]],\n",
       "\n",
       "\n",
       "       [[[4.6745968e-01]]],\n",
       "\n",
       "\n",
       "       [[[6.1199844e-01]]],\n",
       "\n",
       "\n",
       "       [[[4.6081674e-01]]],\n",
       "\n",
       "\n",
       "       [[[1.6070724e-01]]],\n",
       "\n",
       "\n",
       "       [[[4.9116135e-01]]],\n",
       "\n",
       "\n",
       "       [[[3.8885331e-01]]],\n",
       "\n",
       "\n",
       "       [[[6.4160383e-01]]],\n",
       "\n",
       "\n",
       "       [[[9.0654933e-01]]],\n",
       "\n",
       "\n",
       "       [[[7.4432731e-01]]],\n",
       "\n",
       "\n",
       "       [[[4.2748213e-02]]],\n",
       "\n",
       "\n",
       "       [[[7.7904367e-01]]],\n",
       "\n",
       "\n",
       "       [[[8.7087131e-01]]],\n",
       "\n",
       "\n",
       "       [[[7.9574490e-01]]],\n",
       "\n",
       "\n",
       "       [[[6.7831457e-01]]],\n",
       "\n",
       "\n",
       "       [[[5.6840730e-01]]],\n",
       "\n",
       "\n",
       "       [[[6.2250793e-01]]],\n",
       "\n",
       "\n",
       "       [[[7.7842081e-01]]],\n",
       "\n",
       "\n",
       "       [[[8.5946381e-01]]],\n",
       "\n",
       "\n",
       "       [[[1.7112136e-02]]],\n",
       "\n",
       "\n",
       "       [[[7.0106506e-02]]],\n",
       "\n",
       "\n",
       "       [[[9.9626327e-01]]],\n",
       "\n",
       "\n",
       "       [[[1.6848350e-01]]],\n",
       "\n",
       "\n",
       "       [[[2.8739107e-01]]],\n",
       "\n",
       "\n",
       "       [[[3.3128870e-01]]],\n",
       "\n",
       "\n",
       "       [[[2.9113281e-01]]]], dtype=float32)>"
      ]
     },
     "execution_count": 44,
     "metadata": {},
     "output_type": "execute_result"
    }
   ],
   "source": [
    "epsilon = tf.random.uniform([32, 1, 1, 1], 0.0, 1.0)\n",
    "epsilon    "
   ]
  },
  {
   "cell_type": "markdown",
   "metadata": {},
   "source": [
    "Conditional GAN Model"
   ]
  },
  {
   "cell_type": "markdown",
   "metadata": {},
   "source": [
    "CelebA comes with a list of 40 binary attributes. Theses attributes include gender. We can extract that as the class label and we have a binary class label. "
   ]
  },
  {
   "cell_type": "code",
   "execution_count": 108,
   "metadata": {},
   "outputs": [],
   "source": [
    "def discriminator():\n",
    "    img = layers.Input(shape=[64,64,3])\n",
    "    label = layers.Input(shape=[2,]) #for two classes\n",
    "    y = layers.Dense(64*64)(label)\n",
    "    x = layers.LeakyReLU(0.2)(x)\n",
    "    y = layers.Reshape((64,64,1))(y)\n",
    "    \n",
    "    x = layers.concatenate([img, y])\n",
    "    \n",
    "    x = layers.Conv2D(filters=128, kernel_size=5, strides=2, padding='same')(x)\n",
    "    for filter_size in [256, 512,1024]:\n",
    "        x = layers.Conv2D(filters=filter_size, kernel_size=5, strides=2, padding='same')(x)\n",
    "        x = layers.LeakyReLU(0.2)(x)\n",
    "        x = layers.BatchNormalization()(x)\n",
    "\n",
    "    x = layers.Flatten()(x)\n",
    "    x = layers.Dense(1)(x)\n",
    "    return Model(inputs = [img, label], outputs = x)\n",
    "    "
   ]
  },
  {
   "cell_type": "code",
   "execution_count": 109,
   "metadata": {},
   "outputs": [],
   "source": [
    "D= discriminator()"
   ]
  },
  {
   "cell_type": "code",
   "execution_count": 110,
   "metadata": {},
   "outputs": [
    {
     "name": "stdout",
     "output_type": "stream",
     "text": [
      "Model: \"model_10\"\n",
      "__________________________________________________________________________________________________\n",
      "Layer (type)                    Output Shape         Param #     Connected to                     \n",
      "==================================================================================================\n",
      "input_21 (InputLayer)           [(None, 2)]          0                                            \n",
      "__________________________________________________________________________________________________\n",
      "dense_15 (Dense)                (None, 4096)         12288       input_21[0][0]                   \n",
      "__________________________________________________________________________________________________\n",
      "input_20 (InputLayer)           [(None, 64, 64, 3)]  0                                            \n",
      "__________________________________________________________________________________________________\n",
      "reshape_8 (Reshape)             (None, 64, 64, 1)    0           dense_15[0][0]                   \n",
      "__________________________________________________________________________________________________\n",
      "concatenate_6 (Concatenate)     (None, 64, 64, 4)    0           input_20[0][0]                   \n",
      "                                                                 reshape_8[0][0]                  \n",
      "__________________________________________________________________________________________________\n",
      "conv2d_28 (Conv2D)              (None, 32, 32, 128)  12928       concatenate_6[0][0]              \n",
      "__________________________________________________________________________________________________\n",
      "conv2d_29 (Conv2D)              (None, 16, 16, 256)  819456      conv2d_28[0][0]                  \n",
      "__________________________________________________________________________________________________\n",
      "leaky_re_lu_25 (LeakyReLU)      (None, 16, 16, 256)  0           conv2d_29[0][0]                  \n",
      "__________________________________________________________________________________________________\n",
      "batch_normalization_25 (BatchNo (None, 16, 16, 256)  1024        leaky_re_lu_25[0][0]             \n",
      "__________________________________________________________________________________________________\n",
      "conv2d_30 (Conv2D)              (None, 8, 8, 512)    3277312     batch_normalization_25[0][0]     \n",
      "__________________________________________________________________________________________________\n",
      "leaky_re_lu_26 (LeakyReLU)      (None, 8, 8, 512)    0           conv2d_30[0][0]                  \n",
      "__________________________________________________________________________________________________\n",
      "batch_normalization_26 (BatchNo (None, 8, 8, 512)    2048        leaky_re_lu_26[0][0]             \n",
      "__________________________________________________________________________________________________\n",
      "conv2d_31 (Conv2D)              (None, 4, 4, 1024)   13108224    batch_normalization_26[0][0]     \n",
      "__________________________________________________________________________________________________\n",
      "leaky_re_lu_27 (LeakyReLU)      (None, 4, 4, 1024)   0           conv2d_31[0][0]                  \n",
      "__________________________________________________________________________________________________\n",
      "batch_normalization_27 (BatchNo (None, 4, 4, 1024)   4096        leaky_re_lu_27[0][0]             \n",
      "__________________________________________________________________________________________________\n",
      "flatten_7 (Flatten)             (None, 16384)        0           batch_normalization_27[0][0]     \n",
      "__________________________________________________________________________________________________\n",
      "dense_16 (Dense)                (None, 1)            16385       flatten_7[0][0]                  \n",
      "==================================================================================================\n",
      "Total params: 17,253,761\n",
      "Trainable params: 17,250,177\n",
      "Non-trainable params: 3,584\n",
      "__________________________________________________________________________________________________\n"
     ]
    }
   ],
   "source": [
    "D.summary()"
   ]
  },
  {
   "cell_type": "code",
   "execution_count": 20,
   "metadata": {},
   "outputs": [],
   "source": [
    "def generator(noise_dim):\n",
    "    z = layers.Input(shape=noise_dim)\n",
    "    x = layers.Dense(units=7*7*256)(z)\n",
    "    x = layers.Reshape((7,7,256))(x)\n",
    "    \n",
    "    label = layers.Input(shape=[2,]) #for two classes\n",
    "    y = layers.Dense(7*7)(label)\n",
    "    x = layers.LeakyReLU(0.2)(x)\n",
    "    y = layers.Reshape((7,7,1))(y)\n",
    "    \n",
    "    x = layers.concatenate([x, y])\n",
    "\n",
    "    for filter_size in [256,128, 64, num_channels]:\n",
    "        x = layers.Conv2DTranspose(filters=filter_size, kernel_size=5, strides=2, padding='same')(x)\n",
    "        x = layers.LeakyReLU(0.2)(x)\n",
    "        x = layers.BatchNormalization()(x)\n",
    "    return Model(inputs = [z, label], outputs=x)"
   ]
  },
  {
   "cell_type": "code",
   "execution_count": 21,
   "metadata": {},
   "outputs": [],
   "source": [
    "G = generator(noise_dim)"
   ]
  },
  {
   "cell_type": "code",
   "execution_count": 19,
   "metadata": {},
   "outputs": [
    {
     "name": "stdout",
     "output_type": "stream",
     "text": [
      "Model: \"model_4\"\n",
      "__________________________________________________________________________________________________\n",
      "Layer (type)                    Output Shape         Param #     Connected to                     \n",
      "==================================================================================================\n",
      "input_7 (InputLayer)            [(None, 100)]        0                                            \n",
      "__________________________________________________________________________________________________\n",
      "dense_6 (Dense)                 (None, 12544)        1266944     input_7[0][0]                    \n",
      "__________________________________________________________________________________________________\n",
      "input_8 (InputLayer)            [(None, 2)]          0                                            \n",
      "__________________________________________________________________________________________________\n",
      "reshape_5 (Reshape)             (None, 7, 7, 256)    0           dense_6[0][0]                    \n",
      "__________________________________________________________________________________________________\n",
      "dense_7 (Dense)                 (None, 49)           147         input_8[0][0]                    \n",
      "__________________________________________________________________________________________________\n",
      "leaky_re_lu_17 (LeakyReLU)      (None, 7, 7, 256)    0           reshape_5[0][0]                  \n",
      "__________________________________________________________________________________________________\n",
      "reshape_6 (Reshape)             (None, 7, 7, 1)      0           dense_7[0][0]                    \n",
      "__________________________________________________________________________________________________\n",
      "concatenate_2 (Concatenate)     (None, 7, 7, 257)    0           leaky_re_lu_17[0][0]             \n",
      "                                                                 reshape_6[0][0]                  \n",
      "__________________________________________________________________________________________________\n",
      "conv2d_transpose_12 (Conv2DTran (None, 14, 14, 256)  1645056     concatenate_2[0][0]              \n",
      "__________________________________________________________________________________________________\n",
      "leaky_re_lu_18 (LeakyReLU)      (None, 14, 14, 256)  0           conv2d_transpose_12[0][0]        \n",
      "__________________________________________________________________________________________________\n",
      "batch_normalization_15 (BatchNo (None, 14, 14, 256)  1024        leaky_re_lu_18[0][0]             \n",
      "__________________________________________________________________________________________________\n",
      "conv2d_transpose_13 (Conv2DTran (None, 28, 28, 128)  819328      batch_normalization_15[0][0]     \n",
      "__________________________________________________________________________________________________\n",
      "leaky_re_lu_19 (LeakyReLU)      (None, 28, 28, 128)  0           conv2d_transpose_13[0][0]        \n",
      "__________________________________________________________________________________________________\n",
      "batch_normalization_16 (BatchNo (None, 28, 28, 128)  512         leaky_re_lu_19[0][0]             \n",
      "__________________________________________________________________________________________________\n",
      "conv2d_transpose_14 (Conv2DTran (None, 56, 56, 64)   204864      batch_normalization_16[0][0]     \n",
      "__________________________________________________________________________________________________\n",
      "leaky_re_lu_20 (LeakyReLU)      (None, 56, 56, 64)   0           conv2d_transpose_14[0][0]        \n",
      "__________________________________________________________________________________________________\n",
      "batch_normalization_17 (BatchNo (None, 56, 56, 64)   256         leaky_re_lu_20[0][0]             \n",
      "__________________________________________________________________________________________________\n",
      "conv2d_transpose_15 (Conv2DTran (None, 112, 112, 1)  1601        batch_normalization_17[0][0]     \n",
      "__________________________________________________________________________________________________\n",
      "leaky_re_lu_21 (LeakyReLU)      (None, 112, 112, 1)  0           conv2d_transpose_15[0][0]        \n",
      "__________________________________________________________________________________________________\n",
      "batch_normalization_18 (BatchNo (None, 112, 112, 1)  4           leaky_re_lu_21[0][0]             \n",
      "==================================================================================================\n",
      "Total params: 3,939,736\n",
      "Trainable params: 3,938,838\n",
      "Non-trainable params: 898\n",
      "__________________________________________________________________________________________________\n"
     ]
    }
   ],
   "source": [
    "G.summary()"
   ]
  },
  {
   "cell_type": "code",
   "execution_count": null,
   "metadata": {},
   "outputs": [],
   "source": [
    "@tf.function\n",
    "def train_step(images, labels):\n",
    "    noise = tf.random.normal([BATCH_SIZE, noise_dim])\n",
    "    \n",
    "    with tf.GradientTape() as gen_tape, tf.GradientTape() as disc_tape:\n",
    "        generated_images = G(noise, training=True)\n",
    "        fake_labels = np.random.randint(0, 2, BATCH_SIZE)\n",
    "        \n",
    "        real_output = D([images,labels], training=True)\n",
    "        fake_output = D([generated_images,fake_labels], training=True)\n",
    "\n",
    "        gen_loss = generator_loss(fake_output)\n",
    "        disc_loss = discriminator_loss(real_output, fake_output)\n",
    "\n",
    "    gradients_of_generator = gen_tape.gradient(gen_loss, G.trainable_variables)\n",
    "    gradients_of_discriminator = disc_tape.gradient(disc_loss, D.trainable_variables)\n",
    "\n",
    "    generator_optimizer.apply_gradients(zip(gradients_of_generator, G.trainable_variables))\n",
    "    discriminator_optimizer.apply_gradients(zip(gradients_of_discriminator, D.trainable_variables))"
   ]
  },
  {
   "cell_type": "markdown",
   "metadata": {},
   "source": [
    "Conditional GAN weith Resnet 50"
   ]
  },
  {
   "cell_type": "code",
   "execution_count": 26,
   "metadata": {},
   "outputs": [],
   "source": [
    "from tensorflow.keras.applications import ResNet50"
   ]
  },
  {
   "cell_type": "code",
   "execution_count": 27,
   "metadata": {},
   "outputs": [
    {
     "name": "stdout",
     "output_type": "stream",
     "text": [
      "A local file was found, but it seems to be incomplete or outdated because the auto file hash does not match the original value of 4d473c1dd8becc155b73f8504c6f6626 so we will re-download the data.\n",
      "Downloading data from https://github.com/keras-team/keras-applications/releases/download/resnet/resnet50_weights_tf_dim_ordering_tf_kernels_notop.h5\n",
      "94773248/94765736 [==============================] - 19s 0us/step\n"
     ]
    }
   ],
   "source": [
    "resnet = ResNet50(include_top=False,weights=\"imagenet\",)"
   ]
  },
  {
   "cell_type": "code",
   "execution_count": 28,
   "metadata": {},
   "outputs": [
    {
     "name": "stdout",
     "output_type": "stream",
     "text": [
      "Model: \"resnet50\"\n",
      "__________________________________________________________________________________________________\n",
      "Layer (type)                    Output Shape         Param #     Connected to                     \n",
      "==================================================================================================\n",
      "input_11 (InputLayer)           [(None, None, None,  0                                            \n",
      "__________________________________________________________________________________________________\n",
      "conv1_pad (ZeroPadding2D)       (None, None, None, 3 0           input_11[0][0]                   \n",
      "__________________________________________________________________________________________________\n",
      "conv1_conv (Conv2D)             (None, None, None, 6 9472        conv1_pad[0][0]                  \n",
      "__________________________________________________________________________________________________\n",
      "conv1_bn (BatchNormalization)   (None, None, None, 6 256         conv1_conv[0][0]                 \n",
      "__________________________________________________________________________________________________\n",
      "conv1_relu (Activation)         (None, None, None, 6 0           conv1_bn[0][0]                   \n",
      "__________________________________________________________________________________________________\n",
      "pool1_pad (ZeroPadding2D)       (None, None, None, 6 0           conv1_relu[0][0]                 \n",
      "__________________________________________________________________________________________________\n",
      "pool1_pool (MaxPooling2D)       (None, None, None, 6 0           pool1_pad[0][0]                  \n",
      "__________________________________________________________________________________________________\n",
      "conv2_block1_1_conv (Conv2D)    (None, None, None, 6 4160        pool1_pool[0][0]                 \n",
      "__________________________________________________________________________________________________\n",
      "conv2_block1_1_bn (BatchNormali (None, None, None, 6 256         conv2_block1_1_conv[0][0]        \n",
      "__________________________________________________________________________________________________\n",
      "conv2_block1_1_relu (Activation (None, None, None, 6 0           conv2_block1_1_bn[0][0]          \n",
      "__________________________________________________________________________________________________\n",
      "conv2_block1_2_conv (Conv2D)    (None, None, None, 6 36928       conv2_block1_1_relu[0][0]        \n",
      "__________________________________________________________________________________________________\n",
      "conv2_block1_2_bn (BatchNormali (None, None, None, 6 256         conv2_block1_2_conv[0][0]        \n",
      "__________________________________________________________________________________________________\n",
      "conv2_block1_2_relu (Activation (None, None, None, 6 0           conv2_block1_2_bn[0][0]          \n",
      "__________________________________________________________________________________________________\n",
      "conv2_block1_0_conv (Conv2D)    (None, None, None, 2 16640       pool1_pool[0][0]                 \n",
      "__________________________________________________________________________________________________\n",
      "conv2_block1_3_conv (Conv2D)    (None, None, None, 2 16640       conv2_block1_2_relu[0][0]        \n",
      "__________________________________________________________________________________________________\n",
      "conv2_block1_0_bn (BatchNormali (None, None, None, 2 1024        conv2_block1_0_conv[0][0]        \n",
      "__________________________________________________________________________________________________\n",
      "conv2_block1_3_bn (BatchNormali (None, None, None, 2 1024        conv2_block1_3_conv[0][0]        \n",
      "__________________________________________________________________________________________________\n",
      "conv2_block1_add (Add)          (None, None, None, 2 0           conv2_block1_0_bn[0][0]          \n",
      "                                                                 conv2_block1_3_bn[0][0]          \n",
      "__________________________________________________________________________________________________\n",
      "conv2_block1_out (Activation)   (None, None, None, 2 0           conv2_block1_add[0][0]           \n",
      "__________________________________________________________________________________________________\n",
      "conv2_block2_1_conv (Conv2D)    (None, None, None, 6 16448       conv2_block1_out[0][0]           \n",
      "__________________________________________________________________________________________________\n",
      "conv2_block2_1_bn (BatchNormali (None, None, None, 6 256         conv2_block2_1_conv[0][0]        \n",
      "__________________________________________________________________________________________________\n",
      "conv2_block2_1_relu (Activation (None, None, None, 6 0           conv2_block2_1_bn[0][0]          \n",
      "__________________________________________________________________________________________________\n",
      "conv2_block2_2_conv (Conv2D)    (None, None, None, 6 36928       conv2_block2_1_relu[0][0]        \n",
      "__________________________________________________________________________________________________\n",
      "conv2_block2_2_bn (BatchNormali (None, None, None, 6 256         conv2_block2_2_conv[0][0]        \n",
      "__________________________________________________________________________________________________\n",
      "conv2_block2_2_relu (Activation (None, None, None, 6 0           conv2_block2_2_bn[0][0]          \n",
      "__________________________________________________________________________________________________\n",
      "conv2_block2_3_conv (Conv2D)    (None, None, None, 2 16640       conv2_block2_2_relu[0][0]        \n",
      "__________________________________________________________________________________________________\n",
      "conv2_block2_3_bn (BatchNormali (None, None, None, 2 1024        conv2_block2_3_conv[0][0]        \n",
      "__________________________________________________________________________________________________\n",
      "conv2_block2_add (Add)          (None, None, None, 2 0           conv2_block1_out[0][0]           \n",
      "                                                                 conv2_block2_3_bn[0][0]          \n",
      "__________________________________________________________________________________________________\n",
      "conv2_block2_out (Activation)   (None, None, None, 2 0           conv2_block2_add[0][0]           \n",
      "__________________________________________________________________________________________________\n",
      "conv2_block3_1_conv (Conv2D)    (None, None, None, 6 16448       conv2_block2_out[0][0]           \n",
      "__________________________________________________________________________________________________\n",
      "conv2_block3_1_bn (BatchNormali (None, None, None, 6 256         conv2_block3_1_conv[0][0]        \n",
      "__________________________________________________________________________________________________\n",
      "conv2_block3_1_relu (Activation (None, None, None, 6 0           conv2_block3_1_bn[0][0]          \n",
      "__________________________________________________________________________________________________\n",
      "conv2_block3_2_conv (Conv2D)    (None, None, None, 6 36928       conv2_block3_1_relu[0][0]        \n",
      "__________________________________________________________________________________________________\n",
      "conv2_block3_2_bn (BatchNormali (None, None, None, 6 256         conv2_block3_2_conv[0][0]        \n",
      "__________________________________________________________________________________________________\n",
      "conv2_block3_2_relu (Activation (None, None, None, 6 0           conv2_block3_2_bn[0][0]          \n",
      "__________________________________________________________________________________________________\n",
      "conv2_block3_3_conv (Conv2D)    (None, None, None, 2 16640       conv2_block3_2_relu[0][0]        \n",
      "__________________________________________________________________________________________________\n",
      "conv2_block3_3_bn (BatchNormali (None, None, None, 2 1024        conv2_block3_3_conv[0][0]        \n",
      "__________________________________________________________________________________________________\n",
      "conv2_block3_add (Add)          (None, None, None, 2 0           conv2_block2_out[0][0]           \n",
      "                                                                 conv2_block3_3_bn[0][0]          \n",
      "__________________________________________________________________________________________________\n",
      "conv2_block3_out (Activation)   (None, None, None, 2 0           conv2_block3_add[0][0]           \n",
      "__________________________________________________________________________________________________\n",
      "conv3_block1_1_conv (Conv2D)    (None, None, None, 1 32896       conv2_block3_out[0][0]           \n",
      "__________________________________________________________________________________________________\n",
      "conv3_block1_1_bn (BatchNormali (None, None, None, 1 512         conv3_block1_1_conv[0][0]        \n",
      "__________________________________________________________________________________________________\n",
      "conv3_block1_1_relu (Activation (None, None, None, 1 0           conv3_block1_1_bn[0][0]          \n",
      "__________________________________________________________________________________________________\n",
      "conv3_block1_2_conv (Conv2D)    (None, None, None, 1 147584      conv3_block1_1_relu[0][0]        \n",
      "__________________________________________________________________________________________________\n",
      "conv3_block1_2_bn (BatchNormali (None, None, None, 1 512         conv3_block1_2_conv[0][0]        \n",
      "__________________________________________________________________________________________________\n",
      "conv3_block1_2_relu (Activation (None, None, None, 1 0           conv3_block1_2_bn[0][0]          \n",
      "__________________________________________________________________________________________________\n",
      "conv3_block1_0_conv (Conv2D)    (None, None, None, 5 131584      conv2_block3_out[0][0]           \n",
      "__________________________________________________________________________________________________\n",
      "conv3_block1_3_conv (Conv2D)    (None, None, None, 5 66048       conv3_block1_2_relu[0][0]        \n",
      "__________________________________________________________________________________________________\n",
      "conv3_block1_0_bn (BatchNormali (None, None, None, 5 2048        conv3_block1_0_conv[0][0]        \n",
      "__________________________________________________________________________________________________\n",
      "conv3_block1_3_bn (BatchNormali (None, None, None, 5 2048        conv3_block1_3_conv[0][0]        \n",
      "__________________________________________________________________________________________________\n",
      "conv3_block1_add (Add)          (None, None, None, 5 0           conv3_block1_0_bn[0][0]          \n",
      "                                                                 conv3_block1_3_bn[0][0]          \n",
      "__________________________________________________________________________________________________\n",
      "conv3_block1_out (Activation)   (None, None, None, 5 0           conv3_block1_add[0][0]           \n",
      "__________________________________________________________________________________________________\n",
      "conv3_block2_1_conv (Conv2D)    (None, None, None, 1 65664       conv3_block1_out[0][0]           \n",
      "__________________________________________________________________________________________________\n",
      "conv3_block2_1_bn (BatchNormali (None, None, None, 1 512         conv3_block2_1_conv[0][0]        \n",
      "__________________________________________________________________________________________________\n",
      "conv3_block2_1_relu (Activation (None, None, None, 1 0           conv3_block2_1_bn[0][0]          \n",
      "__________________________________________________________________________________________________\n",
      "conv3_block2_2_conv (Conv2D)    (None, None, None, 1 147584      conv3_block2_1_relu[0][0]        \n",
      "__________________________________________________________________________________________________\n",
      "conv3_block2_2_bn (BatchNormali (None, None, None, 1 512         conv3_block2_2_conv[0][0]        \n",
      "__________________________________________________________________________________________________\n",
      "conv3_block2_2_relu (Activation (None, None, None, 1 0           conv3_block2_2_bn[0][0]          \n",
      "__________________________________________________________________________________________________\n",
      "conv3_block2_3_conv (Conv2D)    (None, None, None, 5 66048       conv3_block2_2_relu[0][0]        \n",
      "__________________________________________________________________________________________________\n",
      "conv3_block2_3_bn (BatchNormali (None, None, None, 5 2048        conv3_block2_3_conv[0][0]        \n",
      "__________________________________________________________________________________________________\n",
      "conv3_block2_add (Add)          (None, None, None, 5 0           conv3_block1_out[0][0]           \n",
      "                                                                 conv3_block2_3_bn[0][0]          \n",
      "__________________________________________________________________________________________________\n",
      "conv3_block2_out (Activation)   (None, None, None, 5 0           conv3_block2_add[0][0]           \n",
      "__________________________________________________________________________________________________\n",
      "conv3_block3_1_conv (Conv2D)    (None, None, None, 1 65664       conv3_block2_out[0][0]           \n",
      "__________________________________________________________________________________________________\n",
      "conv3_block3_1_bn (BatchNormali (None, None, None, 1 512         conv3_block3_1_conv[0][0]        \n",
      "__________________________________________________________________________________________________\n",
      "conv3_block3_1_relu (Activation (None, None, None, 1 0           conv3_block3_1_bn[0][0]          \n",
      "__________________________________________________________________________________________________\n",
      "conv3_block3_2_conv (Conv2D)    (None, None, None, 1 147584      conv3_block3_1_relu[0][0]        \n",
      "__________________________________________________________________________________________________\n",
      "conv3_block3_2_bn (BatchNormali (None, None, None, 1 512         conv3_block3_2_conv[0][0]        \n",
      "__________________________________________________________________________________________________\n",
      "conv3_block3_2_relu (Activation (None, None, None, 1 0           conv3_block3_2_bn[0][0]          \n",
      "__________________________________________________________________________________________________\n",
      "conv3_block3_3_conv (Conv2D)    (None, None, None, 5 66048       conv3_block3_2_relu[0][0]        \n",
      "__________________________________________________________________________________________________\n",
      "conv3_block3_3_bn (BatchNormali (None, None, None, 5 2048        conv3_block3_3_conv[0][0]        \n",
      "__________________________________________________________________________________________________\n",
      "conv3_block3_add (Add)          (None, None, None, 5 0           conv3_block2_out[0][0]           \n",
      "                                                                 conv3_block3_3_bn[0][0]          \n",
      "__________________________________________________________________________________________________\n",
      "conv3_block3_out (Activation)   (None, None, None, 5 0           conv3_block3_add[0][0]           \n",
      "__________________________________________________________________________________________________\n",
      "conv3_block4_1_conv (Conv2D)    (None, None, None, 1 65664       conv3_block3_out[0][0]           \n",
      "__________________________________________________________________________________________________\n",
      "conv3_block4_1_bn (BatchNormali (None, None, None, 1 512         conv3_block4_1_conv[0][0]        \n",
      "__________________________________________________________________________________________________\n",
      "conv3_block4_1_relu (Activation (None, None, None, 1 0           conv3_block4_1_bn[0][0]          \n",
      "__________________________________________________________________________________________________\n",
      "conv3_block4_2_conv (Conv2D)    (None, None, None, 1 147584      conv3_block4_1_relu[0][0]        \n",
      "__________________________________________________________________________________________________\n",
      "conv3_block4_2_bn (BatchNormali (None, None, None, 1 512         conv3_block4_2_conv[0][0]        \n",
      "__________________________________________________________________________________________________\n",
      "conv3_block4_2_relu (Activation (None, None, None, 1 0           conv3_block4_2_bn[0][0]          \n",
      "__________________________________________________________________________________________________\n",
      "conv3_block4_3_conv (Conv2D)    (None, None, None, 5 66048       conv3_block4_2_relu[0][0]        \n",
      "__________________________________________________________________________________________________\n",
      "conv3_block4_3_bn (BatchNormali (None, None, None, 5 2048        conv3_block4_3_conv[0][0]        \n",
      "__________________________________________________________________________________________________\n",
      "conv3_block4_add (Add)          (None, None, None, 5 0           conv3_block3_out[0][0]           \n",
      "                                                                 conv3_block4_3_bn[0][0]          \n",
      "__________________________________________________________________________________________________\n",
      "conv3_block4_out (Activation)   (None, None, None, 5 0           conv3_block4_add[0][0]           \n",
      "__________________________________________________________________________________________________\n",
      "conv4_block1_1_conv (Conv2D)    (None, None, None, 2 131328      conv3_block4_out[0][0]           \n",
      "__________________________________________________________________________________________________\n",
      "conv4_block1_1_bn (BatchNormali (None, None, None, 2 1024        conv4_block1_1_conv[0][0]        \n",
      "__________________________________________________________________________________________________\n",
      "conv4_block1_1_relu (Activation (None, None, None, 2 0           conv4_block1_1_bn[0][0]          \n",
      "__________________________________________________________________________________________________\n",
      "conv4_block1_2_conv (Conv2D)    (None, None, None, 2 590080      conv4_block1_1_relu[0][0]        \n",
      "__________________________________________________________________________________________________\n",
      "conv4_block1_2_bn (BatchNormali (None, None, None, 2 1024        conv4_block1_2_conv[0][0]        \n",
      "__________________________________________________________________________________________________\n",
      "conv4_block1_2_relu (Activation (None, None, None, 2 0           conv4_block1_2_bn[0][0]          \n",
      "__________________________________________________________________________________________________\n",
      "conv4_block1_0_conv (Conv2D)    (None, None, None, 1 525312      conv3_block4_out[0][0]           \n",
      "__________________________________________________________________________________________________\n",
      "conv4_block1_3_conv (Conv2D)    (None, None, None, 1 263168      conv4_block1_2_relu[0][0]        \n",
      "__________________________________________________________________________________________________\n",
      "conv4_block1_0_bn (BatchNormali (None, None, None, 1 4096        conv4_block1_0_conv[0][0]        \n",
      "__________________________________________________________________________________________________\n",
      "conv4_block1_3_bn (BatchNormali (None, None, None, 1 4096        conv4_block1_3_conv[0][0]        \n",
      "__________________________________________________________________________________________________\n",
      "conv4_block1_add (Add)          (None, None, None, 1 0           conv4_block1_0_bn[0][0]          \n",
      "                                                                 conv4_block1_3_bn[0][0]          \n",
      "__________________________________________________________________________________________________\n",
      "conv4_block1_out (Activation)   (None, None, None, 1 0           conv4_block1_add[0][0]           \n",
      "__________________________________________________________________________________________________\n",
      "conv4_block2_1_conv (Conv2D)    (None, None, None, 2 262400      conv4_block1_out[0][0]           \n",
      "__________________________________________________________________________________________________\n",
      "conv4_block2_1_bn (BatchNormali (None, None, None, 2 1024        conv4_block2_1_conv[0][0]        \n",
      "__________________________________________________________________________________________________\n",
      "conv4_block2_1_relu (Activation (None, None, None, 2 0           conv4_block2_1_bn[0][0]          \n",
      "__________________________________________________________________________________________________\n",
      "conv4_block2_2_conv (Conv2D)    (None, None, None, 2 590080      conv4_block2_1_relu[0][0]        \n",
      "__________________________________________________________________________________________________\n",
      "conv4_block2_2_bn (BatchNormali (None, None, None, 2 1024        conv4_block2_2_conv[0][0]        \n",
      "__________________________________________________________________________________________________\n",
      "conv4_block2_2_relu (Activation (None, None, None, 2 0           conv4_block2_2_bn[0][0]          \n",
      "__________________________________________________________________________________________________\n",
      "conv4_block2_3_conv (Conv2D)    (None, None, None, 1 263168      conv4_block2_2_relu[0][0]        \n",
      "__________________________________________________________________________________________________\n",
      "conv4_block2_3_bn (BatchNormali (None, None, None, 1 4096        conv4_block2_3_conv[0][0]        \n",
      "__________________________________________________________________________________________________\n",
      "conv4_block2_add (Add)          (None, None, None, 1 0           conv4_block1_out[0][0]           \n",
      "                                                                 conv4_block2_3_bn[0][0]          \n",
      "__________________________________________________________________________________________________\n",
      "conv4_block2_out (Activation)   (None, None, None, 1 0           conv4_block2_add[0][0]           \n",
      "__________________________________________________________________________________________________\n",
      "conv4_block3_1_conv (Conv2D)    (None, None, None, 2 262400      conv4_block2_out[0][0]           \n",
      "__________________________________________________________________________________________________\n",
      "conv4_block3_1_bn (BatchNormali (None, None, None, 2 1024        conv4_block3_1_conv[0][0]        \n",
      "__________________________________________________________________________________________________\n",
      "conv4_block3_1_relu (Activation (None, None, None, 2 0           conv4_block3_1_bn[0][0]          \n",
      "__________________________________________________________________________________________________\n",
      "conv4_block3_2_conv (Conv2D)    (None, None, None, 2 590080      conv4_block3_1_relu[0][0]        \n",
      "__________________________________________________________________________________________________\n",
      "conv4_block3_2_bn (BatchNormali (None, None, None, 2 1024        conv4_block3_2_conv[0][0]        \n",
      "__________________________________________________________________________________________________\n",
      "conv4_block3_2_relu (Activation (None, None, None, 2 0           conv4_block3_2_bn[0][0]          \n",
      "__________________________________________________________________________________________________\n",
      "conv4_block3_3_conv (Conv2D)    (None, None, None, 1 263168      conv4_block3_2_relu[0][0]        \n",
      "__________________________________________________________________________________________________\n",
      "conv4_block3_3_bn (BatchNormali (None, None, None, 1 4096        conv4_block3_3_conv[0][0]        \n",
      "__________________________________________________________________________________________________\n",
      "conv4_block3_add (Add)          (None, None, None, 1 0           conv4_block2_out[0][0]           \n",
      "                                                                 conv4_block3_3_bn[0][0]          \n",
      "__________________________________________________________________________________________________\n",
      "conv4_block3_out (Activation)   (None, None, None, 1 0           conv4_block3_add[0][0]           \n",
      "__________________________________________________________________________________________________\n",
      "conv4_block4_1_conv (Conv2D)    (None, None, None, 2 262400      conv4_block3_out[0][0]           \n",
      "__________________________________________________________________________________________________\n",
      "conv4_block4_1_bn (BatchNormali (None, None, None, 2 1024        conv4_block4_1_conv[0][0]        \n",
      "__________________________________________________________________________________________________\n",
      "conv4_block4_1_relu (Activation (None, None, None, 2 0           conv4_block4_1_bn[0][0]          \n",
      "__________________________________________________________________________________________________\n",
      "conv4_block4_2_conv (Conv2D)    (None, None, None, 2 590080      conv4_block4_1_relu[0][0]        \n",
      "__________________________________________________________________________________________________\n",
      "conv4_block4_2_bn (BatchNormali (None, None, None, 2 1024        conv4_block4_2_conv[0][0]        \n",
      "__________________________________________________________________________________________________\n",
      "conv4_block4_2_relu (Activation (None, None, None, 2 0           conv4_block4_2_bn[0][0]          \n",
      "__________________________________________________________________________________________________\n",
      "conv4_block4_3_conv (Conv2D)    (None, None, None, 1 263168      conv4_block4_2_relu[0][0]        \n",
      "__________________________________________________________________________________________________\n",
      "conv4_block4_3_bn (BatchNormali (None, None, None, 1 4096        conv4_block4_3_conv[0][0]        \n",
      "__________________________________________________________________________________________________\n",
      "conv4_block4_add (Add)          (None, None, None, 1 0           conv4_block3_out[0][0]           \n",
      "                                                                 conv4_block4_3_bn[0][0]          \n",
      "__________________________________________________________________________________________________\n",
      "conv4_block4_out (Activation)   (None, None, None, 1 0           conv4_block4_add[0][0]           \n",
      "__________________________________________________________________________________________________\n",
      "conv4_block5_1_conv (Conv2D)    (None, None, None, 2 262400      conv4_block4_out[0][0]           \n",
      "__________________________________________________________________________________________________\n",
      "conv4_block5_1_bn (BatchNormali (None, None, None, 2 1024        conv4_block5_1_conv[0][0]        \n",
      "__________________________________________________________________________________________________\n",
      "conv4_block5_1_relu (Activation (None, None, None, 2 0           conv4_block5_1_bn[0][0]          \n",
      "__________________________________________________________________________________________________\n",
      "conv4_block5_2_conv (Conv2D)    (None, None, None, 2 590080      conv4_block5_1_relu[0][0]        \n",
      "__________________________________________________________________________________________________\n",
      "conv4_block5_2_bn (BatchNormali (None, None, None, 2 1024        conv4_block5_2_conv[0][0]        \n",
      "__________________________________________________________________________________________________\n",
      "conv4_block5_2_relu (Activation (None, None, None, 2 0           conv4_block5_2_bn[0][0]          \n",
      "__________________________________________________________________________________________________\n",
      "conv4_block5_3_conv (Conv2D)    (None, None, None, 1 263168      conv4_block5_2_relu[0][0]        \n",
      "__________________________________________________________________________________________________\n",
      "conv4_block5_3_bn (BatchNormali (None, None, None, 1 4096        conv4_block5_3_conv[0][0]        \n",
      "__________________________________________________________________________________________________\n",
      "conv4_block5_add (Add)          (None, None, None, 1 0           conv4_block4_out[0][0]           \n",
      "                                                                 conv4_block5_3_bn[0][0]          \n",
      "__________________________________________________________________________________________________\n",
      "conv4_block5_out (Activation)   (None, None, None, 1 0           conv4_block5_add[0][0]           \n",
      "__________________________________________________________________________________________________\n",
      "conv4_block6_1_conv (Conv2D)    (None, None, None, 2 262400      conv4_block5_out[0][0]           \n",
      "__________________________________________________________________________________________________\n",
      "conv4_block6_1_bn (BatchNormali (None, None, None, 2 1024        conv4_block6_1_conv[0][0]        \n",
      "__________________________________________________________________________________________________\n",
      "conv4_block6_1_relu (Activation (None, None, None, 2 0           conv4_block6_1_bn[0][0]          \n",
      "__________________________________________________________________________________________________\n",
      "conv4_block6_2_conv (Conv2D)    (None, None, None, 2 590080      conv4_block6_1_relu[0][0]        \n",
      "__________________________________________________________________________________________________\n",
      "conv4_block6_2_bn (BatchNormali (None, None, None, 2 1024        conv4_block6_2_conv[0][0]        \n",
      "__________________________________________________________________________________________________\n",
      "conv4_block6_2_relu (Activation (None, None, None, 2 0           conv4_block6_2_bn[0][0]          \n",
      "__________________________________________________________________________________________________\n",
      "conv4_block6_3_conv (Conv2D)    (None, None, None, 1 263168      conv4_block6_2_relu[0][0]        \n",
      "__________________________________________________________________________________________________\n",
      "conv4_block6_3_bn (BatchNormali (None, None, None, 1 4096        conv4_block6_3_conv[0][0]        \n",
      "__________________________________________________________________________________________________\n",
      "conv4_block6_add (Add)          (None, None, None, 1 0           conv4_block5_out[0][0]           \n",
      "                                                                 conv4_block6_3_bn[0][0]          \n",
      "__________________________________________________________________________________________________\n",
      "conv4_block6_out (Activation)   (None, None, None, 1 0           conv4_block6_add[0][0]           \n",
      "__________________________________________________________________________________________________\n",
      "conv5_block1_1_conv (Conv2D)    (None, None, None, 5 524800      conv4_block6_out[0][0]           \n",
      "__________________________________________________________________________________________________\n",
      "conv5_block1_1_bn (BatchNormali (None, None, None, 5 2048        conv5_block1_1_conv[0][0]        \n",
      "__________________________________________________________________________________________________\n",
      "conv5_block1_1_relu (Activation (None, None, None, 5 0           conv5_block1_1_bn[0][0]          \n",
      "__________________________________________________________________________________________________\n",
      "conv5_block1_2_conv (Conv2D)    (None, None, None, 5 2359808     conv5_block1_1_relu[0][0]        \n",
      "__________________________________________________________________________________________________\n",
      "conv5_block1_2_bn (BatchNormali (None, None, None, 5 2048        conv5_block1_2_conv[0][0]        \n",
      "__________________________________________________________________________________________________\n",
      "conv5_block1_2_relu (Activation (None, None, None, 5 0           conv5_block1_2_bn[0][0]          \n",
      "__________________________________________________________________________________________________\n",
      "conv5_block1_0_conv (Conv2D)    (None, None, None, 2 2099200     conv4_block6_out[0][0]           \n",
      "__________________________________________________________________________________________________\n",
      "conv5_block1_3_conv (Conv2D)    (None, None, None, 2 1050624     conv5_block1_2_relu[0][0]        \n",
      "__________________________________________________________________________________________________\n",
      "conv5_block1_0_bn (BatchNormali (None, None, None, 2 8192        conv5_block1_0_conv[0][0]        \n",
      "__________________________________________________________________________________________________\n",
      "conv5_block1_3_bn (BatchNormali (None, None, None, 2 8192        conv5_block1_3_conv[0][0]        \n",
      "__________________________________________________________________________________________________\n",
      "conv5_block1_add (Add)          (None, None, None, 2 0           conv5_block1_0_bn[0][0]          \n",
      "                                                                 conv5_block1_3_bn[0][0]          \n",
      "__________________________________________________________________________________________________\n",
      "conv5_block1_out (Activation)   (None, None, None, 2 0           conv5_block1_add[0][0]           \n",
      "__________________________________________________________________________________________________\n",
      "conv5_block2_1_conv (Conv2D)    (None, None, None, 5 1049088     conv5_block1_out[0][0]           \n",
      "__________________________________________________________________________________________________\n",
      "conv5_block2_1_bn (BatchNormali (None, None, None, 5 2048        conv5_block2_1_conv[0][0]        \n",
      "__________________________________________________________________________________________________\n",
      "conv5_block2_1_relu (Activation (None, None, None, 5 0           conv5_block2_1_bn[0][0]          \n",
      "__________________________________________________________________________________________________\n",
      "conv5_block2_2_conv (Conv2D)    (None, None, None, 5 2359808     conv5_block2_1_relu[0][0]        \n",
      "__________________________________________________________________________________________________\n",
      "conv5_block2_2_bn (BatchNormali (None, None, None, 5 2048        conv5_block2_2_conv[0][0]        \n",
      "__________________________________________________________________________________________________\n",
      "conv5_block2_2_relu (Activation (None, None, None, 5 0           conv5_block2_2_bn[0][0]          \n",
      "__________________________________________________________________________________________________\n",
      "conv5_block2_3_conv (Conv2D)    (None, None, None, 2 1050624     conv5_block2_2_relu[0][0]        \n",
      "__________________________________________________________________________________________________\n",
      "conv5_block2_3_bn (BatchNormali (None, None, None, 2 8192        conv5_block2_3_conv[0][0]        \n",
      "__________________________________________________________________________________________________\n",
      "conv5_block2_add (Add)          (None, None, None, 2 0           conv5_block1_out[0][0]           \n",
      "                                                                 conv5_block2_3_bn[0][0]          \n",
      "__________________________________________________________________________________________________\n",
      "conv5_block2_out (Activation)   (None, None, None, 2 0           conv5_block2_add[0][0]           \n",
      "__________________________________________________________________________________________________\n",
      "conv5_block3_1_conv (Conv2D)    (None, None, None, 5 1049088     conv5_block2_out[0][0]           \n",
      "__________________________________________________________________________________________________\n",
      "conv5_block3_1_bn (BatchNormali (None, None, None, 5 2048        conv5_block3_1_conv[0][0]        \n",
      "__________________________________________________________________________________________________\n",
      "conv5_block3_1_relu (Activation (None, None, None, 5 0           conv5_block3_1_bn[0][0]          \n",
      "__________________________________________________________________________________________________\n",
      "conv5_block3_2_conv (Conv2D)    (None, None, None, 5 2359808     conv5_block3_1_relu[0][0]        \n",
      "__________________________________________________________________________________________________\n",
      "conv5_block3_2_bn (BatchNormali (None, None, None, 5 2048        conv5_block3_2_conv[0][0]        \n",
      "__________________________________________________________________________________________________\n",
      "conv5_block3_2_relu (Activation (None, None, None, 5 0           conv5_block3_2_bn[0][0]          \n",
      "__________________________________________________________________________________________________\n",
      "conv5_block3_3_conv (Conv2D)    (None, None, None, 2 1050624     conv5_block3_2_relu[0][0]        \n",
      "__________________________________________________________________________________________________\n",
      "conv5_block3_3_bn (BatchNormali (None, None, None, 2 8192        conv5_block3_3_conv[0][0]        \n",
      "__________________________________________________________________________________________________\n",
      "conv5_block3_add (Add)          (None, None, None, 2 0           conv5_block2_out[0][0]           \n",
      "                                                                 conv5_block3_3_bn[0][0]          \n",
      "__________________________________________________________________________________________________\n",
      "conv5_block3_out (Activation)   (None, None, None, 2 0           conv5_block3_add[0][0]           \n",
      "==================================================================================================\n",
      "Total params: 23,587,712\n",
      "Trainable params: 23,534,592\n",
      "Non-trainable params: 53,120\n",
      "__________________________________________________________________________________________________\n"
     ]
    }
   ],
   "source": []
  },
  {
   "cell_type": "code",
   "execution_count": 32,
   "metadata": {},
   "outputs": [
    {
     "data": {
      "text/plain": [
       "array([655, 521, 600, 560, 582, 544, 591, 694, 597, 652])"
      ]
     },
     "execution_count": 32,
     "metadata": {},
     "output_type": "execute_result"
    }
   ],
   "source": [
    "np.random.randint(500, 699, 10)"
   ]
  },
  {
   "cell_type": "code",
   "execution_count": null,
   "metadata": {},
   "outputs": [],
   "source": []
  },
  {
   "cell_type": "code",
   "execution_count": null,
   "metadata": {},
   "outputs": [],
   "source": []
  },
  {
   "cell_type": "code",
   "execution_count": null,
   "metadata": {},
   "outputs": [],
   "source": []
  }
 ],
 "metadata": {
  "kernelspec": {
   "display_name": "Python 3",
   "language": "python",
   "name": "python3"
  },
  "language_info": {
   "codemirror_mode": {
    "name": "ipython",
    "version": 3
   },
   "file_extension": ".py",
   "mimetype": "text/x-python",
   "name": "python",
   "nbconvert_exporter": "python",
   "pygments_lexer": "ipython3",
   "version": "3.7.4"
  }
 },
 "nbformat": 4,
 "nbformat_minor": 2
}
