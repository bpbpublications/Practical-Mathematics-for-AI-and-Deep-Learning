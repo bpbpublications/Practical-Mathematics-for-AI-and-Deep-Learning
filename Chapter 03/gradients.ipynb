{
 "cells": [
  {
   "cell_type": "code",
   "execution_count": 1,
   "metadata": {},
   "outputs": [],
   "source": [
    "import tensorflow as tf"
   ]
  },
  {
   "cell_type": "code",
   "execution_count": 2,
   "metadata": {},
   "outputs": [],
   "source": [
    "import numpy as np"
   ]
  },
  {
   "cell_type": "code",
   "execution_count": 3,
   "metadata": {},
   "outputs": [
    {
     "data": {
      "text/plain": [
       "array([[[ 0,  1,  2],\n",
       "        [ 3,  4,  5]],\n",
       "\n",
       "       [[ 6,  7,  8],\n",
       "        [ 9, 10, 11]],\n",
       "\n",
       "       [[12, 13, 14],\n",
       "        [15, 16, 17]],\n",
       "\n",
       "       [[18, 19, 20],\n",
       "        [21, 22, 23]]])"
      ]
     },
     "execution_count": 3,
     "metadata": {},
     "output_type": "execute_result"
    }
   ],
   "source": [
    "A = np.arange(24).reshape(4,2,3)\n",
    "A"
   ]
  },
  {
   "cell_type": "code",
   "execution_count": 4,
   "metadata": {},
   "outputs": [
    {
     "data": {
      "text/plain": [
       "array([[[1., 1.],\n",
       "        [1., 1.],\n",
       "        [1., 1.]],\n",
       "\n",
       "       [[1., 1.],\n",
       "        [1., 1.],\n",
       "        [1., 1.]]])"
      ]
     },
     "execution_count": 4,
     "metadata": {},
     "output_type": "execute_result"
    }
   ],
   "source": [
    "B = np.ones(12).reshape(2,3,2)\n",
    "B"
   ]
  },
  {
   "cell_type": "code",
   "execution_count": 5,
   "metadata": {},
   "outputs": [],
   "source": [
    "k=2"
   ]
  },
  {
   "cell_type": "code",
   "execution_count": 6,
   "metadata": {},
   "outputs": [
    {
     "data": {
      "text/plain": [
       "2"
      ]
     },
     "execution_count": 6,
     "metadata": {},
     "output_type": "execute_result"
    }
   ],
   "source": [
    "len(A.shape)+len(B.shape)-2*k"
   ]
  },
  {
   "cell_type": "code",
   "execution_count": 7,
   "metadata": {},
   "outputs": [
    {
     "data": {
      "text/plain": [
       "array([[ 15.,  15.],\n",
       "       [ 51.,  51.],\n",
       "       [ 87.,  87.],\n",
       "       [123., 123.]])"
      ]
     },
     "execution_count": 7,
     "metadata": {},
     "output_type": "execute_result"
    }
   ],
   "source": [
    "o1 = np.tensordot(A, B, axes=[[1, 2],[0, 1]])\n",
    "o1"
   ]
  },
  {
   "cell_type": "code",
   "execution_count": 8,
   "metadata": {},
   "outputs": [
    {
     "data": {
      "text/plain": [
       "array([[0., 0., 0., 0.],\n",
       "       [0., 1., 0., 0.],\n",
       "       [0., 0., 0., 0.],\n",
       "       [0., 0., 0., 0.]])"
      ]
     },
     "execution_count": 8,
     "metadata": {},
     "output_type": "execute_result"
    }
   ],
   "source": [
    "e1 = np.array([1.,0.,0.,0])\n",
    "e2 = np.array([0.,1.,0.,0.])\n",
    "e3 = np.array([0.,0.,1.,0])\n",
    "e4 = np.array([0.,0.,0.,1.])\n",
    "np.tensordot(e2, e2, axes=0) #passing axes=0 computes outer product"
   ]
  },
  {
   "cell_type": "code",
   "execution_count": 9,
   "metadata": {},
   "outputs": [],
   "source": [
    "e1,e2,e3,e4 = np.eye(4)"
   ]
  },
  {
   "cell_type": "code",
   "execution_count": 10,
   "metadata": {},
   "outputs": [
    {
     "data": {
      "text/plain": [
       "array([1., 2., 3., 4.])"
      ]
     },
     "execution_count": 10,
     "metadata": {},
     "output_type": "execute_result"
    }
   ],
   "source": [
    "x=np.array([1.,2.,3.,4.])\n",
    "x"
   ]
  },
  {
   "cell_type": "code",
   "execution_count": 11,
   "metadata": {},
   "outputs": [
    {
     "data": {
      "text/plain": [
       "array([[1., 0., 0., 0.],\n",
       "       [0., 0., 0., 0.],\n",
       "       [0., 0., 0., 0.],\n",
       "       [0., 0., 0., 0.]])"
      ]
     },
     "execution_count": 11,
     "metadata": {},
     "output_type": "execute_result"
    }
   ],
   "source": [
    "I11 = x[0]*np.tensordot(e1, e1, axes=0) #passing axes=0 computes outer product\n",
    "I22 = x[1]*np.tensordot(e2, e2, axes=0) #passing axes=0 computes outer product\n",
    "I33 = x[2]*np.tensordot(e3, e3, axes=0) #passing axes=0 computes outer product\n",
    "I44 = x[3]*np.tensordot(e4, e4, axes=0) #passing axes=0 computes outer product\n",
    "I11"
   ]
  },
  {
   "cell_type": "code",
   "execution_count": 12,
   "metadata": {},
   "outputs": [
    {
     "data": {
      "text/plain": [
       "array([[[1., 1., 1., 1.],\n",
       "        [0., 0., 0., 0.],\n",
       "        [0., 0., 0., 0.],\n",
       "        [0., 0., 0., 0.]],\n",
       "\n",
       "       [[0., 0., 0., 0.],\n",
       "        [2., 2., 2., 2.],\n",
       "        [0., 0., 0., 0.],\n",
       "        [0., 0., 0., 0.]],\n",
       "\n",
       "       [[0., 0., 0., 0.],\n",
       "        [0., 0., 0., 0.],\n",
       "        [3., 3., 3., 3.],\n",
       "        [0., 0., 0., 0.]],\n",
       "\n",
       "       [[0., 0., 0., 0.],\n",
       "        [0., 0., 0., 0.],\n",
       "        [0., 0., 0., 0.],\n",
       "        [4., 4., 4., 4.]]])"
      ]
     },
     "execution_count": 12,
     "metadata": {},
     "output_type": "execute_result"
    }
   ],
   "source": [
    "np.tensordot(I11,e1 , axes=0)+np.tensordot(I11,e2 , axes=0)+np.tensordot(I11,e3 , axes=0)+np.tensordot(I11,e4 , axes=0)\\\n",
    "+np.tensordot(I22,e1 , axes=0)+np.tensordot(I22,e2 , axes=0)+np.tensordot(I22,e3 , axes=0)+np.tensordot(I22,e4 , axes=0)\\\n",
    "+np.tensordot(I33,e1 , axes=0)+np.tensordot(I33,e2 , axes=0)+np.tensordot(I33,e3 , axes=0)+np.tensordot(I33,e4 , axes=0)\\\n",
    "+np.tensordot(I44,e1 , axes=0)+np.tensordot(I44,e2 , axes=0)+np.tensordot(I44,e3 , axes=0)+np.tensordot(I44,e4 , axes=0)\\"
   ]
  },
  {
   "cell_type": "code",
   "execution_count": 13,
   "metadata": {
    "scrolled": true
   },
   "outputs": [
    {
     "name": "stdout",
     "output_type": "stream",
     "text": [
      "[[[1. 2. 3. 4.]\n",
      "  [0. 0. 0. 0.]\n",
      "  [0. 0. 0. 0.]\n",
      "  [0. 0. 0. 0.]]\n",
      "\n",
      " [[0. 0. 0. 0.]\n",
      "  [1. 2. 3. 4.]\n",
      "  [0. 0. 0. 0.]\n",
      "  [0. 0. 0. 0.]]\n",
      "\n",
      " [[0. 0. 0. 0.]\n",
      "  [0. 0. 0. 0.]\n",
      "  [1. 2. 3. 4.]\n",
      "  [0. 0. 0. 0.]]\n",
      "\n",
      " [[0. 0. 0. 0.]\n",
      "  [0. 0. 0. 0.]\n",
      "  [0. 0. 0. 0.]\n",
      "  [1. 2. 3. 4.]]]\n"
     ]
    }
   ],
   "source": [
    "out = None\n",
    "for k, ek in enumerate([e1,e2,e3,e4]):\n",
    "    for j, ej in enumerate([e1,e2,e3,e4]):\n",
    "        tmp = x[k]*np.tensordot(ej,ej , axes=0)\n",
    "        if out is not None:\n",
    "            out += np.tensordot(tmp, ek,axes=0)\n",
    "        else:\n",
    "            out = np.tensordot(tmp, ek,axes=0)\n",
    "print(out)        "
   ]
  },
  {
   "cell_type": "code",
   "execution_count": 14,
   "metadata": {},
   "outputs": [
    {
     "ename": "NameError",
     "evalue": "name 'a' is not defined",
     "output_type": "error",
     "traceback": [
      "\u001b[1;31m---------------------------------------------------------------------------\u001b[0m",
      "\u001b[1;31mNameError\u001b[0m                                 Traceback (most recent call last)",
      "\u001b[1;32m<ipython-input-14-4674761d8fcf>\u001b[0m in \u001b[0;36m<module>\u001b[1;34m\u001b[0m\n\u001b[1;32m----> 1\u001b[1;33m \u001b[0mo2\u001b[0m \u001b[1;33m=\u001b[0m \u001b[0mnp\u001b[0m\u001b[1;33m.\u001b[0m\u001b[0meinsum\u001b[0m\u001b[1;33m(\u001b[0m\u001b[1;34m\"pqr, qrs->ps\"\u001b[0m\u001b[1;33m,\u001b[0m \u001b[0ma\u001b[0m\u001b[1;33m,\u001b[0m\u001b[0mb\u001b[0m\u001b[1;33m)\u001b[0m\u001b[1;33m\u001b[0m\u001b[1;33m\u001b[0m\u001b[0m\n\u001b[0m\u001b[0;32m      2\u001b[0m \u001b[0mo2\u001b[0m\u001b[1;33m\u001b[0m\u001b[1;33m\u001b[0m\u001b[0m\n",
      "\u001b[1;31mNameError\u001b[0m: name 'a' is not defined"
     ]
    }
   ],
   "source": [
    "o2 = np.einsum(\"pqr, qrs->ps\", a,b)\n",
    "o2"
   ]
  },
  {
   "cell_type": "code",
   "execution_count": 20,
   "metadata": {},
   "outputs": [
    {
     "data": {
      "text/plain": [
       "(2, 3)"
      ]
     },
     "execution_count": 20,
     "metadata": {},
     "output_type": "execute_result"
    }
   ],
   "source": [
    "A.shape[-2:]"
   ]
  },
  {
   "cell_type": "code",
   "execution_count": 50,
   "metadata": {},
   "outputs": [
    {
     "data": {
      "text/plain": [
       "[4, 2]"
      ]
     },
     "execution_count": 50,
     "metadata": {},
     "output_type": "execute_result"
    }
   ],
   "source": [
    "k =2\n",
    "list(A.shape[:-k]) + list(B.shape[k:])"
   ]
  },
  {
   "cell_type": "code",
   "execution_count": 45,
   "metadata": {},
   "outputs": [
    {
     "data": {
      "text/plain": [
       "((4, 2, 3), (2, 3, 2))"
      ]
     },
     "execution_count": 45,
     "metadata": {},
     "output_type": "execute_result"
    }
   ],
   "source": [
    "A.shape, B.shape"
   ]
  },
  {
   "cell_type": "code",
   "execution_count": 51,
   "metadata": {},
   "outputs": [
    {
     "name": "stdout",
     "output_type": "stream",
     "text": [
      "(4, 2)\n"
     ]
    },
    {
     "data": {
      "text/plain": [
       "array([[ 15.,  15.],\n",
       "       [ 51.,  51.],\n",
       "       [ 87.,  87.],\n",
       "       [123., 123.]])"
      ]
     },
     "execution_count": 51,
     "metadata": {},
     "output_type": "execute_result"
    }
   ],
   "source": [
    "out = np.zeros(A.shape[:-k]+B.shape[k:])\n",
    "print(out.shape)\n",
    "for p in range(4):\n",
    "    for q in range(2):\n",
    "        for r in range(3):\n",
    "            for s in range(2):\n",
    "                out[p, s]+=A[p,q,r]*B[q, r,s]\n",
    "out"
   ]
  },
  {
   "cell_type": "code",
   "execution_count": 47,
   "metadata": {},
   "outputs": [
    {
     "data": {
      "text/plain": [
       "array([[ 15.,  15.],\n",
       "       [ 51.,  51.],\n",
       "       [ 87.,  87.],\n",
       "       [123., 123.]])"
      ]
     },
     "execution_count": 47,
     "metadata": {},
     "output_type": "execute_result"
    }
   ],
   "source": [
    "out1 = np.tensordot(A, B, axes=[[1, 2],[0, 1]])\n",
    "out1"
   ]
  },
  {
   "cell_type": "code",
   "execution_count": 51,
   "metadata": {},
   "outputs": [
    {
     "data": {
      "text/plain": [
       "array([[ 15.,  15.],\n",
       "       [ 51.,  51.],\n",
       "       [ 87.,  87.],\n",
       "       [123., 123.]])"
      ]
     },
     "execution_count": 51,
     "metadata": {},
     "output_type": "execute_result"
    }
   ],
   "source": [
    "out = np.zeros(A.shape[:-k]+B.shape[k:])\n",
    "for p in range(4):\n",
    "    for s in range(2):\n",
    "        for q in range(2):\n",
    "            for r in range(3):\n",
    "                out[p, s]+=a[p,q,r]*b[q, r,s]\n",
    "out"
   ]
  },
  {
   "cell_type": "code",
   "execution_count": 52,
   "metadata": {},
   "outputs": [
    {
     "data": {
      "text/plain": [
       "array([[ True,  True],\n",
       "       [ True,  True],\n",
       "       [ True,  True],\n",
       "       [ True,  True]])"
      ]
     },
     "execution_count": 52,
     "metadata": {},
     "output_type": "execute_result"
    }
   ],
   "source": [
    "np.equal(out, o1)"
   ]
  },
  {
   "cell_type": "code",
   "execution_count": 53,
   "metadata": {},
   "outputs": [],
   "source": [
    "M = np.arange(12).reshape((3,4))"
   ]
  },
  {
   "cell_type": "code",
   "execution_count": 54,
   "metadata": {},
   "outputs": [],
   "source": [
    "out = np.tensordot(M, M, ([0,1], [0,1]))\n",
    "fob_norm = np.array(np.linalg.norm(M)**2)"
   ]
  },
  {
   "cell_type": "code",
   "execution_count": 55,
   "metadata": {},
   "outputs": [
    {
     "name": "stdout",
     "output_type": "stream",
     "text": [
      "True\n"
     ]
    }
   ],
   "source": [
    "print(fob_norm==out)"
   ]
  },
  {
   "cell_type": "markdown",
   "metadata": {},
   "source": [
    "Outer Product"
   ]
  },
  {
   "cell_type": "code",
   "execution_count": 56,
   "metadata": {},
   "outputs": [],
   "source": [
    "e1 = np.zeros([4, 1]);e2 = np.zeros([4, 1]);"
   ]
  },
  {
   "cell_type": "code",
   "execution_count": 57,
   "metadata": {},
   "outputs": [],
   "source": [
    "e1[2, 0] = 1; e2[3, 0] = 1"
   ]
  },
  {
   "cell_type": "code",
   "execution_count": 58,
   "metadata": {},
   "outputs": [
    {
     "data": {
      "text/plain": [
       "array(0.)"
      ]
     },
     "execution_count": 58,
     "metadata": {},
     "output_type": "execute_result"
    }
   ],
   "source": [
    "np.tensordot(e1, e2, ((1,0),(1,0)))"
   ]
  },
  {
   "cell_type": "code",
   "execution_count": 59,
   "metadata": {},
   "outputs": [
    {
     "data": {
      "text/plain": [
       "TensorShape([4, 1])"
      ]
     },
     "execution_count": 59,
     "metadata": {},
     "output_type": "execute_result"
    }
   ],
   "source": [
    "W = tf.random.uniform(shape=[4,4])\n",
    "x = tf.expand_dims(tf.Variable([1., 2., 3., 4]), axis =1)\n",
    "x.shape"
   ]
  },
  {
   "cell_type": "code",
   "execution_count": 60,
   "metadata": {},
   "outputs": [
    {
     "name": "stdout",
     "output_type": "stream",
     "text": [
      "WARNING:tensorflow:AutoGraph could not transform <function pfor.<locals>.f at 0x00000227CFCC10D8> and will run it as-is.\n",
      "Please report this to the TensorFlow team. When filing the bug, set the verbosity to 10 (on Linux, `export AUTOGRAPH_VERBOSITY=10`) and attach the full output.\n",
      "Cause: 'arguments' object has no attribute 'posonlyargs'\n",
      "To silence this warning, decorate the function with @tf.autograph.experimental.do_not_convert\n",
      "WARNING: AutoGraph could not transform <function pfor.<locals>.f at 0x00000227CFCC10D8> and will run it as-is.\n",
      "Please report this to the TensorFlow team. When filing the bug, set the verbosity to 10 (on Linux, `export AUTOGRAPH_VERBOSITY=10`) and attach the full output.\n",
      "Cause: 'arguments' object has no attribute 'posonlyargs'\n",
      "To silence this warning, decorate the function with @tf.autograph.experimental.do_not_convert\n"
     ]
    }
   ],
   "source": [
    "with tf.GradientTape() as tape:\n",
    "    tape.watch(W)\n",
    "    y = tf.sigmoid(tf.matmul(W,x))\n",
    "dy_dW  = tape.jacobian(y, W)"
   ]
  },
  {
   "cell_type": "code",
   "execution_count": 61,
   "metadata": {},
   "outputs": [
    {
     "name": "stdout",
     "output_type": "stream",
     "text": [
      "dy_dW = [[[[0.00173547 0.00347093 0.0052064  0.00694187]\n",
      "   [0.         0.         0.         0.        ]\n",
      "   [0.         0.         0.         0.        ]\n",
      "   [0.         0.         0.         0.        ]]]\n",
      "\n",
      "\n",
      " [[[0.         0.         0.         0.        ]\n",
      "   [0.01806237 0.03612474 0.05418712 0.07224949]\n",
      "   [0.         0.         0.         0.        ]\n",
      "   [0.         0.         0.         0.        ]]]\n",
      "\n",
      "\n",
      " [[[0.         0.         0.         0.        ]\n",
      "   [0.         0.         0.         0.        ]\n",
      "   [0.00116469 0.00232937 0.00349406 0.00465874]\n",
      "   [0.         0.         0.         0.        ]]]\n",
      "\n",
      "\n",
      " [[[0.         0.         0.         0.        ]\n",
      "   [0.         0.         0.         0.        ]\n",
      "   [0.         0.         0.         0.        ]\n",
      "   [0.00210092 0.00420185 0.00630277 0.00840369]]]] \n"
     ]
    },
    {
     "data": {
      "text/plain": [
       "(None, TensorShape([4, 1, 4, 4]))"
      ]
     },
     "execution_count": 61,
     "metadata": {},
     "output_type": "execute_result"
    }
   ],
   "source": [
    "print(\"dy_dW = {} \".format(dy_dW)), dy_dW.shape"
   ]
  },
  {
   "cell_type": "code",
   "execution_count": 124,
   "metadata": {},
   "outputs": [
    {
     "data": {
      "text/plain": [
       "<tf.Tensor: shape=(4, 1), dtype=float32, numpy=\n",
       "array([[0.02186307],\n",
       "       [0.00421308],\n",
       "       [0.01294293],\n",
       "       [0.00108958]], dtype=float32)>"
      ]
     },
     "execution_count": 124,
     "metadata": {},
     "output_type": "execute_result"
    }
   ],
   "source": [
    "y = tf.matmul(W,x)\n",
    "y1=tf.sigmoid(y)*(1-tf.sigmoid(y))\n",
    "y1"
   ]
  },
  {
   "cell_type": "code",
   "execution_count": 136,
   "metadata": {},
   "outputs": [
    {
     "data": {
      "text/plain": [
       "array([[0.02186307, 0.        , 0.        , 0.        ],\n",
       "       [0.        , 0.00421308, 0.        , 0.        ],\n",
       "       [0.        , 0.        , 0.01294293, 0.        ],\n",
       "       [0.        , 0.        , 0.        , 0.00108958]])"
      ]
     },
     "execution_count": 136,
     "metadata": {},
     "output_type": "execute_result"
    }
   ],
   "source": [
    "sig_grad = None\n",
    "for i, ei in enumerate([e1,e2,e3,e4]):\n",
    "    if sig_grad is None:\n",
    "        sig_grad = np.tensordot(y1[i]*ei,ei , axes=0)\n",
    "    else:\n",
    "        sig_grad += np.tensordot(y1[i]*ei,ei , axes=0)\n",
    "sig_grad"
   ]
  },
  {
   "cell_type": "code",
   "execution_count": 137,
   "metadata": {},
   "outputs": [
    {
     "name": "stdout",
     "output_type": "stream",
     "text": [
      "[[[1. 2. 3. 4.]\n",
      "  [0. 0. 0. 0.]\n",
      "  [0. 0. 0. 0.]\n",
      "  [0. 0. 0. 0.]]\n",
      "\n",
      " [[0. 0. 0. 0.]\n",
      "  [1. 2. 3. 4.]\n",
      "  [0. 0. 0. 0.]\n",
      "  [0. 0. 0. 0.]]\n",
      "\n",
      " [[0. 0. 0. 0.]\n",
      "  [0. 0. 0. 0.]\n",
      "  [1. 2. 3. 4.]\n",
      "  [0. 0. 0. 0.]]\n",
      "\n",
      " [[0. 0. 0. 0.]\n",
      "  [0. 0. 0. 0.]\n",
      "  [0. 0. 0. 0.]\n",
      "  [1. 2. 3. 4.]]]\n"
     ]
    }
   ],
   "source": [
    "grad_linear = None\n",
    "for k, ek in enumerate([e1,e2,e3,e4]):\n",
    "    for j, ej in enumerate([e1,e2,e3,e4]):\n",
    "        tmp = x[k]*np.tensordot(ej,ej , axes=0)\n",
    "        if grad_linear is not None:\n",
    "            grad_linear += np.tensordot(tmp, ek,axes=0)\n",
    "        else:\n",
    "            grad_linear = np.tensordot(tmp, ek,axes=0)\n",
    "print(grad_linear)        "
   ]
  },
  {
   "cell_type": "code",
   "execution_count": 173,
   "metadata": {},
   "outputs": [
    {
     "data": {
      "text/plain": [
       "array([[[0.02186307, 0.04372615, 0.06558922, 0.08745229],\n",
       "        [0.        , 0.        , 0.        , 0.        ],\n",
       "        [0.        , 0.        , 0.        , 0.        ],\n",
       "        [0.        , 0.        , 0.        , 0.        ]],\n",
       "\n",
       "       [[0.        , 0.        , 0.        , 0.        ],\n",
       "        [0.00421308, 0.00842615, 0.01263923, 0.0168523 ],\n",
       "        [0.        , 0.        , 0.        , 0.        ],\n",
       "        [0.        , 0.        , 0.        , 0.        ]],\n",
       "\n",
       "       [[0.        , 0.        , 0.        , 0.        ],\n",
       "        [0.        , 0.        , 0.        , 0.        ],\n",
       "        [0.01294293, 0.02588586, 0.03882878, 0.05177171],\n",
       "        [0.        , 0.        , 0.        , 0.        ]],\n",
       "\n",
       "       [[0.        , 0.        , 0.        , 0.        ],\n",
       "        [0.        , 0.        , 0.        , 0.        ],\n",
       "        [0.        , 0.        , 0.        , 0.        ],\n",
       "        [0.00108958, 0.00217915, 0.00326873, 0.0043583 ]]])"
      ]
     },
     "execution_count": 173,
     "metadata": {},
     "output_type": "execute_result"
    }
   ],
   "source": [
    "grad = None\n",
    "for j, ej in enumerate([e1,e2,e3,e4]):\n",
    "    for k, ek in enumerate([e1,e2,e3,e4]):\n",
    "        tmp = np.tensordot(ej,ek , axes=0)\n",
    "        if grad is not None:\n",
    "            grad+= np.tensordot( x[k]*y1[j]*ej,tmp,axes=0)\n",
    "        else:\n",
    "            grad = np.tensordot(x[k]*y1[j]*ej,tmp,axes=0)\n",
    "grad"
   ]
  },
  {
   "cell_type": "code",
   "execution_count": 147,
   "metadata": {},
   "outputs": [
    {
     "data": {
      "text/plain": [
       "((4, 4), (4, 4, 4))"
      ]
     },
     "execution_count": 147,
     "metadata": {},
     "output_type": "execute_result"
    }
   ],
   "source": [
    "sig_grad.shape, grad_linear.shape"
   ]
  },
  {
   "cell_type": "code",
   "execution_count": 171,
   "metadata": {},
   "outputs": [
    {
     "data": {
      "text/plain": [
       "array([[[0.02186307, 0.04372615, 0.06558922, 0.08745229],\n",
       "        [0.        , 0.        , 0.        , 0.        ],\n",
       "        [0.        , 0.        , 0.        , 0.        ],\n",
       "        [0.        , 0.        , 0.        , 0.        ]],\n",
       "\n",
       "       [[0.        , 0.        , 0.        , 0.        ],\n",
       "        [0.00421308, 0.00842615, 0.01263923, 0.0168523 ],\n",
       "        [0.        , 0.        , 0.        , 0.        ],\n",
       "        [0.        , 0.        , 0.        , 0.        ]],\n",
       "\n",
       "       [[0.        , 0.        , 0.        , 0.        ],\n",
       "        [0.        , 0.        , 0.        , 0.        ],\n",
       "        [0.01294293, 0.02588586, 0.03882878, 0.05177171],\n",
       "        [0.        , 0.        , 0.        , 0.        ]],\n",
       "\n",
       "       [[0.        , 0.        , 0.        , 0.        ],\n",
       "        [0.        , 0.        , 0.        , 0.        ],\n",
       "        [0.        , 0.        , 0.        , 0.        ],\n",
       "        [0.00108958, 0.00217915, 0.00326873, 0.0043583 ]]])"
      ]
     },
     "execution_count": 171,
     "metadata": {},
     "output_type": "execute_result"
    }
   ],
   "source": [
    "np.tensordot(sig_grad, grad_linear , axes=1) #dot product"
   ]
  },
  {
   "cell_type": "code",
   "execution_count": 5,
   "metadata": {},
   "outputs": [
    {
     "data": {
      "text/plain": [
       "<tf.Tensor: shape=(3, 1, 3, 3), dtype=float32, numpy=\n",
       "array([[[[1., 0., 0.],\n",
       "         [0., 1., 0.],\n",
       "         [0., 0., 1.]]],\n",
       "\n",
       "\n",
       "       [[[2., 0., 0.],\n",
       "         [0., 2., 0.],\n",
       "         [0., 0., 2.]]],\n",
       "\n",
       "\n",
       "       [[[3., 0., 0.],\n",
       "         [0., 3., 0.],\n",
       "         [0., 0., 3.]]]], dtype=float32)>"
      ]
     },
     "execution_count": 5,
     "metadata": {},
     "output_type": "execute_result"
    }
   ],
   "source": [
    "tf.tensordot(x, tf.eye(3), axes=0)"
   ]
  },
  {
   "cell_type": "code",
   "execution_count": 6,
   "metadata": {},
   "outputs": [],
   "source": [
    "with tf.GradientTape(watch_accessed_variables=False) as tape:\n",
    "    tape.watch(x)\n",
    "    y = tf.math.sigmoid(tf.matmul(W,x))\n",
    "dy_dx  = tape.jacobian(y, x)"
   ]
  },
  {
   "cell_type": "code",
   "execution_count": 7,
   "metadata": {},
   "outputs": [
    {
     "data": {
      "text/plain": [
       "(<tf.Tensor: shape=(2,), dtype=float32, numpy=array([0.9017576 , 0.89370066], dtype=float32)>,\n",
       " <tf.Tensor: shape=(2, 1), dtype=float32, numpy=\n",
       " array([[0.9017576 ],\n",
       "        [0.89370066]], dtype=float32)>,\n",
       " <tf.Tensor: shape=(2, 1, 3, 1), dtype=float32, numpy=\n",
       " array([[[[0.04052413],\n",
       "          [0.00245794],\n",
       "          [0.05031923]]],\n",
       " \n",
       " \n",
       "        [[[0.00055594],\n",
       "          [0.08697002],\n",
       "          [0.00925639]]]], dtype=float32)>)"
      ]
     },
     "execution_count": 7,
     "metadata": {},
     "output_type": "execute_result"
    }
   ],
   "source": [
    "tf.squeeze(y, axis=1),y, dy_dx"
   ]
  },
  {
   "cell_type": "code",
   "execution_count": 8,
   "metadata": {},
   "outputs": [
    {
     "data": {
      "text/plain": [
       "<tf.Tensor: shape=(3, 1), dtype=float32, numpy=\n",
       "array([[0.04108006],\n",
       "       [0.08942796],\n",
       "       [0.05957562]], dtype=float32)>"
      ]
     },
     "execution_count": 8,
     "metadata": {},
     "output_type": "execute_result"
    }
   ],
   "source": [
    "tf.reduce_sum(dy_dx, axis=[0, 1])"
   ]
  },
  {
   "cell_type": "code",
   "execution_count": 9,
   "metadata": {},
   "outputs": [
    {
     "data": {
      "text/plain": [
       "<tf.Tensor: shape=(2, 2), dtype=float32, numpy=\n",
       "array([[0.08859083, 0.        ],\n",
       "       [0.        , 0.09499979]], dtype=float32)>"
      ]
     },
     "execution_count": 9,
     "metadata": {},
     "output_type": "execute_result"
    }
   ],
   "source": [
    "y1 = tf.matmul(W,x)\n",
    "#tf.matmul(tf.matmul(tf.linalg.diag(tf.transpose(tf.math.sigmoid(y1)*(1-tf.math.sigmoid(y1))))[0], W),x)\n",
    "J=tf.linalg.diag(tf.transpose(tf.math.sigmoid(y1)*(1-tf.math.sigmoid(y1))))[0]\n",
    "J"
   ]
  },
  {
   "cell_type": "code",
   "execution_count": 10,
   "metadata": {},
   "outputs": [
    {
     "data": {
      "text/plain": [
       "<tf.Tensor: shape=(3,), dtype=float32, numpy=array([0.04108006, 0.08942796, 0.05957562], dtype=float32)>"
      ]
     },
     "execution_count": 10,
     "metadata": {},
     "output_type": "execute_result"
    }
   ],
   "source": [
    "tf.reduce_sum(tf.matmul(J, W), axis = 0)"
   ]
  },
  {
   "cell_type": "code",
   "execution_count": 11,
   "metadata": {},
   "outputs": [
    {
     "data": {
      "text/plain": [
       "TensorShape([1, 2, 2])"
      ]
     },
     "execution_count": 11,
     "metadata": {},
     "output_type": "execute_result"
    }
   ],
   "source": [
    "tf.linalg.diag(tf.transpose(tf.math.sigmoid(y1))).shape"
   ]
  },
  {
   "cell_type": "code",
   "execution_count": 12,
   "metadata": {},
   "outputs": [],
   "source": [
    "w= tf.Variable(3.)\n",
    "with tf.GradientTape() as tape:\n",
    "    tape.watch(x)\n",
    "    y = tf.nn.sigmoid(w*x)\n",
    "\n",
    "dy_dx = tape.gradient(y, x)"
   ]
  },
  {
   "cell_type": "code",
   "execution_count": 13,
   "metadata": {},
   "outputs": [
    {
     "data": {
      "text/plain": [
       "<tf.Tensor: shape=(3, 1), dtype=float32, numpy=\n",
       "array([[0.13552997],\n",
       "       [0.0073994 ],\n",
       "       [0.0003701 ]], dtype=float32)>"
      ]
     },
     "execution_count": 13,
     "metadata": {},
     "output_type": "execute_result"
    }
   ],
   "source": [
    "dy_dx"
   ]
  },
  {
   "cell_type": "code",
   "execution_count": 14,
   "metadata": {},
   "outputs": [
    {
     "data": {
      "text/plain": [
       "<tf.Tensor: shape=(3, 1), dtype=float32, numpy=\n",
       "array([[0.13552997],\n",
       "       [0.0073994 ],\n",
       "       [0.0003701 ]], dtype=float32)>"
      ]
     },
     "execution_count": 14,
     "metadata": {},
     "output_type": "execute_result"
    }
   ],
   "source": [
    "tf.math.sigmoid(w*x)*(1-tf.math.sigmoid(w*x))*w"
   ]
  },
  {
   "cell_type": "code",
   "execution_count": 8,
   "metadata": {},
   "outputs": [],
   "source": [
    "def step(k, type=1):\n",
    "    if type ==1:\n",
    "        return 2+3/np.math.pow(2, k+1)\n",
    "    elif type==2:\n",
    "        return 1/np.math.pow(2, k+1)\n",
    "    else: return 1"
   ]
  },
  {
   "cell_type": "code",
   "execution_count": 10,
   "metadata": {},
   "outputs": [
    {
     "data": {
      "text/plain": [
       "2.75"
      ]
     },
     "execution_count": 10,
     "metadata": {},
     "output_type": "execute_result"
    }
   ],
   "source": [
    "step(1)"
   ]
  },
  {
   "cell_type": "code",
   "execution_count": 11,
   "metadata": {},
   "outputs": [],
   "source": [
    "x0=2"
   ]
  },
  {
   "cell_type": "code",
   "execution_count": 15,
   "metadata": {},
   "outputs": [],
   "source": [
    "def update(x, k, type=1):\n",
    "    return x+np.sign(-x)*step(k, type)"
   ]
  },
  {
   "cell_type": "code",
   "execution_count": 16,
   "metadata": {},
   "outputs": [
    {
     "data": {
      "text/plain": [
       "-1.5"
      ]
     },
     "execution_count": 16,
     "metadata": {},
     "output_type": "execute_result"
    }
   ],
   "source": [
    "update(x0, 0)"
   ]
  },
  {
   "cell_type": "code",
   "execution_count": 21,
   "metadata": {},
   "outputs": [
    {
     "name": "stdout",
     "output_type": "stream",
     "text": [
      "0 -1.5 2.25\n",
      "1 1.25 1.5625\n",
      "2 -1.125 1.265625\n",
      "3 1.0625 1.12890625\n",
      "4 -1.03125 1.0634765625\n",
      "5 1.015625 1.031494140625\n",
      "6 -1.0078125 1.01568603515625\n",
      "7 1.00390625 1.0078277587890625\n",
      "8 -1.001953125 1.0039100646972656\n",
      "9 1.0009765625 1.0019540786743164\n",
      "10 -1.00048828125 1.000976800918579\n",
      "11 1.000244140625 1.0004883408546448\n",
      "12 -1.0001220703125 1.0002441555261612\n",
      "13 1.00006103515625 1.0001220740377903\n",
      "14 -1.000030517578125 1.0000610360875726\n",
      "15 1.0000152587890625 1.0000305178109556\n",
      "16 -1.0000076293945312 1.0000152588472702\n",
      "17 1.0000038146972656 1.0000076294090832\n",
      "18 -1.0000019073486328 1.0000038147009036\n",
      "19 1.0000009536743164 1.0000019073495423\n"
     ]
    }
   ],
   "source": [
    "x = x0\n",
    "for k in range(20):\n",
    "    x = update(x, k, type=1)\n",
    "    print(k, x, x**2)\n",
    "    k=k+1    "
   ]
  },
  {
   "cell_type": "code",
   "execution_count": 22,
   "metadata": {},
   "outputs": [],
   "source": [
    "import matplotlib.pyplot as plt\n",
    "import numpy as np"
   ]
  },
  {
   "cell_type": "code",
   "execution_count": 23,
   "metadata": {},
   "outputs": [],
   "source": [
    "def Rosenbrock(x, y, a=1, b=10):\n",
    "    return (a-x)**2 + b*(y-x**2)**2"
   ]
  },
  {
   "cell_type": "code",
   "execution_count": 101,
   "metadata": {},
   "outputs": [
    {
     "data": {
      "image/png": "[encoded data removed]",
      "text/plain": [
       "<Figure size 720x504 with 1 Axes>"
      ]
     },
     "metadata": {
      "needs_background": "light"
     },
     "output_type": "display_data"
    }
   ],
   "source": [
    "feature_x = np.linspace(-1.0, 1.5, 1000)\n",
    "feature_y = np.linspace(-1.0, 1.5, 1000)\n",
    "  \n",
    "# Creating 2-D grid of features\n",
    "[X, Y] = np.meshgrid(feature_x, feature_y)\n",
    "  \n",
    "fig, ax = plt.subplots(1, 1, figsize=(10,7))\n",
    "\n",
    "a = 1;b=10;\n",
    "Z = np.square(a-X)+b*np.square((Y-np.square(X)))\n",
    "ax.contour(X, Y, Z, levels=40)\n",
    "ax.set_title('Rosenbrock Contour Plot')\n",
    "ax.set_xlabel('feature_x')\n",
    "ax.set_ylabel('feature_y')\n",
    "plt.plot(x_,y_,)  \n",
    "plt.show()"
   ]
  },
  {
   "cell_type": "code",
   "execution_count": 33,
   "metadata": {},
   "outputs": [
    {
     "data": {
      "text/plain": [
       "array([[-5.        , -4.98998999, -4.97997998, ...,  4.97997998,\n",
       "         4.98998999,  5.        ],\n",
       "       [-5.        , -4.98998999, -4.97997998, ...,  4.97997998,\n",
       "         4.98998999,  5.        ],\n",
       "       [-5.        , -4.98998999, -4.97997998, ...,  4.97997998,\n",
       "         4.98998999,  5.        ],\n",
       "       ...,\n",
       "       [-5.        , -4.98998999, -4.97997998, ...,  4.97997998,\n",
       "         4.98998999,  5.        ],\n",
       "       [-5.        , -4.98998999, -4.97997998, ...,  4.97997998,\n",
       "         4.98998999,  5.        ],\n",
       "       [-5.        , -4.98998999, -4.97997998, ...,  4.97997998,\n",
       "         4.98998999,  5.        ]])"
      ]
     },
     "execution_count": 33,
     "metadata": {},
     "output_type": "execute_result"
    }
   ],
   "source": [
    "X"
   ]
  },
  {
   "cell_type": "code",
   "execution_count": 44,
   "metadata": {},
   "outputs": [],
   "source": [
    "def Rosenbrock(x, y, a=1, b=10):\n",
    "    return (a-x)**2+b*(y-x**2)**2\n",
    "def Rosenbrock_grad(x, y, a=1, b=10):\n",
    "    return np.array([2*(x-a)-4*b*(y-x**2)*x,   2*b*(y-x**2)])"
   ]
  },
  {
   "cell_type": "code",
   "execution_count": 43,
   "metadata": {},
   "outputs": [
    {
     "data": {
      "text/plain": [
       "array([32., 35.])"
      ]
     },
     "execution_count": 43,
     "metadata": {},
     "output_type": "execute_result"
    }
   ],
   "source": [
    "Rosenbrock_grad(-.5, 2.)"
   ]
  },
  {
   "cell_type": "code",
   "execution_count": 130,
   "metadata": {},
   "outputs": [],
   "source": [
    "def line_search(X, descent_dir, alpha= 0.4, beta=.5):\n",
    "    t =1\n",
    "    for i in range(20):\n",
    "        X_new = X + t*descent_dir\n",
    "        if Rosenbrock(X_new[0], X_new[1]) < Rosenbrock(X[0], X[1]) - beta*np.square(np.linalg.norm(descent_dir)):            \n",
    "            return t\n",
    "        #else:\n",
    "        #    print(t, Rosenbrock(X_new[0], X_new[1]) , Rosenbrock(X[0], X[1]) + beta*np.square(np.linalg.norm(descent_dir)))\n",
    "        t = t*alpha\n",
    "    return 1   "
   ]
  },
  {
   "cell_type": "code",
   "execution_count": 128,
   "metadata": {},
   "outputs": [
    {
     "name": "stdout",
     "output_type": "stream",
     "text": [
      "1 290032.875 192.375\n",
      "0.4 10989.171000000004 192.375\n",
      "0.16000000000000003 538.2498096000003 192.375\n"
     ]
    },
    {
     "data": {
      "text/plain": [
       "0.06400000000000002"
      ]
     },
     "execution_count": 128,
     "metadata": {},
     "output_type": "execute_result"
    }
   ],
   "source": [
    "x = np.array([-.5, 1.])\n",
    "line_search(x, -Rosenbrock_grad(x[0], x[1]))"
   ]
  },
  {
   "cell_type": "code",
   "execution_count": 131,
   "metadata": {},
   "outputs": [
    {
     "name": "stdout",
     "output_type": "stream",
     "text": [
      "[-12.5 -14. ] 290032.875\n",
      "[85139.5  3391. ] 5.2544102115035107e+20\n",
      "[-2.46861336e+16  1.44974625e+11] 3.713746854653987e+66\n",
      "[6.01754316e+50 1.21881038e+34] 1.3112238989365244e+204\n",
      "[-8.71600827e+153  7.24216514e+102] inf\n",
      "[inf inf] nan\n",
      "[nan nan] nan\n",
      "[nan nan] nan\n",
      "[nan nan] nan\n",
      "[nan nan] nan\n",
      "[nan nan] nan\n",
      "[nan nan] nan\n",
      "[nan nan] nan\n",
      "[nan nan] nan\n",
      "[nan nan] nan\n",
      "[nan nan] nan\n",
      "[nan nan] nan\n",
      "[nan nan] nan\n",
      "[nan nan] nan\n",
      "[nan nan] nan\n"
     ]
    },
    {
     "name": "stderr",
     "output_type": "stream",
     "text": [
      "C:\\Users\\tghosh\\AppData\\Local\\Continuum\\anaconda3\\envs\\dl2\\lib\\site-packages\\ipykernel_launcher.py:2: RuntimeWarning: overflow encountered in double_scalars\n",
      "  \n",
      "C:\\Users\\tghosh\\AppData\\Local\\Continuum\\anaconda3\\envs\\dl2\\lib\\site-packages\\ipykernel_launcher.py:4: RuntimeWarning: overflow encountered in double_scalars\n",
      "  after removing the cwd from sys.path.\n",
      "C:\\Users\\tghosh\\AppData\\Local\\Continuum\\anaconda3\\envs\\dl2\\lib\\site-packages\\ipykernel_launcher.py:5: RuntimeWarning: invalid value encountered in double_scalars\n",
      "  \"\"\"\n",
      "C:\\Users\\tghosh\\AppData\\Local\\Continuum\\anaconda3\\envs\\dl2\\lib\\site-packages\\ipykernel_launcher.py:2: RuntimeWarning: invalid value encountered in double_scalars\n",
      "  \n",
      "C:\\Users\\tghosh\\AppData\\Local\\Continuum\\anaconda3\\envs\\dl2\\lib\\site-packages\\ipykernel_launcher.py:4: RuntimeWarning: invalid value encountered in double_scalars\n",
      "  after removing the cwd from sys.path.\n"
     ]
    }
   ],
   "source": [
    "#initial point\n",
    "x = np.array([-.5, 1.])\n",
    "t = .02\n",
    "alpha = 0.3\n",
    "x_ = [x[0]];y_=[x[1]]\n",
    "for i in range(20):\n",
    "    t = line_search(x, Rosenbrock_grad(x[0], x[1]))\n",
    "    x = x - t*Rosenbrock_grad(x[0], x[1])\n",
    "    \n",
    "    print(x, Rosenbrock(x[0], x[1]))\n",
    "    x_.append(x[0])\n",
    "    y_.append(x[1])"
   ]
  },
  {
   "cell_type": "code",
   "execution_count": 103,
   "metadata": {},
   "outputs": [
    {
     "data": {
      "text/plain": [
       "0.2563995359435495"
      ]
     },
     "execution_count": 103,
     "metadata": {},
     "output_type": "execute_result"
    }
   ],
   "source": []
  },
  {
   "cell_type": "code",
   "execution_count": 63,
   "metadata": {},
   "outputs": [
    {
     "name": "stdout",
     "output_type": "stream",
     "text": [
      "WARNING:tensorflow:AutoGraph could not transform <function pfor.<locals>.f at 0x00000227CFCC13A8> and will run it as-is.\n",
      "Please report this to the TensorFlow team. When filing the bug, set the verbosity to 10 (on Linux, `export AUTOGRAPH_VERBOSITY=10`) and attach the full output.\n",
      "Cause: 'arguments' object has no attribute 'posonlyargs'\n",
      "To silence this warning, decorate the function with @tf.autograph.experimental.do_not_convert\n",
      "WARNING: AutoGraph could not transform <function pfor.<locals>.f at 0x00000227CFCC13A8> and will run it as-is.\n",
      "Please report this to the TensorFlow team. When filing the bug, set the verbosity to 10 (on Linux, `export AUTOGRAPH_VERBOSITY=10`) and attach the full output.\n",
      "Cause: 'arguments' object has no attribute 'posonlyargs'\n",
      "To silence this warning, decorate the function with @tf.autograph.experimental.do_not_convert\n"
     ]
    },
    {
     "data": {
      "text/plain": [
       "<tf.Tensor: shape=(4, 1, 4, 4), dtype=float32, numpy=\n",
       "array([[[[1., 2., 3., 4.],\n",
       "         [0., 0., 0., 0.],\n",
       "         [0., 0., 0., 0.],\n",
       "         [0., 0., 0., 0.]]],\n",
       "\n",
       "\n",
       "       [[[0., 0., 0., 0.],\n",
       "         [1., 2., 3., 4.],\n",
       "         [0., 0., 0., 0.],\n",
       "         [0., 0., 0., 0.]]],\n",
       "\n",
       "\n",
       "       [[[0., 0., 0., 0.],\n",
       "         [0., 0., 0., 0.],\n",
       "         [1., 2., 3., 4.],\n",
       "         [0., 0., 0., 0.]]],\n",
       "\n",
       "\n",
       "       [[[0., 0., 0., 0.],\n",
       "         [0., 0., 0., 0.],\n",
       "         [0., 0., 0., 0.],\n",
       "         [1., 2., 3., 4.]]]], dtype=float32)>"
      ]
     },
     "execution_count": 63,
     "metadata": {},
     "output_type": "execute_result"
    }
   ],
   "source": [
    "import tensorflow as tf\n",
    "W = tf.random.uniform(shape=[4,4])\n",
    "x = tf.expand_dims(tf.Variable([1., 2., 3., 4]), axis =1)\n",
    "with tf.GradientTape() as tape:\n",
    "    tape.watch(W)\n",
    "    y = tf.matmul(W,x)\n",
    "dy_dW = tape.jacobian(y, W)\n",
    "dy_dW"
   ]
  },
  {
   "cell_type": "code",
   "execution_count": null,
   "metadata": {},
   "outputs": [],
   "source": []
  }
 ],
 "metadata": {
  "kernelspec": {
   "display_name": "Python 3",
   "language": "python",
   "name": "python3"
  },
  "language_info": {
   "codemirror_mode": {
    "name": "ipython",
    "version": 3
   },
   "file_extension": ".py",
   "mimetype": "text/x-python",
   "name": "python",
   "nbconvert_exporter": "python",
   "pygments_lexer": "ipython3",
   "version": "3.7.4"
  }
 },
 "nbformat": 4,
 "nbformat_minor": 2
}
